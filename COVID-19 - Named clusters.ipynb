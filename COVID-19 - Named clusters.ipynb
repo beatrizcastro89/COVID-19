{
 "cells": [
  {
   "cell_type": "markdown",
   "metadata": {},
   "source": [
    "# COVID-19 Open Research Dataset Challenge (CORD-19)\n",
    "![](https://altaonline.typepad.com/.a/6a0192ac343706970d025d9b3673bb200c-800wi)"
   ]
  },
  {
   "cell_type": "markdown",
   "metadata": {},
   "source": [
    "<h2>Goal</h2><br>\n",
    "    This is my third response to the call to action to the artificial intelligence experts (if I can be called one) to develop text and data mining tools that can help the medical community develop answers to high priority scientific questions. For that I will use the CORD-19 dataset, which represents the most extensive machine-readable coronavirus literature collection available for data mining to date. Bellow are the current tasks for this challenge, which will be completed by the creation of a custer graph, a text classification for each cluster and a wordcloud for the main keywords for each cluster for the all_sources_metadata file. There are around 29500 papers in the dataset. These are listed in the all_sources_metadata file. Some of the papers in the metadata are also in JSON files. The eventual goal is to connect the metadata with the JSON data.<br>\n",
    "    <h2>Tasks</h2>\n",
    "    <ul>\n",
    "    <li>What is known about transmission, incubation, and environmental stability?</li>\n",
    "    <li>What do we know about COVID-19 risk factors?</li>\n",
    "    <li>What do we know about virus genetics, origin, and evolution?</li>\n",
    "    <li>Sample task with sample submission</li>\n",
    "    <li>What do we know about vaccines and therapeutics?</li>\n",
    "    <li>What do we know about non-pharmaceutical interventions?</li>\n",
    "    <li>What has been published about ethical and social science considerations?</li>\n",
    "    <li>What do we know about diagnostics and surveillance?</li>\n",
    "    <li>What has been published about medical care?</li>\n",
    "    <li>What has been published about information sharing and inter-sectoral collaboration?</li>\n",
    "    </ul>\n",
    "    <h2>Citations, ups and downs</h2><br>\n",
    "    I tried to do this notebook by myself, which was terrifying. I was still looking forward to testing different NLP solutions (check my other ones <a href='https://www.kaggle.com/beatrizyumi/covid-19-autocomplete-search-bar'>here</a>  and here). I opted for the LDA, because it is easy to implement, has a visual output which is also easy to implement and it is possible to retrieve the main keywords and documents from each topic. On the plus side, you know exactly what each cluster is about, you get to see visualy the main keywords about each cluster, it is easy to implement. On the down side, I had zero experience with this sort of modeling and problem solving, which made the whole ordeal even longer to be solved, and depending on the size of the dataframe, it can take a while to load (mine took a few hours). Besides that I am still working on a way to split authors when they are separated by comma or by semicolon.<br>\n",
    "    <h2>Features of this notebook</h2>\n",
    "<ol><li>Viewing the papers in the metdata csv as a dataframe</li>\n",
    "    <li>Viewing the papers separated by clusters in a graph</li>\n",
    "    <li>Viewing the clusters listed and separated by topics</li>\n",
    "    <li>Having a word cloud for each cluster with it's main keywords</li></ol>\n",
    "    <h2>Turn your internet on!</h2><br>\n",
    "    For this notebook to work your internet must be on."
   ]
  },
  {
   "cell_type": "markdown",
   "metadata": {},
   "source": [
    "# Importing libraries and datasets\n",
    "![](https://media1.giphy.com/media/2yqYwtl5MUa6V405Ib/giphy.gif?cid=790b7611312b8226ba98603f316f4a2740c6e4a11ef228fc&rid=giphy.gif)"
   ]
  },
  {
   "cell_type": "code",
   "execution_count": 1,
   "metadata": {
    "_cell_guid": "b1076dfc-b9ad-4769-8c92-a6c4dae69d19",
    "_uuid": "8f2839f25d086af736a60e9eeb907d3b93b6e0e5"
   },
   "outputs": [],
   "source": [
    "# Importing libraries\n",
    "\n",
    "import sys\n",
    "import os\n",
    "from pathlib import Path\n",
    "import re, numpy as np, pandas as pd\n",
    "from pprint import pprint\n",
    "import json\n",
    "import glob\n",
    "\n",
    "# Gensim\n",
    "import gensim, spacy, logging, warnings\n",
    "import gensim.corpora as corpora\n",
    "from gensim.utils import lemmatize, simple_preprocess\n",
    "from gensim.models import CoherenceModel\n",
    "\n",
    "# NLTK Stop words\n",
    "import nltk\n",
    "from nltk.corpus import stopwords\n",
    "\n",
    "#plotting tools\n",
    "import pyLDAvis\n",
    "import pyLDAvis.gensim\n",
    "import matplotlib.pyplot as plt\n",
    "%matplotlib inline"
   ]
  },
  {
   "cell_type": "code",
   "execution_count": 2,
   "metadata": {
    "_cell_guid": "79c7e3d0-c299-4dcb-8224-4455121ee9b0",
    "_uuid": "d629ff2d2480ee46fbb7e2d37f6b5fab8052498a"
   },
   "outputs": [
    {
     "data": {
      "text/html": [
       "<div>\n",
       "<style scoped>\n",
       "    .dataframe tbody tr th:only-of-type {\n",
       "        vertical-align: middle;\n",
       "    }\n",
       "\n",
       "    .dataframe tbody tr th {\n",
       "        vertical-align: top;\n",
       "    }\n",
       "\n",
       "    .dataframe thead th {\n",
       "        text-align: right;\n",
       "    }\n",
       "</style>\n",
       "<table border=\"1\" class=\"dataframe\">\n",
       "  <thead>\n",
       "    <tr style=\"text-align: right;\">\n",
       "      <th></th>\n",
       "      <th>sha</th>\n",
       "      <th>source_x</th>\n",
       "      <th>title</th>\n",
       "      <th>doi</th>\n",
       "      <th>pmcid</th>\n",
       "      <th>pubmed_id</th>\n",
       "      <th>license</th>\n",
       "      <th>abstract</th>\n",
       "      <th>publish_time</th>\n",
       "      <th>authors</th>\n",
       "      <th>journal</th>\n",
       "      <th>Microsoft Academic Paper ID</th>\n",
       "      <th>WHO #Covidence</th>\n",
       "      <th>has_full_text</th>\n",
       "      <th>full_text_file</th>\n",
       "    </tr>\n",
       "  </thead>\n",
       "  <tbody>\n",
       "    <tr>\n",
       "      <th>0</th>\n",
       "      <td>NaN</td>\n",
       "      <td>Elsevier</td>\n",
       "      <td>Intrauterine virus infections and congenital h...</td>\n",
       "      <td>10.1016/0002-8703(72)90077-4</td>\n",
       "      <td>NaN</td>\n",
       "      <td>4361535</td>\n",
       "      <td>els-covid</td>\n",
       "      <td>Abstract The etiologic basis for the vast majo...</td>\n",
       "      <td>1972-12-31</td>\n",
       "      <td>Overall, James C.</td>\n",
       "      <td>American Heart Journal</td>\n",
       "      <td>NaN</td>\n",
       "      <td>NaN</td>\n",
       "      <td>False</td>\n",
       "      <td>custom_license</td>\n",
       "    </tr>\n",
       "    <tr>\n",
       "      <th>1</th>\n",
       "      <td>NaN</td>\n",
       "      <td>Elsevier</td>\n",
       "      <td>Coronaviruses in Balkan nephritis</td>\n",
       "      <td>10.1016/0002-8703(80)90355-5</td>\n",
       "      <td>NaN</td>\n",
       "      <td>6243850</td>\n",
       "      <td>els-covid</td>\n",
       "      <td>NaN</td>\n",
       "      <td>1980-03-31</td>\n",
       "      <td>Georgescu, Leonida; Diosi, Peter; Buţiu, Ioan;...</td>\n",
       "      <td>American Heart Journal</td>\n",
       "      <td>NaN</td>\n",
       "      <td>NaN</td>\n",
       "      <td>False</td>\n",
       "      <td>custom_license</td>\n",
       "    </tr>\n",
       "    <tr>\n",
       "      <th>2</th>\n",
       "      <td>NaN</td>\n",
       "      <td>Elsevier</td>\n",
       "      <td>Cigarette smoking and coronary heart disease: ...</td>\n",
       "      <td>10.1016/0002-8703(80)90356-7</td>\n",
       "      <td>NaN</td>\n",
       "      <td>7355701</td>\n",
       "      <td>els-covid</td>\n",
       "      <td>NaN</td>\n",
       "      <td>1980-03-31</td>\n",
       "      <td>Friedman, Gary D</td>\n",
       "      <td>American Heart Journal</td>\n",
       "      <td>NaN</td>\n",
       "      <td>NaN</td>\n",
       "      <td>False</td>\n",
       "      <td>custom_license</td>\n",
       "    </tr>\n",
       "    <tr>\n",
       "      <th>3</th>\n",
       "      <td>aecbc613ebdab36753235197ffb4f35734b5ca63</td>\n",
       "      <td>Elsevier</td>\n",
       "      <td>Clinical and immunologic studies in identical ...</td>\n",
       "      <td>10.1016/0002-9343(73)90176-9</td>\n",
       "      <td>NaN</td>\n",
       "      <td>4579077</td>\n",
       "      <td>els-covid</td>\n",
       "      <td>Abstract Middle-aged female identical twins, o...</td>\n",
       "      <td>1973-08-31</td>\n",
       "      <td>Brunner, Carolyn M.; Horwitz, David A.; Shann,...</td>\n",
       "      <td>The American Journal of Medicine</td>\n",
       "      <td>NaN</td>\n",
       "      <td>NaN</td>\n",
       "      <td>True</td>\n",
       "      <td>custom_license</td>\n",
       "    </tr>\n",
       "    <tr>\n",
       "      <th>4</th>\n",
       "      <td>NaN</td>\n",
       "      <td>Elsevier</td>\n",
       "      <td>Epidemiology of community-acquired respiratory...</td>\n",
       "      <td>10.1016/0002-9343(85)90361-4</td>\n",
       "      <td>NaN</td>\n",
       "      <td>4014285</td>\n",
       "      <td>els-covid</td>\n",
       "      <td>Abstract Upper respiratory tract infections ar...</td>\n",
       "      <td>1985-06-28</td>\n",
       "      <td>Garibaldi, Richard A.</td>\n",
       "      <td>The American Journal of Medicine</td>\n",
       "      <td>NaN</td>\n",
       "      <td>NaN</td>\n",
       "      <td>False</td>\n",
       "      <td>custom_license</td>\n",
       "    </tr>\n",
       "  </tbody>\n",
       "</table>\n",
       "</div>"
      ],
      "text/plain": [
       "                                        sha  source_x  \\\n",
       "0                                       NaN  Elsevier   \n",
       "1                                       NaN  Elsevier   \n",
       "2                                       NaN  Elsevier   \n",
       "3  aecbc613ebdab36753235197ffb4f35734b5ca63  Elsevier   \n",
       "4                                       NaN  Elsevier   \n",
       "\n",
       "                                               title  \\\n",
       "0  Intrauterine virus infections and congenital h...   \n",
       "1                  Coronaviruses in Balkan nephritis   \n",
       "2  Cigarette smoking and coronary heart disease: ...   \n",
       "3  Clinical and immunologic studies in identical ...   \n",
       "4  Epidemiology of community-acquired respiratory...   \n",
       "\n",
       "                            doi pmcid pubmed_id    license  \\\n",
       "0  10.1016/0002-8703(72)90077-4   NaN   4361535  els-covid   \n",
       "1  10.1016/0002-8703(80)90355-5   NaN   6243850  els-covid   \n",
       "2  10.1016/0002-8703(80)90356-7   NaN   7355701  els-covid   \n",
       "3  10.1016/0002-9343(73)90176-9   NaN   4579077  els-covid   \n",
       "4  10.1016/0002-9343(85)90361-4   NaN   4014285  els-covid   \n",
       "\n",
       "                                            abstract publish_time  \\\n",
       "0  Abstract The etiologic basis for the vast majo...   1972-12-31   \n",
       "1                                                NaN   1980-03-31   \n",
       "2                                                NaN   1980-03-31   \n",
       "3  Abstract Middle-aged female identical twins, o...   1973-08-31   \n",
       "4  Abstract Upper respiratory tract infections ar...   1985-06-28   \n",
       "\n",
       "                                             authors  \\\n",
       "0                                  Overall, James C.   \n",
       "1  Georgescu, Leonida; Diosi, Peter; Buţiu, Ioan;...   \n",
       "2                                   Friedman, Gary D   \n",
       "3  Brunner, Carolyn M.; Horwitz, David A.; Shann,...   \n",
       "4                              Garibaldi, Richard A.   \n",
       "\n",
       "                            journal Microsoft Academic Paper ID  \\\n",
       "0            American Heart Journal                         NaN   \n",
       "1            American Heart Journal                         NaN   \n",
       "2            American Heart Journal                         NaN   \n",
       "3  The American Journal of Medicine                         NaN   \n",
       "4  The American Journal of Medicine                         NaN   \n",
       "\n",
       "  WHO #Covidence  has_full_text  full_text_file  \n",
       "0            NaN          False  custom_license  \n",
       "1            NaN          False  custom_license  \n",
       "2            NaN          False  custom_license  \n",
       "3            NaN           True  custom_license  \n",
       "4            NaN          False  custom_license  "
      ]
     },
     "execution_count": 2,
     "metadata": {},
     "output_type": "execute_result"
    }
   ],
   "source": [
    "#loading metadata file\n",
    "\n",
    "metadata_path = 'metadata.csv'\n",
    "meta_df = pd.read_csv(metadata_path, dtype={\n",
    "    'pubmed_id': str,\n",
    "    'Microsoft Academic Paper ID': str, \n",
    "    'doi': str\n",
    "})\n",
    "meta_df.head()"
   ]
  },
  {
   "cell_type": "code",
   "execution_count": 3,
   "metadata": {},
   "outputs": [
    {
     "data": {
      "text/plain": [
       "29315"
      ]
     },
     "execution_count": 3,
     "metadata": {},
     "output_type": "execute_result"
    }
   ],
   "source": [
    "# importing all json files\n",
    "\n",
    "all_json = glob.glob(f'**/*.json', recursive=True)\n",
    "len(all_json)"
   ]
  },
  {
   "cell_type": "markdown",
   "metadata": {},
   "source": [
    "# Treating the data\n",
    "![](https://media2.giphy.com/media/l41YtBXZvSRdgqq7m/giphy.gif?cid=790b76115c16e4f50dc6c6525b7b74b67a0ef53415ae01c0&rid=giphy.gif)"
   ]
  },
  {
   "cell_type": "markdown",
   "metadata": {},
   "source": [
    "First we create a class that will read the json files in a humane readable way."
   ]
  },
  {
   "cell_type": "code",
   "execution_count": 4,
   "metadata": {},
   "outputs": [],
   "source": [
    "# File Reader class\n",
    "\n",
    "class FileReader:\n",
    "    def __init__(self, file_path):\n",
    "        with open(file_path) as file:\n",
    "            content = json.load(file)\n",
    "            self.paper_id = content['paper_id']\n",
    "            self.abstract = []\n",
    "            self.body_text = []\n",
    "            # Abstract\n",
    "            for entry in content['abstract']:\n",
    "                self.abstract.append(entry['text'])\n",
    "            # Body text\n",
    "            for entry in content['body_text']:\n",
    "                self.body_text.append(entry['text'])\n",
    "            self.abstract = '\\n'.join(self.abstract)\n",
    "            self.body_text = '\\n'.join(self.body_text)\n",
    "    def __repr__(self):\n",
    "        return f'{self.paper_id}: {self.abstract[:200]}... {self.body_text[:200]}...'"
   ]
  },
  {
   "cell_type": "code",
   "execution_count": 5,
   "metadata": {},
   "outputs": [
    {
     "name": "stdout",
     "output_type": "stream",
     "text": [
      "0015023cc06b5362d332b3baf348d11567ca2fbb: word count: 194 22 Text word count: 5168 23 24 25 author/funder. All rights reserved. No reuse allowed without permission. Abstract 27 The positive stranded RNA genomes of picornaviruses comprise a si... VP3, and VP0 (which is further processed to VP2 and VP4 during virus assembly) (6). The P2 64 and P3 regions encode the non-structural proteins 2B and 2C and 3A, 3B (1-3) (VPg), 3C pro and 4 structura...\n"
     ]
    }
   ],
   "source": [
    "# Checking if the File Reader Class worked\n",
    "\n",
    "print(FileReader(all_json[0]))"
   ]
  },
  {
   "cell_type": "code",
   "execution_count": 6,
   "metadata": {},
   "outputs": [],
   "source": [
    "# Function to add break every length characters\n",
    "\n",
    "def get_breaks(content, length):\n",
    "    data = \"\"\n",
    "    words = content.split(' ')\n",
    "    total_chars = 0\n",
    "\n",
    "    for i in range(len(words)):\n",
    "        total_chars += len(words[i])\n",
    "        if total_chars > length:\n",
    "            data = data + \"<br>\" + words[i]\n",
    "            total_chars = 0\n",
    "        else:\n",
    "            data = data + \" \" + words[i]\n",
    "    return data"
   ]
  },
  {
   "cell_type": "markdown",
   "metadata": {},
   "source": [
    "We then input all the json files into a DataFrame. (This might take a while, since there are a lot of files). A lot of things will happen here.<br><br>\n",
    "<b>First</b> we will only work with papers with meta data.<br><br>\n",
    "<b>Second</b> if there is no abstract provided, we will use the title of the research paper as the abstract, as the analysis will use the abstract as a basis.<br><br>\n",
    "<b>Third</b> all the other information is included on it's field, separated if there is more than one of each, in the case of authors, for example.\n"
   ]
  },
  {
   "cell_type": "code",
   "execution_count": 7,
   "metadata": {},
   "outputs": [
    {
     "name": "stdout",
     "output_type": "stream",
     "text": [
      "Processing index: 0 of 29315\n",
      "Processing index: 2931 of 29315\n",
      "Processing index: 5862 of 29315\n",
      "Processing index: 8793 of 29315\n",
      "Processing index: 11724 of 29315\n",
      "Processing index: 14655 of 29315\n",
      "Processing index: 17586 of 29315\n",
      "Processing index: 20517 of 29315\n",
      "Processing index: 23448 of 29315\n",
      "Processing index: 26379 of 29315\n",
      "Processing index: 29310 of 29315\n"
     ]
    },
    {
     "data": {
      "text/html": [
       "<div>\n",
       "<style scoped>\n",
       "    .dataframe tbody tr th:only-of-type {\n",
       "        vertical-align: middle;\n",
       "    }\n",
       "\n",
       "    .dataframe tbody tr th {\n",
       "        vertical-align: top;\n",
       "    }\n",
       "\n",
       "    .dataframe thead th {\n",
       "        text-align: right;\n",
       "    }\n",
       "</style>\n",
       "<table border=\"1\" class=\"dataframe\">\n",
       "  <thead>\n",
       "    <tr style=\"text-align: right;\">\n",
       "      <th></th>\n",
       "      <th>paper_id</th>\n",
       "      <th>abstract</th>\n",
       "      <th>body_text</th>\n",
       "      <th>authors</th>\n",
       "      <th>title</th>\n",
       "      <th>journal</th>\n",
       "      <th>abstract_summary</th>\n",
       "    </tr>\n",
       "  </thead>\n",
       "  <tbody>\n",
       "    <tr>\n",
       "      <th>0</th>\n",
       "      <td>0015023cc06b5362d332b3baf348d11567ca2fbb</td>\n",
       "      <td>word count: 194 22 Text word count: 5168 23 24...</td>\n",
       "      <td>VP3, and VP0 (which is further processed to VP...</td>\n",
       "      <td>Ward, J. C. J..  Lasecka-Dykes, L..  Neil, C.....</td>\n",
       "      <td>The RNA pseudoknots in foot-and-mouth disease ...</td>\n",
       "      <td>NaN</td>\n",
       "      <td>word count: 194 22 Text word count: 5168 23 24...</td>\n",
       "    </tr>\n",
       "    <tr>\n",
       "      <th>1</th>\n",
       "      <td>004f0f8bb66cf446678dc13cf2701feec4f36d76</td>\n",
       "      <td></td>\n",
       "      <td>The 2019-nCoV epidemic has spread across China...</td>\n",
       "      <td>Hanchu Zhou.  Jianan Yang.  Kaichen Tang.  Qin...</td>\n",
       "      <td>Healthcare-resource-adjusted vulnerabilities t...</td>\n",
       "      <td>NaN</td>\n",
       "      <td>Healthcare-resource-adjusted vulnerabilities t...</td>\n",
       "    </tr>\n",
       "    <tr>\n",
       "      <th>2</th>\n",
       "      <td>00d16927588fb04d4be0e6b269fc02f0d3c2aa7b</td>\n",
       "      <td>Infectious bronchitis (IB) causes significant ...</td>\n",
       "      <td>Infectious bronchitis (IB), which is caused by...</td>\n",
       "      <td>Butt, S. L..  Erwood, E. C..  Zhang, J..  Sell...</td>\n",
       "      <td>Real-time, MinION-based, amplicon sequencing f...</td>\n",
       "      <td>NaN</td>\n",
       "      <td>Infectious bronchitis (IB) causes significant ...</td>\n",
       "    </tr>\n",
       "    <tr>\n",
       "      <th>3</th>\n",
       "      <td>0139ea4ca580af99b602c6435368e7fdbefacb03</td>\n",
       "      <td>Nipah Virus (NiV) came into limelight recently...</td>\n",
       "      <td>Nipah is an infectious negative-sense single-s...</td>\n",
       "      <td>Nishi Kumari.  Ayush Upadhyay.  Kishan Kalia. ...</td>\n",
       "      <td>A Combined Evidence Approach to Prioritize Nip...</td>\n",
       "      <td>NaN</td>\n",
       "      <td>Nipah Virus (NiV) came into limelight recently...</td>\n",
       "    </tr>\n",
       "    <tr>\n",
       "      <th>4</th>\n",
       "      <td>013d9d1cba8a54d5d3718c229b812d7cf91b6c89</td>\n",
       "      <td>Background: A novel coronavirus (2019-nCoV) em...</td>\n",
       "      <td>In December 2019, a cluster of patients with p...</td>\n",
       "      <td>Shengjie Lai.  Isaac Bogoch.  Nick Ruktanoncha...</td>\n",
       "      <td>Assessing spread risk of Wuhan novel coronavir...</td>\n",
       "      <td>NaN</td>\n",
       "      <td>Background: A novel coronavirus (2019-nCoV) em...</td>\n",
       "    </tr>\n",
       "  </tbody>\n",
       "</table>\n",
       "</div>"
      ],
      "text/plain": [
       "                                   paper_id  \\\n",
       "0  0015023cc06b5362d332b3baf348d11567ca2fbb   \n",
       "1  004f0f8bb66cf446678dc13cf2701feec4f36d76   \n",
       "2  00d16927588fb04d4be0e6b269fc02f0d3c2aa7b   \n",
       "3  0139ea4ca580af99b602c6435368e7fdbefacb03   \n",
       "4  013d9d1cba8a54d5d3718c229b812d7cf91b6c89   \n",
       "\n",
       "                                            abstract  \\\n",
       "0  word count: 194 22 Text word count: 5168 23 24...   \n",
       "1                                                      \n",
       "2  Infectious bronchitis (IB) causes significant ...   \n",
       "3  Nipah Virus (NiV) came into limelight recently...   \n",
       "4  Background: A novel coronavirus (2019-nCoV) em...   \n",
       "\n",
       "                                           body_text  \\\n",
       "0  VP3, and VP0 (which is further processed to VP...   \n",
       "1  The 2019-nCoV epidemic has spread across China...   \n",
       "2  Infectious bronchitis (IB), which is caused by...   \n",
       "3  Nipah is an infectious negative-sense single-s...   \n",
       "4  In December 2019, a cluster of patients with p...   \n",
       "\n",
       "                                             authors  \\\n",
       "0  Ward, J. C. J..  Lasecka-Dykes, L..  Neil, C.....   \n",
       "1  Hanchu Zhou.  Jianan Yang.  Kaichen Tang.  Qin...   \n",
       "2  Butt, S. L..  Erwood, E. C..  Zhang, J..  Sell...   \n",
       "3  Nishi Kumari.  Ayush Upadhyay.  Kishan Kalia. ...   \n",
       "4  Shengjie Lai.  Isaac Bogoch.  Nick Ruktanoncha...   \n",
       "\n",
       "                                               title journal  \\\n",
       "0  The RNA pseudoknots in foot-and-mouth disease ...     NaN   \n",
       "1  Healthcare-resource-adjusted vulnerabilities t...     NaN   \n",
       "2  Real-time, MinION-based, amplicon sequencing f...     NaN   \n",
       "3  A Combined Evidence Approach to Prioritize Nip...     NaN   \n",
       "4  Assessing spread risk of Wuhan novel coronavir...     NaN   \n",
       "\n",
       "                                    abstract_summary  \n",
       "0  word count: 194 22 Text word count: 5168 23 24...  \n",
       "1  Healthcare-resource-adjusted vulnerabilities t...  \n",
       "2  Infectious bronchitis (IB) causes significant ...  \n",
       "3  Nipah Virus (NiV) came into limelight recently...  \n",
       "4  Background: A novel coronavirus (2019-nCoV) em...  "
      ]
     },
     "execution_count": 7,
     "metadata": {},
     "output_type": "execute_result"
    }
   ],
   "source": [
    "# Input the research papers into a DataFrame\n",
    "\n",
    "dict_ = {'paper_id': [], 'abstract': [], 'body_text': [], 'authors': [], 'title': [], 'journal': [], 'abstract_summary': []}\n",
    "for idx, entry in enumerate(all_json):\n",
    "    if idx % (len(all_json) // 10) == 0:\n",
    "        print(f'Processing index: {idx} of {len(all_json)}')\n",
    "    content = FileReader(entry)\n",
    "    \n",
    "    # get metadata information\n",
    "    meta_data = meta_df.loc[meta_df['sha'] == content.paper_id]\n",
    "    # no metadata, skip this paper\n",
    "    if len(meta_data) == 0:\n",
    "        continue\n",
    "    \n",
    "    dict_['paper_id'].append(content.paper_id)\n",
    "    dict_['abstract'].append(content.abstract)\n",
    "    dict_['body_text'].append(content.body_text)\n",
    "    \n",
    "    # also create a column for the summary of abstract to be used in a plot\n",
    "    if len(content.abstract) == 0: \n",
    "        # no abstract provided, we input the title\n",
    "        dict_['abstract_summary'].append(meta_data['title'].values[0])\n",
    "    else:\n",
    "        dict_['abstract_summary'].append(content.abstract)\n",
    "        \n",
    "    # get metadata information\n",
    "    meta_data = meta_df.loc[meta_df['sha'] == content.paper_id]\n",
    "    \n",
    "    # if more than one author\n",
    "    try:\n",
    "        authors = str(meta_data['authors'].values[0]).split(';')\n",
    "        authors1 = [i.split(',') for i in authors]    \n",
    "        dict_['authors'].append(\". \".join(authors))\n",
    "    except Exception as e:\n",
    "        dict_['authors'].append(\". \".join(authors))\n",
    "    \n",
    "    # add the title information, add breaks when needed\n",
    "    dict_['title'].append(meta_data['title'].values[0])\n",
    "    \n",
    "    # add the journal information\n",
    "    dict_['journal'].append(meta_data['journal'].values[0])\n",
    "    \n",
    "df_covid = pd.DataFrame(dict_, columns=['paper_id', 'abstract', 'body_text', 'authors', 'title', 'journal', 'abstract_summary'])\n",
    "df_covid.head()"
   ]
  },
  {
   "cell_type": "code",
   "execution_count": 8,
   "metadata": {},
   "outputs": [],
   "source": [
    "dict_ = None"
   ]
  },
  {
   "cell_type": "code",
   "execution_count": 9,
   "metadata": {},
   "outputs": [
    {
     "data": {
      "text/html": [
       "<div>\n",
       "<style scoped>\n",
       "    .dataframe tbody tr th:only-of-type {\n",
       "        vertical-align: middle;\n",
       "    }\n",
       "\n",
       "    .dataframe tbody tr th {\n",
       "        vertical-align: top;\n",
       "    }\n",
       "\n",
       "    .dataframe thead th {\n",
       "        text-align: right;\n",
       "    }\n",
       "</style>\n",
       "<table border=\"1\" class=\"dataframe\">\n",
       "  <thead>\n",
       "    <tr style=\"text-align: right;\">\n",
       "      <th></th>\n",
       "      <th>paper_id</th>\n",
       "      <th>abstract</th>\n",
       "      <th>body_text</th>\n",
       "      <th>authors</th>\n",
       "      <th>title</th>\n",
       "      <th>journal</th>\n",
       "      <th>abstract_summary</th>\n",
       "      <th>abstract_word_count</th>\n",
       "      <th>body_word_count</th>\n",
       "    </tr>\n",
       "  </thead>\n",
       "  <tbody>\n",
       "    <tr>\n",
       "      <th>0</th>\n",
       "      <td>0015023cc06b5362d332b3baf348d11567ca2fbb</td>\n",
       "      <td>word count: 194 22 Text word count: 5168 23 24...</td>\n",
       "      <td>VP3, and VP0 (which is further processed to VP...</td>\n",
       "      <td>Ward, J. C. J..  Lasecka-Dykes, L..  Neil, C.....</td>\n",
       "      <td>The RNA pseudoknots in foot-and-mouth disease ...</td>\n",
       "      <td>NaN</td>\n",
       "      <td>word count: 194 22 Text word count: 5168 23 24...</td>\n",
       "      <td>241</td>\n",
       "      <td>1728</td>\n",
       "    </tr>\n",
       "    <tr>\n",
       "      <th>1</th>\n",
       "      <td>004f0f8bb66cf446678dc13cf2701feec4f36d76</td>\n",
       "      <td></td>\n",
       "      <td>The 2019-nCoV epidemic has spread across China...</td>\n",
       "      <td>Hanchu Zhou.  Jianan Yang.  Kaichen Tang.  Qin...</td>\n",
       "      <td>Healthcare-resource-adjusted vulnerabilities t...</td>\n",
       "      <td>NaN</td>\n",
       "      <td>Healthcare-resource-adjusted vulnerabilities t...</td>\n",
       "      <td>0</td>\n",
       "      <td>755</td>\n",
       "    </tr>\n",
       "    <tr>\n",
       "      <th>2</th>\n",
       "      <td>00d16927588fb04d4be0e6b269fc02f0d3c2aa7b</td>\n",
       "      <td>Infectious bronchitis (IB) causes significant ...</td>\n",
       "      <td>Infectious bronchitis (IB), which is caused by...</td>\n",
       "      <td>Butt, S. L..  Erwood, E. C..  Zhang, J..  Sell...</td>\n",
       "      <td>Real-time, MinION-based, amplicon sequencing f...</td>\n",
       "      <td>NaN</td>\n",
       "      <td>Infectious bronchitis (IB) causes significant ...</td>\n",
       "      <td>1647</td>\n",
       "      <td>4003</td>\n",
       "    </tr>\n",
       "    <tr>\n",
       "      <th>3</th>\n",
       "      <td>0139ea4ca580af99b602c6435368e7fdbefacb03</td>\n",
       "      <td>Nipah Virus (NiV) came into limelight recently...</td>\n",
       "      <td>Nipah is an infectious negative-sense single-s...</td>\n",
       "      <td>Nishi Kumari.  Ayush Upadhyay.  Kishan Kalia. ...</td>\n",
       "      <td>A Combined Evidence Approach to Prioritize Nip...</td>\n",
       "      <td>NaN</td>\n",
       "      <td>Nipah Virus (NiV) came into limelight recently...</td>\n",
       "      <td>326</td>\n",
       "      <td>2399</td>\n",
       "    </tr>\n",
       "    <tr>\n",
       "      <th>4</th>\n",
       "      <td>013d9d1cba8a54d5d3718c229b812d7cf91b6c89</td>\n",
       "      <td>Background: A novel coronavirus (2019-nCoV) em...</td>\n",
       "      <td>In December 2019, a cluster of patients with p...</td>\n",
       "      <td>Shengjie Lai.  Isaac Bogoch.  Nick Ruktanoncha...</td>\n",
       "      <td>Assessing spread risk of Wuhan novel coronavir...</td>\n",
       "      <td>NaN</td>\n",
       "      <td>Background: A novel coronavirus (2019-nCoV) em...</td>\n",
       "      <td>22</td>\n",
       "      <td>4642</td>\n",
       "    </tr>\n",
       "  </tbody>\n",
       "</table>\n",
       "</div>"
      ],
      "text/plain": [
       "                                   paper_id  \\\n",
       "0  0015023cc06b5362d332b3baf348d11567ca2fbb   \n",
       "1  004f0f8bb66cf446678dc13cf2701feec4f36d76   \n",
       "2  00d16927588fb04d4be0e6b269fc02f0d3c2aa7b   \n",
       "3  0139ea4ca580af99b602c6435368e7fdbefacb03   \n",
       "4  013d9d1cba8a54d5d3718c229b812d7cf91b6c89   \n",
       "\n",
       "                                            abstract  \\\n",
       "0  word count: 194 22 Text word count: 5168 23 24...   \n",
       "1                                                      \n",
       "2  Infectious bronchitis (IB) causes significant ...   \n",
       "3  Nipah Virus (NiV) came into limelight recently...   \n",
       "4  Background: A novel coronavirus (2019-nCoV) em...   \n",
       "\n",
       "                                           body_text  \\\n",
       "0  VP3, and VP0 (which is further processed to VP...   \n",
       "1  The 2019-nCoV epidemic has spread across China...   \n",
       "2  Infectious bronchitis (IB), which is caused by...   \n",
       "3  Nipah is an infectious negative-sense single-s...   \n",
       "4  In December 2019, a cluster of patients with p...   \n",
       "\n",
       "                                             authors  \\\n",
       "0  Ward, J. C. J..  Lasecka-Dykes, L..  Neil, C.....   \n",
       "1  Hanchu Zhou.  Jianan Yang.  Kaichen Tang.  Qin...   \n",
       "2  Butt, S. L..  Erwood, E. C..  Zhang, J..  Sell...   \n",
       "3  Nishi Kumari.  Ayush Upadhyay.  Kishan Kalia. ...   \n",
       "4  Shengjie Lai.  Isaac Bogoch.  Nick Ruktanoncha...   \n",
       "\n",
       "                                               title journal  \\\n",
       "0  The RNA pseudoknots in foot-and-mouth disease ...     NaN   \n",
       "1  Healthcare-resource-adjusted vulnerabilities t...     NaN   \n",
       "2  Real-time, MinION-based, amplicon sequencing f...     NaN   \n",
       "3  A Combined Evidence Approach to Prioritize Nip...     NaN   \n",
       "4  Assessing spread risk of Wuhan novel coronavir...     NaN   \n",
       "\n",
       "                                    abstract_summary  abstract_word_count  \\\n",
       "0  word count: 194 22 Text word count: 5168 23 24...                  241   \n",
       "1  Healthcare-resource-adjusted vulnerabilities t...                    0   \n",
       "2  Infectious bronchitis (IB) causes significant ...                 1647   \n",
       "3  Nipah Virus (NiV) came into limelight recently...                  326   \n",
       "4  Background: A novel coronavirus (2019-nCoV) em...                   22   \n",
       "\n",
       "   body_word_count  \n",
       "0             1728  \n",
       "1              755  \n",
       "2             4003  \n",
       "3             2399  \n",
       "4             4642  "
      ]
     },
     "execution_count": 9,
     "metadata": {},
     "output_type": "execute_result"
    }
   ],
   "source": [
    "# Adding word count column\n",
    "\n",
    "df_covid['abstract_word_count'] = df_covid['abstract'].apply(lambda x: len(x.strip().split()))\n",
    "df_covid['body_word_count'] = df_covid['body_text'].apply(lambda x: len(x.strip().split()))\n",
    "df_covid.head()"
   ]
  },
  {
   "cell_type": "markdown",
   "metadata": {},
   "source": [
    "There may be papers that were inputted from more than one source, so we should check and remove duplicated inputs."
   ]
  },
  {
   "cell_type": "code",
   "execution_count": 10,
   "metadata": {},
   "outputs": [
    {
     "data": {
      "text/plain": [
       "(27678, 9)"
      ]
     },
     "execution_count": 10,
     "metadata": {},
     "output_type": "execute_result"
    }
   ],
   "source": [
    "# We will remove the duplicated papers\n",
    "df_covid.shape"
   ]
  },
  {
   "cell_type": "code",
   "execution_count": 11,
   "metadata": {},
   "outputs": [
    {
     "data": {
      "text/plain": [
       "(27425, 9)"
      ]
     },
     "execution_count": 11,
     "metadata": {},
     "output_type": "execute_result"
    }
   ],
   "source": [
    "# Removing duplicated papers\n",
    "\n",
    "duplicate_paper = ~(df_covid.title.isnull() | df_covid.abstract.isnull()) & (df_covid.duplicated(subset=['title', 'abstract']))\n",
    "df_covid = df_covid[~duplicate_paper].reset_index(drop=True)\n",
    "df_covid.shape"
   ]
  },
  {
   "cell_type": "markdown",
   "metadata": {},
   "source": [
    "We will now start treating the text inside the DataFrame. Before doing anything, we have to define a lot of functions to do that."
   ]
  },
  {
   "cell_type": "code",
   "execution_count": 12,
   "metadata": {},
   "outputs": [
    {
     "name": "stderr",
     "output_type": "stream",
     "text": [
      "<>:4: DeprecationWarning: invalid escape sequence \\(\n",
      "<>:4: DeprecationWarning: invalid escape sequence \\(\n",
      "<>:4: DeprecationWarning: invalid escape sequence \\(\n",
      "<ipython-input-12-b498eeac4b3b>:4: DeprecationWarning: invalid escape sequence \\(\n",
      "  t = re.sub('\\(|\\)|:|,|;|\\.|’|”|“|\\?|%|>|<', '', text)\n"
     ]
    }
   ],
   "source": [
    "# Creating a function that cleans text of special characters\n",
    "\n",
    "def strip_characters(text):\n",
    "    t = re.sub('\\(|\\)|:|,|;|\\.|’|”|“|\\?|%|>|<', '', text)\n",
    "    t = re.sub('/', ' ', t)\n",
    "    t = t.replace(\"'\",'')\n",
    "    return t"
   ]
  },
  {
   "cell_type": "code",
   "execution_count": 13,
   "metadata": {},
   "outputs": [],
   "source": [
    "# Creating a function that makes text lowercase and uses the function created above\n",
    "\n",
    "def clean(text):\n",
    "    t = text.lower()\n",
    "    t = strip_characters(t)\n",
    "    return t"
   ]
  },
  {
   "cell_type": "code",
   "execution_count": 14,
   "metadata": {},
   "outputs": [],
   "source": [
    "# Tokenize into individual tokens - words mostly\n",
    "\n",
    "def tokenize(text):\n",
    "    words = nltk.word_tokenize(text)\n",
    "    return list(set([word for word in words \n",
    "                     if len(word) > 1\n",
    "                     and not (word.isnumeric() and len(word) is not 4)\n",
    "                     and (not word.isnumeric() or word.isalpha())] )\n",
    "               )"
   ]
  },
  {
   "cell_type": "code",
   "execution_count": 15,
   "metadata": {},
   "outputs": [],
   "source": [
    "# Creating a function that cleans and tokenize texts\n",
    "\n",
    "def preprocess(text):\n",
    "    t = clean(text)\n",
    "    tokens = tokenize(t)\n",
    "    return tokens"
   ]
  },
  {
   "cell_type": "markdown",
   "metadata": {},
   "source": [
    "We will now tokenize the abstract and transform the output into a list."
   ]
  },
  {
   "cell_type": "code",
   "execution_count": 16,
   "metadata": {},
   "outputs": [],
   "source": [
    "# Preprocessing all the strings inside the column abstract. It will clean them, make them lower case and tokenize them.\n",
    "\n",
    "df_covid['abstract_processed'] = df_covid['abstract'].apply(lambda x: preprocess(x))"
   ]
  },
  {
   "cell_type": "code",
   "execution_count": 17,
   "metadata": {},
   "outputs": [
    {
     "name": "stdout",
     "output_type": "stream",
     "text": [
      "[['internal', 'from', 'investigated', 'lacking', 'translation', 'fmdv', 'stranded', 'importance', 'genomes', 'stem-loop', 'was', 'were', 'consistent', 'earlier', 'analysed', 'virus', 'domains', 'kb', 'series', 'length', 'packaging', 'picornaviruses', 'text', 'site', 'copy', 'than', 'rights', 'analysis', 'an', 'previously', 'by', 'provide', 'large', '3′', 'unusually', 'this', 'the', 'which', 'tandemly', 'region', 'foot-and-mouth', 'structures', 'cis-acting', 'four', 'we', 'no', 'not', 'advantage', 'structural', 'poly-c-tract', 'describing', 'with', 'reading', '100-200', 'ribosome', 'that', 'putative', 'of', 'include', 'count', 'mutation', 'infectious', 'determined', 'shape', 'containing', 'genome', 'allowed', 'approximately', 'well', 'extension', 'without', 'terminal', 'nucleotide', 'reuse', 'experiments', 'to', 'acetylation', '5′', 'regions', 'showed', 'disease', 'rna', 'primer', 'rescued', 'two', 'presence', 'comprise', 'permission', 'report', 'nucleotides', 'facilitates', 'initiation', 'essential', 'ires', 'reserved', 'utr', 'full-length', 'however', 'untranslated', 'are', 'function', 'less', 'replicons', 'although', '2′', 'repeated', 'five', 'these', 'selective', 'competent', 'cre', 'entry', 'in', 'replication', 'their', 'flanked', 'utrs', 'funder', 'all', 'positive', 'signals', 'our', 'frame', 'hydroxyl', 'has', 'element', 'abstract', 'pseudoknots', 'confirmed', 'competitive', 'they', 'contribution', 'open', 'one', 'pk', 'is', 'predicted', 'deletion', 'for', 'word', 'characterised', 'pks', 'single', 'and', 'author', 'variable']]\n"
     ]
    }
   ],
   "source": [
    "# Transforming abstract_processed into a list\n",
    "\n",
    "abstract = list(df_covid['abstract_processed'])\n",
    "print(abstract[:1])"
   ]
  },
  {
   "cell_type": "markdown",
   "metadata": {},
   "source": [
    "We will now create a bigram and a trigram models and lemmetize."
   ]
  },
  {
   "cell_type": "code",
   "execution_count": 18,
   "metadata": {},
   "outputs": [],
   "source": [
    "# Build the bigram and trigram models\n",
    "\n",
    "bigram = gensim.models.Phrases(abstract, min_count=5, threshold=100)\n",
    "bigram_mod = gensim.models.phrases.Phraser(bigram)\n",
    "\n",
    "trigram = gensim.models.Phrases(bigram[abstract], threshold=100)  \n",
    "trigram_mod = gensim.models.phrases.Phraser(trigram)"
   ]
  },
  {
   "cell_type": "code",
   "execution_count": 19,
   "metadata": {},
   "outputs": [],
   "source": [
    "# Creating a list of stopwords in english\n",
    "\n",
    "stop_words = list(set(stopwords.words('english')))\n",
    "stop_words.extend(['from', 'subject', 're', 'edu', 'use', 'not', 'would', 'say', 'could', '_', 'be', 'know', 'good', 'go', 'get', 'do', 'done', 'try', 'many', 'some', 'nice', 'thank', 'think', 'see', 'rather', 'easy', 'easily', 'lot', 'lack', 'make', 'want', 'seem', 'run', 'need', 'even', 'right', 'line', 'even', 'also', 'may', 'take', 'come'])"
   ]
  },
  {
   "cell_type": "code",
   "execution_count": 20,
   "metadata": {},
   "outputs": [],
   "source": [
    "# Creating a function that will remove stopwords, form bigrams, form tigrams and lemmatize\n",
    "\n",
    "def process_words(texts, stop_words=stop_words, allowed_postags=['NOUN', 'ADJ', 'VERB', 'ADV']):\n",
    "    texts = [[word for word in simple_preprocess(str(doc)) if word not in stop_words] for doc in texts]\n",
    "    texts = [bigram_mod[doc] for doc in texts]\n",
    "    texts = [trigram_mod[bigram_mod[doc]] for doc in texts]\n",
    "    texts_out = []\n",
    "    nlp = spacy.load('en_core_web_md', disable=['parser', 'ner'])\n",
    "    for sent in texts:\n",
    "        doc = nlp(\" \".join(sent)) \n",
    "        texts_out.append([token.lemma_ for token in doc if token.pos_ in allowed_postags])\n",
    "    # remove stopwords once more after lemmatization\n",
    "    texts_out = [[word for word in simple_preprocess(str(doc)) if word not in stop_words] for doc in texts_out]    \n",
    "    return texts_out"
   ]
  },
  {
   "cell_type": "code",
   "execution_count": 21,
   "metadata": {},
   "outputs": [],
   "source": [
    "# Processing the abstract\n",
    "\n",
    "abstract_processed = process_words(abstract)"
   ]
  },
  {
   "cell_type": "markdown",
   "metadata": {},
   "source": [
    "# It is time for some modeling\n",
    "![](https://media0.giphy.com/media/Mvm1XBC8O48EM/giphy.gif?cid=790b76119bdd3e0bcedc198f7b26c76abecbb392aba651cf&rid=giphy.gif)"
   ]
  },
  {
   "cell_type": "markdown",
   "metadata": {},
   "source": [
    "But first let's create a dictionary and a corpus"
   ]
  },
  {
   "cell_type": "code",
   "execution_count": 22,
   "metadata": {},
   "outputs": [],
   "source": [
    "# Creating the dictionary\n",
    "\n",
    "id2word = corpora.Dictionary(abstract_processed)"
   ]
  },
  {
   "cell_type": "code",
   "execution_count": 23,
   "metadata": {},
   "outputs": [],
   "source": [
    "# Create Corpus: Term Document Frequency\n",
    "\n",
    "corpus = [id2word.doc2bow(text) for text in abstract_processed]"
   ]
  },
  {
   "cell_type": "code",
   "execution_count": 24,
   "metadata": {},
   "outputs": [],
   "source": [
    "from gensim.models.ldamulticore import LdaMulticore"
   ]
  },
  {
   "cell_type": "code",
   "execution_count": 25,
   "metadata": {},
   "outputs": [],
   "source": [
    "lda = LdaMulticore(corpus, id2word=id2word, num_topics=26)"
   ]
  },
  {
   "cell_type": "code",
   "execution_count": 26,
   "metadata": {},
   "outputs": [],
   "source": [
    "# Defining the best number of topics for the LDA model\n",
    "\n",
    "def compute_coherence_values(dictionary, corpus, texts, limit, start=2, step=3):\n",
    "    coherence_values = []\n",
    "    model_list = []\n",
    "    for num_topics in range(start, limit, step):\n",
    "        model = LdaMulticore(corpus, id2word=id2word, num_topics=26)\n",
    "        model_list.append(model)\n",
    "        coherencemodel = CoherenceModel(model=model, texts=texts, dictionary=dictionary, coherence='c_v')\n",
    "        coherence_values.append(coherencemodel.get_coherence())\n",
    "\n",
    "    return model_list, coherence_values"
   ]
  },
  {
   "cell_type": "code",
   "execution_count": 27,
   "metadata": {},
   "outputs": [],
   "source": [
    "model_list, coherence_values = compute_coherence_values(dictionary=id2word, corpus=corpus, texts=abstract_processed, start=2, limit=100, step=6)"
   ]
  },
  {
   "cell_type": "code",
   "execution_count": 28,
   "metadata": {},
   "outputs": [
    {
     "data": {
      "image/png": "[encoded data removed]",
      "text/plain": [
       "<Figure size 432x288 with 1 Axes>"
      ]
     },
     "metadata": {
      "needs_background": "light"
     },
     "output_type": "display_data"
    }
   ],
   "source": [
    "# Show graph\n",
    "limit=100; start=2; step=6;\n",
    "x = range(start, limit, step)\n",
    "plt.plot(x, coherence_values)\n",
    "plt.xlabel(\"Num Topics\")\n",
    "plt.ylabel(\"Coherence score\")\n",
    "plt.legend((\"coherence_values\"), loc='best')\n",
    "plt.show()"
   ]
  },
  {
   "cell_type": "code",
   "execution_count": 29,
   "metadata": {},
   "outputs": [
    {
     "name": "stdout",
     "output_type": "stream",
     "text": [
      "Num Topics = 2  has Coherence Value of 0.3494\n",
      "Num Topics = 8  has Coherence Value of 0.3533\n",
      "Num Topics = 14  has Coherence Value of 0.3459\n",
      "Num Topics = 20  has Coherence Value of 0.3626\n",
      "Num Topics = 26  has Coherence Value of 0.3577\n",
      "Num Topics = 32  has Coherence Value of 0.3527\n",
      "Num Topics = 38  has Coherence Value of 0.3594\n",
      "Num Topics = 44  has Coherence Value of 0.3534\n",
      "Num Topics = 50  has Coherence Value of 0.3544\n",
      "Num Topics = 56  has Coherence Value of 0.3542\n",
      "Num Topics = 62  has Coherence Value of 0.3391\n",
      "Num Topics = 68  has Coherence Value of 0.3512\n",
      "Num Topics = 74  has Coherence Value of 0.3423\n",
      "Num Topics = 80  has Coherence Value of 0.343\n",
      "Num Topics = 86  has Coherence Value of 0.3422\n",
      "Num Topics = 92  has Coherence Value of 0.3521\n",
      "Num Topics = 98  has Coherence Value of 0.3434\n"
     ]
    }
   ],
   "source": [
    "# Print the coherence scores\n",
    "for m, cv in zip(x, coherence_values):\n",
    "    print(\"Num Topics =\", m, \" has Coherence Value of\", round(cv, 4))"
   ]
  },
  {
   "cell_type": "markdown",
   "metadata": {},
   "source": [
    "The highest Coherence value was with 26 topics before flattening out, so we will go with 20."
   ]
  },
  {
   "cell_type": "code",
   "execution_count": 46,
   "metadata": {},
   "outputs": [],
   "source": [
    "# Build LDA model\n",
    "\n",
    "lda_model = LdaMulticore(corpus=corpus,\n",
    "                        id2word=id2word,\n",
    "                        num_topics=20, \n",
    "                        random_state=42,\n",
    "                        chunksize=150,\n",
    "                        passes=30,\n",
    "                        iterations = 500,\n",
    "                        per_word_topics=True)"
   ]
  },
  {
   "cell_type": "code",
   "execution_count": 47,
   "metadata": {},
   "outputs": [
    {
     "name": "stdout",
     "output_type": "stream",
     "text": [
      "\n",
      "Perplexity:  -8.835283036832783\n"
     ]
    }
   ],
   "source": [
    "# Compute Perplexity (lower = better)\n",
    "\n",
    "print('\\nPerplexity: ', lda_model.log_perplexity(corpus))"
   ]
  },
  {
   "cell_type": "code",
   "execution_count": 48,
   "metadata": {},
   "outputs": [
    {
     "name": "stdout",
     "output_type": "stream",
     "text": [
      "\n",
      "Coherence Score:  0.4570487922482978\n"
     ]
    }
   ],
   "source": [
    "# Compute Coherence Score\n",
    "\n",
    "coherence_model_lda = CoherenceModel(model=lda_model, texts=abstract_processed, dictionary=id2word, coherence='c_v')\n",
    "coherence_lda = coherence_model_lda.get_coherence()\n",
    "print('\\nCoherence Score: ', coherence_lda)"
   ]
  },
  {
   "cell_type": "code",
   "execution_count": 49,
   "metadata": {},
   "outputs": [
    {
     "data": {
      "text/html": [
       "\n",
       "<link rel=\"stylesheet\" type=\"text/css\" href=\"https://cdn.rawgit.com/bmabey/pyLDAvis/files/ldavis.v1.0.0.css\">\n",
       "\n",
       "\n",
       "<div id=\"ldavis_el93921232953283656795568480\"></div>\n",
       "<script type=\"text/javascript\">\n",
       "\n",
       "var ldavis_el93921232953283656795568480_data = {\"mdsDat\": {\"x\": [-0.1309537038750561, -0.12483055137772658, -0.13328381918424945, -0.12794549570777689, -0.15605909539605547, -0.11063772369202135, -0.09072143366365022, -0.14151676987580727, -0.11857064291737202, -0.11585867683330517, -0.023284595288223766, -0.0621211305092084, -0.09194310727818107, -0.018095560535042923, 0.12955123239787283, 0.07254342169089399, 0.2518496318431837, 0.31844608467515956, 0.33934279271774015, 0.33408914280882634], \"y\": [0.009759850078531633, -0.15420415576356608, -0.025386298796485424, -0.012124031386974375, -0.05410412705336321, -0.09914128380028717, -0.25711596660711566, -0.004246976841777424, -0.03055612605181492, 0.2091949220701183, -0.0064394543062933915, 0.0716603663847432, 0.1488391104869333, 0.1522153343894777, -0.10721277989092433, 0.27178305787786766, -0.08125887670719867, -0.022782261822477393, -0.005749148630221077, -0.0031311536291743236], \"topics\": [1, 2, 3, 4, 5, 6, 7, 8, 9, 10, 11, 12, 13, 14, 15, 16, 17, 18, 19, 20], \"cluster\": [1, 1, 1, 1, 1, 1, 1, 1, 1, 1, 1, 1, 1, 1, 1, 1, 1, 1, 1, 1], \"Freq\": [11.703518867492676, 10.122488975524902, 9.640968322753906, 8.910064697265625, 8.708925247192383, 7.56133508682251, 6.55143928527832, 5.70203161239624, 5.541468143463135, 5.123418807983398, 4.252671241760254, 4.079256057739258, 3.592832326889038, 2.5827674865722656, 2.220999240875244, 1.3545711040496826, 0.9027469158172607, 0.8003097176551819, 0.41220858693122864, 0.23596997559070587]}, \"tinfo\": {\"Term\": [\"cell\", \"virus\", \"induce\", \"infection\", \"vaccine\", \"protein\", \"result\", \"sequence\", \"patient\", \"effect\", \"response\", \"study\", \"method\", \"activity\", \"test\", \"detect\", \"show\", \"expression\", \"sample\", \"inhibit\", \"increase\", \"conclusion\", \"group\", \"disease\", \"respiratory\", \"cause\", \"factor\", \"treatment\", \"assay\", \"control\", \"residue\", \"terminal\", \"fusion\", \"protease\", \"virion\", \"envelope\", \"motif\", \"cleavage\", \"envelop\", \"transmembrane\", \"golgi\", \"terminus\", \"nsp\", \"polypeptide\", \"conformation\", \"catalytic\", \"binding\", \"lectin\", \"transfecte\", \"endoplasmic\", \"reticulum\", \"glycosylation\", \"glycan\", \"translocation\", \"fuse\", \"helix\", \"organelle\", \"nonstructural\", \"bond\", \"hydrophobic\", \"bind\", \"membrane\", \"domain\", \"glycoprotein\", \"peptide\", \"mutant\", \"subunit\", \"structural\", \"protein\", \"encode\", \"structure\", \"substrate\", \"contain\", \"strand\", \"site\", \"amino\", \"acid\", \"form\", \"entry\", \"surface\", \"cell\", \"receptor\", \"express\", \"show\", \"virus\", \"region\", \"suggest\", \"coronavirus\", \"result\", \"target\", \"sequence\", \"viral\", \"demonstrate\", \"study\", \"activity\", \"find\", \"indicate\", \"identify\", \"policy\", \"plan\", \"government\", \"professional\", \"priority\", \"preparedness\", \"interview\", \"transplant\", \"agency\", \"perceive\", \"quarantine\", \"society\", \"draw\", \"public\", \"mitigate\", \"awareness\", \"provider\", \"sector\", \"microbiology\", \"personnel\", \"income\", \"inadequate\", \"internet\", \"official\", \"communicable\", \"private\", \"hematopoietic\", \"respondent\", \"traveler\", \"fear\", \"social\", \"health\", \"face\", \"travel\", \"international\", \"threat\", \"inform\", \"country\", \"global\", \"outbreak\", \"spread\", \"world\", \"transmission\", \"people\", \"pandemic\", \"service\", \"national\", \"implement\", \"risk\", \"epidemic\", \"practice\", \"implementation\", \"impact\", \"concern\", \"disease\", \"population\", \"infectious\", \"prevention\", \"surveillance\", \"emerge\", \"control\", \"economic\", \"future\", \"management\", \"strategy\", \"change\", \"increase\", \"provide\", \"measure\", \"response\", \"include\", \"system\", \"factor\", \"affect\", \"important\", \"understand\", \"hospital\", \"child\", \"prospective\", \"visit\", \"admit\", \"cough\", \"department\", \"retrospective\", \"admission\", \"physician\", \"symptomatic\", \"pediatric\", \"chest\", \"crisis\", \"nurse\", \"odd\", \"sputum\", \"institution\", \"retrospectively\", \"sectional\", \"epidemiologic\", \"obstructive\", \"outpatient\", \"multivariate\", \"descriptive\", \"discharge\", \"logistic\", \"observational\", \"attend\", \"virological\", \"staff\", \"etiology\", \"patient\", \"hospitalize\", \"pneumonia\", \"illness\", \"febrile\", \"symptom\", \"intensive\", \"median\", \"case\", \"care\", \"year\", \"respiratory\", \"acute\", \"outcome\", \"frequent\", \"guideline\", \"severe\", \"clinical\", \"acquire\", \"infection\", \"diagnose\", \"diagnosis\", \"common\", \"syndrome\", \"report\", \"medical\", \"include\", \"month\", \"day\", \"cause\", \"conclusion\", \"receive\", \"rate\", \"associate\", \"result\", \"study\", \"follow\", \"treatment\", \"identify\", \"high\", \"method\", \"virus\", \"transcriptional\", \"knockdown\", \"machinery\", \"caspase\", \"modulation\", \"autophagy\", \"differentially\", \"nervous\", \"overexpression\", \"homeostasis\", \"regulated\", \"inducible\", \"leukemia\", \"financial\", \"dehydration\", \"isoform\", \"malignancy\", \"manipulate\", \"degrade\", \"stimulus\", \"rnai\", \"peritoneal\", \"transcriptome\", \"proteasome\", \"flavonoid\", \"antisense\", \"messenger\", \"fiber\", \"antitumor\", \"ancient\", \"modulate\", \"biosynthesis\", \"regulate\", \"pathway\", \"toll\", \"defense\", \"regulation\", \"mechanism\", \"function\", \"activation\", \"host\", \"cellular\", \"role\", \"degradation\", \"implicate\", \"play\", \"innate\", \"regulatory\", \"involve\", \"understand\", \"cycle\", \"signal\", \"interaction\", \"expression\", \"factor\", \"cell\", \"process\", \"gene\", \"immune\", \"viral\", \"protein\", \"target\", \"response\", \"infection\", \"virus\", \"mediate\", \"provide\", \"include\", \"important\", \"associate\", \"study\", \"identify\", \"bat\", \"phylogenetic\", \"polymorphism\", \"perception\", \"rodent\", \"clade\", \"apparently\", \"carcinoma\", \"demyelination\", \"phylogeny\", \"polyclonal\", \"controversial\", \"excretion\", \"myelin\", \"divergence\", \"emission\", \"wheeze\", \"taxonomic\", \"habitat\", \"genera\", \"depression\", \"clustered\", \"firstly\", \"reconstruct\", \"ancestor\", \"bundle\", \"synonymous\", \"unnecessary\", \"manager\", \"motor\", \"lineage\", \"evolutionary\", \"distant\", \"identity\", \"childhood\", \"sequencing\", \"recombination\", \"sequence\", \"genome\", \"evolution\", \"reservoir\", \"allele\", \"diversity\", \"genotype\", \"variant\", \"specie\", \"genetic\", \"genus\", \"isolate\", \"strain\", \"nucleotide\", \"genomic\", \"belong\", \"cluster\", \"closely\", \"gene\", \"similarity\", \"origin\", \"region\", \"species\", \"analysis\", \"family\", \"virus\", \"human\", \"identify\", \"reveal\", \"host\", \"distinct\", \"suggest\", \"complete\", \"report\", \"find\", \"study\", \"show\", \"different\", \"animal\", \"high\", \"indicate\", \"present\", \"result\", \"new\", \"include\", \"publicly\", \"simulation\", \"unrestricted\", \"algorithm\", \"simulate\", \"qualitative\", \"software\", \"bed\", \"infrastructure\", \"equation\", \"inpatient\", \"modeling\", \"numerical\", \"query\", \"transportation\", \"calculation\", \"quantitatively\", \"unrestricte\", \"methodological\", \"adoption\", \"download\", \"achievement\", \"expiratory\", \"file\", \"robustness\", \"irrespective\", \"purchase\", \"virtually\", \"language\", \"undetectable\", \"web\", \"fit\", \"database\", \"prediction\", \"retrieve\", \"dataset\", \"permission\", \"topic\", \"mathematical\", \"science\", \"model\", \"parameter\", \"error\", \"academic\", \"search\", \"original\", \"dynamic\", \"quality\", \"apply\", \"accuracy\", \"validate\", \"mean\", \"propose\", \"estimate\", \"network\", \"analysis\", \"base\", \"predict\", \"method\", \"datum\", \"value\", \"set\", \"performance\", \"time\", \"paper\", \"number\", \"study\", \"result\", \"approach\", \"provide\", \"process\", \"different\", \"show\", \"analyze\", \"system\", \"structure\", \"information\", \"present\", \"find\", \"feline\", \"strengthen\", \"economy\", \"chemistry\", \"manufacture\", \"antibacterial\", \"occupational\", \"doctor\", \"biomedical\", \"encourage\", \"originally\", \"advancement\", \"acceptable\", \"era\", \"governance\", \"pollution\", \"representation\", \"shelter\", \"engagement\", \"fungi\", \"aureus\", \"tailor\", \"distemper\", \"definitive\", \"conceptual\", \"editor\", \"correspondence\", \"versatile\", \"victim\", \"tobacco\", \"technology\", \"art\", \"overview\", \"application\", \"article\", \"bring\", \"facility\", \"discovery\", \"review\", \"biology\", \"advance\", \"discuss\", \"nanoparticle\", \"progress\", \"delivery\", \"advantage\", \"platform\", \"interest\", \"overcome\", \"development\", \"food\", \"approach\", \"research\", \"focus\", \"tool\", \"field\", \"enable\", \"variety\", \"recent\", \"system\", \"industry\", \"new\", \"base\", \"current\", \"develop\", \"include\", \"provide\", \"describe\", \"strategy\", \"target\", \"design\", \"present\", \"improve\", \"disease\", \"potential\", \"year\", \"drug\", \"adenovirus\", \"kit\", \"lymphoid\", \"parvovirus\", \"false\", \"seroprevalence\", \"killer\", \"persistently\", \"histopathology\", \"thin\", \"defence\", \"allergy\", \"biosecurity\", \"bacterium\", \"graphical\", \"reproducibility\", \"cytomegalovirus\", \"nonspecific\", \"creative\", \"cytopathic\", \"enhancer\", \"hospitalise\", \"congenital\", \"titre\", \"multiplexe\", \"pneumococcal\", \"agar\", \"condensation\", \"thicken\", \"powder\", \"pcr\", \"sensitivity\", \"detection\", \"serological\", \"real\", \"detect\", \"diagnostic\", \"swabs\", \"sample\", \"assay\", \"polymerase\", \"test\", \"specificity\", \"sensitive\", \"reverse\", \"positive\", \"panel\", \"reaction\", \"specimen\", \"primer\", \"testing\", \"etiological\", \"negative\", \"time\", \"diagnosis\", \"nasal\", \"virus\", \"rapid\", \"culture\", \"laboratory\", \"chain\", \"method\", \"pathogen\", \"viral\", \"infection\", \"develop\", \"clinical\", \"result\", \"specific\", \"study\", \"base\", \"high\", \"human\", \"vaccine\", \"neutralization\", \"immunize\", \"humoral\", \"camel\", \"prophylactic\", \"chimeric\", \"sclerosis\", \"political\", \"modality\", \"recognise\", \"macaque\", \"obstacle\", \"antigens\", \"dromedary\", \"monthly\", \"arabian\", \"proliferative\", \"wealth\", \"ccl\", \"signaling\", \"pertain\", \"film\", \"simian\", \"bovi\", \"diminished\", \"meeting\", \"immunologically\", \"suitability\", \"colleague\", \"neutralize\", \"titer\", \"protection\", \"vaccination\", \"elicit\", \"inactivated\", \"antibody\", \"lethal\", \"epitope\", \"virulent\", \"protective\", \"attenuate\", \"protect\", \"candidate\", \"middle\", \"vector\", \"syndrome\", \"live\", \"severe\", \"virus\", \"immunity\", \"human\", \"infection\", \"respiratory\", \"cause\", \"challenge\", \"immune\", \"coronavirus\", \"effective\", \"development\", \"response\", \"viral\", \"animal\", \"acute\", \"antigen\", \"develop\", \"disease\", \"emerge\", \"specific\", \"strain\", \"induce\", \"high\", \"provide\", \"model\", \"study\", \"cd\", \"lymphocyte\", \"peripheral\", \"chemokine\", \"exacerbation\", \"neutrophil\", \"spleen\", \"react\", \"leukocyte\", \"infiltration\", \"infiltrate\", \"collaboration\", \"monocyte\", \"cytometry\", \"mediator\", \"orally\", \"tourism\", \"histological\", \"bl\", \"legal\", \"hepatocyte\", \"induced\", \"lymphocytic\", \"neuronal\", \"sheep\", \"anemia\", \"pretreatment\", \"raft\", \"ebv\", \"capillary\", \"macrophage\", \"neuron\", \"memory\", \"cytokine\", \"mouse\", \"cell\", \"brain\", \"antigen\", \"inflammatory\", \"response\", \"induce\", \"murine\", \"immune\", \"level\", \"infect\", \"expression\", \"tissue\", \"increase\", \"vivo\", \"blood\", \"suggest\", \"specific\", \"result\", \"produce\", \"study\", \"infection\", \"receptor\", \"show\", \"express\", \"compare\", \"demonstrate\", \"type\", \"virus\", \"antibody\", \"model\", \"lesion\", \"interleukin\", \"pathological\", \"bone\", \"muscle\", \"invasive\", \"dysfunction\", \"epithelium\", \"sepsis\", \"marrow\", \"abnormality\", \"progressive\", \"coinfection\", \"interstitial\", \"aged\", \"vascular\", \"pregnancy\", \"feeding\", \"pathophysiology\", \"platelet\", \"lactate\", \"astrocyte\", \"destruction\", \"tumour\", \"bronchial\", \"gland\", \"smoke\", \"ard\", \"ameliorate\", \"satisfactory\", \"inject\", \"inoculated\", \"rat\", \"heart\", \"lung\", \"organ\", \"stat\", \"pulmonary\", \"inflammation\", \"injury\", \"sign\", \"injection\", \"examination\", \"old\", \"inoculation\", \"oxygen\", \"tissue\", \"blood\", \"fluid\", \"disease\", \"chronic\", \"kidney\", \"normal\", \"clinical\", \"disorder\", \"day\", \"week\", \"cause\", \"inflammatory\", \"animal\", \"present\", \"treatment\", \"change\", \"associate\", \"occur\", \"condition\", \"lead\", \"develop\", \"show\", \"compound\", \"cattle\", \"vaccinate\", \"adjuvant\", \"peritonitis\", \"ad\", \"mononuclear\", \"enteritis\", \"analog\", \"cord\", \"hsv\", \"dairy\", \"horse\", \"transfusion\", \"proteinase\", \"stably\", \"herbal\", \"prepared\", \"survivor\", \"column\", \"spinal\", \"insurance\", \"neurologic\", \"recurrence\", \"breast\", \"funding\", \"dietary\", \"cultural\", \"latency\", \"turnover\", \"supernatant\", \"derivative\", \"drug\", \"inhibitory\", \"herpe\", \"anti\", \"activity\", \"treat\", \"resistant\", \"tumor\", \"resistance\", \"antiviral\", \"effect\", \"inhibitor\", \"treatment\", \"potent\", \"extract\", \"agent\", \"concentration\", \"inhibit\", \"exhibit\", \"cancer\", \"active\", \"efficacy\", \"inhibition\", \"potential\", \"show\", \"dose\", \"evaluate\", \"effective\", \"study\", \"cell\", \"test\", \"result\", \"find\", \"report\", \"assay\", \"episode\", \"asthma\", \"aspirate\", \"breed\", \"student\", \"urban\", \"gender\", \"item\", \"placebo\", \"influenzae\", \"rural\", \"mental\", \"haemophilus\", \"intention\", \"accordance\", \"microbiome\", \"diarrheal\", \"college\", \"carriage\", \"norm\", \"captive\", \"pairwise\", \"interventional\", \"checklist\", \"emotional\", \"halt\", \"inventory\", \"willing\", \"emotion\", \"insignificant\", \"statistically\", \"regression\", \"stool\", \"association\", \"prevalence\", \"age\", \"adjust\", \"multiplex\", \"predictor\", \"difference\", \"confidence\", \"conclusion\", \"background\", \"significant\", \"aim\", \"young\", \"significantly\", \"interval\", \"examine\", \"factor\", \"group\", \"study\", \"total\", \"method\", \"healthy\", \"investigate\", \"objective\", \"result\", \"high\", \"associate\", \"analyze\", \"conduct\", \"sample\", \"compare\", \"find\", \"rate\", \"analysis\", \"positive\", \"increase\", \"year\", \"low\", \"show\", \"risk\", \"infection\", \"calf\", \"feed\", \"hr\", \"milk\", \"aerosol\", \"kg\", \"medication\", \"ribavirin\", \"wean\", \"nitric\", \"alcohol\", \"relapse\", \"microbiological\", \"ester\", \"consistency\", \"absorption\", \"antioxidant\", \"housing\", \"con\", \"irradiation\", \"consultation\", \"inhalation\", \"litter\", \"advice\", \"intake\", \"supplementation\", \"sampler\", \"chamber\", \"digestive\", \"ultraviolet\", \"diet\", \"oxide\", \"dry\", \"neonatal\", \"concentration\", \"weight\", \"randomly\", \"airborne\", \"dose\", \"day\", \"saline\", \"temperature\", \"group\", \"decrease\", \"water\", \"week\", \"effect\", \"receive\", \"control\", \"reduce\", \"increase\", \"level\", \"measure\", \"high\", \"compare\", \"low\", \"significantly\", \"rate\", \"treatment\", \"time\", \"study\", \"treat\", \"result\", \"animal\", \"respectively\", \"evaluate\", \"amplification\", \"chicken\", \"immunosorbent\", \"disaster\", \"gel\", \"poultry\", \"egg\", \"transplantation\", \"electrophoresis\", \"abdominal\", \"inhibited\", \"indoor\", \"separation\", \"filtration\", \"bioactive\", \"lab\", \"contaminant\", \"isothermal\", \"freeze\", \"dispersion\", \"blue\", \"suspension\", \"thermodynamic\", \"veterinarian\", \"lamp\", \"innovation\", \"detergent\", \"magnetic\", \"color\", \"pursue\", \"responsive\", \"mixture\", \"coli\", \"escherichia\", \"preparation\", \"label\", \"reactivity\", \"purification\", \"thermal\", \"reagent\", \"extraction\", \"conventional\", \"purify\", \"bronchitis\", \"product\", \"blot\", \"temperature\", \"yield\", \"produce\", \"procedure\", \"condition\", \"reaction\", \"extract\", \"method\", \"obtain\", \"field\", \"free\", \"kinase\", \"suppress\", \"intravenous\", \"corticosteroid\", \"salmonella\", \"rig\", \"regulating\", \"counteract\", \"dosage\", \"modulator\", \"dimerization\", \"compile\", \"cystic\", \"translocate\", \"tank\", \"nowadays\", \"epithelia\", \"sensing\", \"intramolecular\", \"epsilon\", \"situational\", \"pluripotent\", \"maltose\", \"efficacious\", \"pegylate\", \"phosphorylation\", \"sev\", \"unsurprisingly\", \"interferon\", \"apoptosis\", \"activate\", \"stimulate\", \"th\", \"inhibit\", \"induction\", \"induce\", \"inhibition\", \"sensor\", \"phosphatase\", \"adaptive\", \"signal\", \"innate\", \"dependent\", \"production\", \"pathway\", \"antiviral\", \"inhibitor\", \"expression\", \"cytokine\", \"effect\", \"mediate\", \"replication\", \"result\", \"cell\", \"show\", \"significantly\", \"treatment\", \"infection\", \"demonstrate\", \"type\", \"reduce\", \"factor\", \"pig\", \"porcine\", \"swine\", \"gastroenteritis\", \"piglet\", \"herd\", \"transmissible\", \"situ\", \"innovative\", \"nation\", \"aetiology\", \"producer\", \"volunteer\", \"tyrosine\", \"skill\", \"attribution\", \"realize\", \"join\", \"feel\", \"notion\", \"credit\", \"acetate\", \"smallpox\", \"vlp\", \"ped\", \"adhere\", \"heparin\", \"stepwise\", \"microtubule\", \"bearing\", \"enteric\", \"diarrhea\", \"reproductive\", \"farm\", \"license\", \"inoculate\", \"diarrhoea\", \"http\", \"livestock\", \"intestinal\", \"bovine\", \"epidemic\", \"original\", \"contaminate\", \"loss\", \"intestine\", \"animal\", \"article\", \"cause\", \"indicate\", \"cat\", \"dog\", \"canine\", \"necrosis\", \"veterinary\", \"node\", \"lymph\", \"pain\", \"vet\", \"head\", \"truncate\", \"transformation\", \"rabie\", \"standardize\", \"journal\", \"myeloid\", \"untranslated\", \"bacillus\", \"subcutaneous\", \"inducer\", \"dimer\", \"isotype\", \"microscope\", \"communicate\", \"lobe\", \"teach\", \"creatinine\", \"intron\", \"diverge\", \"histology\", \"meningitis\", \"renal\", \"electron\", \"linker\", \"apparent\", \"reserve\", \"cap\", \"ray\", \"domestic\", \"equine\", \"microscopy\", \"systemic\", \"mark\", \"fatal\", \"mass\", \"spectrometry\", \"exchange\", \"bud\", \"indication\", \"root\", \"helpful\", \"accessible\", \"tandem\", \"unfold\", \"chemotherapy\", \"laser\", \"suggestion\", \"disulfide\", \"packaging\", \"square\", \"comment\", \"orient\", \"approval\", \"shorten\", \"triple\", \"mount\", \"suckling\", \"membranous\", \"destabilize\", \"rehabilitation\", \"computationally\", \"cholera\", \"intelligence\", \"waterborne\", \"layer\", \"zinc\", \"optimization\", \"scanning\", \"sensor\", \"chromatography\", \"liquid\", \"couple\", \"proteomic\", \"deal\", \"saudi\", \"malaria\", \"attitude\", \"fund\", \"today\", \"measle\", \"campaign\", \"arm\", \"output\", \"educational\", \"longitudinal\", \"send\", \"solely\", \"necessitate\", \"exit\", \"pertinent\", \"provincial\", \"discontinue\", \"fulfil\", \"disparity\", \"job\", \"camp\", \"voluntary\", \"sale\", \"unpredictable\", \"intensify\", \"jointly\", \"appendix\", \"fitting\", \"accommodate\", \"university\"], \"Freq\": [10370.0, 13825.0, 3915.0, 10426.0, 2970.0, 7510.0, 10294.0, 4225.0, 4510.0, 3934.0, 4397.0, 11798.0, 5000.0, 3090.0, 4145.0, 3645.0, 7540.0, 2737.0, 3023.0, 1678.0, 5111.0, 3190.0, 3187.0, 7384.0, 4235.0, 4798.0, 3469.0, 3181.0, 2774.0, 4413.0, 823.0045776367188, 733.5037231445312, 724.2107543945312, 560.768310546875, 511.3079528808594, 457.962890625, 413.32598876953125, 310.9209899902344, 301.566162109375, 289.65911865234375, 266.189453125, 250.8664093017578, 220.03152465820312, 212.72727966308594, 209.55172729492188, 205.86915588378906, 200.8423309326172, 199.45094299316406, 185.37435913085938, 181.05276489257812, 179.03392028808594, 176.60520935058594, 172.07286071777344, 170.47071838378906, 170.20945739746094, 170.03872680664062, 169.59515380859375, 163.68896484375, 161.0256805419922, 158.79144287109375, 2402.377197265625, 1461.826416015625, 1417.9515380859375, 786.7774047851562, 972.687744140625, 533.9315185546875, 473.15850830078125, 949.9232788085938, 4863.27490234375, 676.3048095703125, 1443.3671875, 286.14312744140625, 1416.2724609375, 678.5322875976562, 1225.657470703125, 761.3884887695312, 1354.8240966796875, 1041.8514404296875, 538.9734497070312, 744.4302978515625, 3110.8564453125, 942.6068115234375, 935.6040649414062, 1771.043701171875, 2323.690673828125, 846.4053344726562, 1111.668701171875, 965.06640625, 1333.01318359375, 944.6975708007812, 954.2777099609375, 987.6585693359375, 890.6641235351562, 1093.881591796875, 827.2212524414062, 846.3800659179688, 826.2394409179688, 833.9053344726562, 603.2789916992188, 457.78570556640625, 350.9564514160156, 287.8794250488281, 276.8017883300781, 231.086669921875, 222.78778076171875, 206.76104736328125, 192.92933654785156, 189.625732421875, 184.58908081054688, 176.44326782226562, 168.38299560546875, 1568.4669189453125, 163.9776611328125, 157.6293182373047, 152.6727294921875, 151.28868103027344, 151.2310028076172, 149.3531951904297, 143.34678649902344, 129.31707763671875, 127.98196411132812, 123.92041015625, 123.01976013183594, 120.41069030761719, 116.92818450927734, 113.97151947021484, 113.84664916992188, 112.9115982055664, 284.15521240234375, 2412.649169921875, 423.4292297363281, 350.5577392578125, 443.2377624511719, 645.7388916015625, 227.5225830078125, 981.5359497070312, 826.9315795898438, 1464.6937255859375, 982.4427490234375, 672.7118530273438, 1071.2822265625, 539.1354370117188, 645.7305908203125, 387.1081848144531, 372.1611633300781, 429.4676818847656, 1385.7236328125, 931.1707153320312, 598.7830810546875, 366.1817932128906, 924.1249389648438, 610.3495483398438, 2403.242431640625, 1075.82861328125, 1363.4266357421875, 589.5036010742188, 562.003662109375, 887.5018920898438, 1280.7230224609375, 471.7873229980469, 602.3369140625, 521.085693359375, 727.1693115234375, 734.7378540039062, 949.3958129882812, 902.5828247070312, 615.0208740234375, 734.3591918945312, 783.1805419921875, 677.7857666015625, 664.975341796875, 622.3339233398438, 629.7575073242188, 620.5963134765625, 1404.344482421875, 897.8366088867188, 404.5323791503906, 362.68798828125, 342.3985900878906, 335.9054260253906, 301.04510498046875, 257.573486328125, 255.1975555419922, 243.3631134033203, 237.96090698242188, 227.22213745117188, 226.10861206054688, 209.00877380371094, 206.4980010986328, 205.8011016845703, 192.74986267089844, 167.6815643310547, 159.35269165039062, 159.25051879882812, 158.5342254638672, 141.6904296875, 139.35769653320312, 132.6290740966797, 132.51715087890625, 130.23153686523438, 126.90486145019531, 123.72505950927734, 119.12200164794922, 114.31615447998047, 227.03150939941406, 352.4737854003906, 3636.091796875, 326.26617431640625, 746.6483764648438, 845.8289794921875, 178.2229766845703, 1004.7919921875, 359.6695861816406, 310.2303771972656, 2145.816650390625, 925.3659057617188, 1741.794677734375, 2049.15478515625, 1671.434326171875, 704.0779418945312, 345.7453918457031, 317.06793212890625, 1336.1475830078125, 1498.3482666015625, 484.6711730957031, 2550.9775390625, 432.1427917480469, 724.8731079101562, 858.4888305664062, 868.5064697265625, 1245.0819091796875, 537.78857421875, 1492.0350341796875, 574.5199584960938, 874.365478515625, 1108.925048828125, 916.33447265625, 526.86083984375, 849.89013671875, 936.3773803710938, 1324.5802001953125, 1233.397216796875, 734.9783935546875, 751.8182983398438, 866.3759155273438, 881.8185424804688, 748.34716796875, 739.2423095703125, 256.6015930175781, 220.40789794921875, 216.4369354248047, 212.8269805908203, 209.7769317626953, 191.45648193359375, 181.81761169433594, 172.76559448242188, 161.01007080078125, 157.032958984375, 154.75401306152344, 149.37510681152344, 144.1067352294922, 140.54827880859375, 137.6773223876953, 120.15274810791016, 116.27857208251953, 110.3160629272461, 107.884521484375, 99.02928161621094, 95.57691192626953, 85.30125427246094, 81.45984649658203, 79.8018569946289, 79.05810546875, 73.47892761230469, 72.58329010009766, 69.80233001708984, 68.79167938232422, 67.7806396484375, 493.36456298828125, 98.95762634277344, 839.1901245117188, 1091.0260009765625, 189.74813842773438, 348.3953552246094, 574.348876953125, 1932.02783203125, 1555.0419921875, 693.604248046875, 2029.0667724609375, 1029.7633056640625, 2085.51318359375, 272.2984619140625, 320.9316101074219, 997.4359130859375, 499.2151794433594, 389.0284729003906, 1088.6524658203125, 1087.7386474609375, 473.35760498046875, 667.0675048828125, 830.4674682617188, 1044.28759765625, 1162.5863037109375, 2278.069580078125, 933.4529418945312, 1306.5208740234375, 899.7305297851562, 1393.970703125, 1572.2127685546875, 1006.8031616210938, 1055.023193359375, 1620.0400390625, 1674.179931640625, 680.6900024414062, 902.9983520507812, 930.128173828125, 775.9649658203125, 812.332763671875, 1009.9696044921875, 808.0065307617188, 649.4295654296875, 525.4580078125, 262.26885986328125, 212.568115234375, 184.7313690185547, 171.78343200683594, 162.20556640625, 154.5432891845703, 127.53587341308594, 126.00057220458984, 120.78860473632812, 100.26292419433594, 99.88714599609375, 97.10453033447266, 96.1047592163086, 92.13279724121094, 89.21019744873047, 88.9451904296875, 86.55648803710938, 86.5128173828125, 85.35918426513672, 84.0885238647461, 81.36956024169922, 79.86785888671875, 77.74626159667969, 77.54371643066406, 71.50214385986328, 66.6567153930664, 65.26396942138672, 64.48846435546875, 322.16094970703125, 342.1484069824219, 85.52833557128906, 317.37908935546875, 153.24713134765625, 471.2090759277344, 266.65863037109375, 3134.4951171875, 1736.81005859375, 608.2216186523438, 276.98382568359375, 132.8238067626953, 410.43292236328125, 474.9892272949219, 544.5528564453125, 769.9322509765625, 818.3236694335938, 230.3974151611328, 1334.466064453125, 1698.91357421875, 647.0513916015625, 514.8822631835938, 389.1475830078125, 472.85125732421875, 381.85986328125, 1726.7501220703125, 312.9946594238281, 393.5165100097656, 947.1781005859375, 299.1219177246094, 1479.0953369140625, 657.48681640625, 2347.456298828125, 1391.7081298828125, 1265.37841796875, 877.354736328125, 959.7606811523438, 492.954345703125, 954.3258056640625, 520.0369873046875, 851.896240234375, 860.1549682617188, 1229.4727783203125, 1040.71435546875, 791.1691284179688, 634.2091674804688, 736.28076171875, 649.8551635742188, 674.7909545898438, 741.1937866210938, 629.2318725585938, 663.5000610351562, 418.5964050292969, 376.4599609375, 292.5575866699219, 244.29957580566406, 179.40391540527344, 169.25991821289062, 156.39039611816406, 141.52467346191406, 120.81783294677734, 114.6124496459961, 113.33406066894531, 111.48712921142578, 110.22496032714844, 103.11014556884766, 96.43057250976562, 94.29718017578125, 88.76403045654297, 81.8105697631836, 80.5189208984375, 77.65126037597656, 76.89572143554688, 75.48887634277344, 74.83208465576172, 74.74943542480469, 71.86201477050781, 71.34440612792969, 71.15910339355469, 70.3425521850586, 67.6048583984375, 67.16732788085938, 218.23324584960938, 163.9807586669922, 865.71728515625, 328.0545654296875, 145.0793914794922, 184.8436737060547, 288.0303955078125, 220.00559997558594, 176.53993225097656, 331.9984436035156, 2185.355224609375, 441.40911865234375, 170.33135986328125, 176.34539794921875, 413.5643310546875, 432.07373046875, 533.7091674804688, 460.9020690917969, 600.5556640625, 226.73196411132812, 321.4556579589844, 677.2499389648438, 602.636962890625, 537.8397216796875, 458.8419494628906, 1478.5146484375, 1488.265625, 529.1171875, 1393.9012451171875, 892.6151123046875, 582.0762939453125, 559.7349853515625, 408.84423828125, 950.1370239257812, 478.717529296875, 775.0186157226562, 1401.3599853515625, 1248.76806640625, 640.0740356445312, 792.01806640625, 598.1063842773438, 688.50732421875, 773.6351928710938, 517.447021484375, 553.5391845703125, 504.1929016113281, 485.01513671875, 493.083740234375, 472.912841796875, 370.6898193359375, 207.4317169189453, 151.024169921875, 148.3502655029297, 147.3780517578125, 119.87127685546875, 107.65693664550781, 104.02928161621094, 102.78739166259766, 101.66686248779297, 91.41304779052734, 88.38449096679688, 86.91275787353516, 86.36466217041016, 86.05290985107422, 85.49195098876953, 82.1850357055664, 78.47138214111328, 78.35563659667969, 78.02218627929688, 76.38121032714844, 75.22762298583984, 74.13369750976562, 73.56300354003906, 67.06737518310547, 66.99420928955078, 66.76263427734375, 66.05807495117188, 65.42298889160156, 63.80766296386719, 805.9143676757812, 88.74336242675781, 255.28965759277344, 995.3479614257812, 814.2194213867188, 178.4012451171875, 280.3493347167969, 409.1391906738281, 1773.526123046875, 373.3568115234375, 505.4017028808594, 890.171875, 167.40084838867188, 337.5447998046875, 342.1351013183594, 308.7023010253906, 321.07391357421875, 368.7692565917969, 229.4522705078125, 1342.857666015625, 293.99639892578125, 984.4257202148438, 945.6303100585938, 683.0201416015625, 610.995361328125, 529.601318359375, 344.6867370605469, 367.7705078125, 754.212158203125, 1023.849365234375, 309.3287353515625, 889.1557006835938, 1137.962890625, 596.0634155273438, 884.3320922851562, 957.069580078125, 867.3153076171875, 655.1090087890625, 612.3950805664062, 683.9702758789062, 557.7431640625, 668.4291381835938, 525.3321533203125, 730.3892822265625, 598.806396484375, 560.5317993164062, 487.1075134277344, 497.324951171875, 216.49407958984375, 148.3633575439453, 123.95945739746094, 115.99297332763672, 96.52288818359375, 92.4902572631836, 90.8857192993164, 84.93929290771484, 82.7328872680664, 82.38082122802734, 79.42636108398438, 76.5640869140625, 75.78949737548828, 71.0479507446289, 66.61461639404297, 61.17107009887695, 60.246337890625, 54.982234954833984, 53.73933410644531, 52.008941650390625, 51.72667694091797, 51.08112335205078, 50.350833892822266, 48.5087890625, 46.981258392333984, 45.58516311645508, 43.940345764160156, 43.05360412597656, 40.701995849609375, 670.0191650390625, 917.03173828125, 1260.4351806640625, 203.47743225097656, 978.4974975585938, 2283.723876953125, 909.21533203125, 148.62164306640625, 1872.889892578125, 1717.96826171875, 746.4434814453125, 2277.849853515625, 609.9146118164062, 539.9589233398438, 634.8330688476562, 1500.7301025390625, 363.03765869140625, 694.249267578125, 172.94105529785156, 296.73724365234375, 341.55914306640625, 129.03639221191406, 617.8256225585938, 1310.9041748046875, 636.6367797851562, 262.560546875, 2893.22509765625, 539.2765502929688, 652.2791748046875, 524.3734130859375, 441.2391052246094, 1185.7689208984375, 900.5860595703125, 1099.6568603515625, 1423.5426025390625, 883.0941162109375, 835.2557373046875, 1201.95703125, 749.7744140625, 921.2421264648438, 719.4769287109375, 738.7118530273438, 622.3353881835938, 2969.79296875, 364.3067321777344, 292.03875732421875, 238.21397399902344, 183.7869415283203, 158.5904083251953, 158.14256286621094, 139.66481018066406, 136.75050354003906, 105.42037963867188, 104.70245361328125, 96.29552459716797, 92.24163818359375, 88.909912109375, 85.0201187133789, 81.12956237792969, 80.223388671875, 68.52729034423828, 67.08668518066406, 66.74385070800781, 60.25838088989258, 59.590492248535156, 56.83640670776367, 56.695556640625, 56.26568603515625, 51.56117248535156, 49.37822341918945, 49.15682601928711, 47.690975189208984, 47.44715881347656, 505.2635803222656, 476.71844482421875, 601.4297485351562, 710.150390625, 258.15533447265625, 128.22933959960938, 1531.2874755859375, 272.7596130371094, 443.5306701660156, 211.6505584716797, 388.1806945800781, 260.9545593261719, 429.6589660644531, 466.287109375, 478.4284362792969, 484.6066589355469, 847.37451171875, 434.2630615234375, 1082.4111328125, 2910.93701171875, 470.43798828125, 1567.169189453125, 2142.01025390625, 1201.317138671875, 1256.3922119140625, 682.1715087890625, 828.5999755859375, 994.73681640625, 749.9035034179688, 893.3715209960938, 1059.736328125, 1098.317626953125, 776.6210327148438, 775.0177001953125, 575.1427612304688, 755.0783081054688, 898.6140747070312, 572.6868896484375, 670.4502563476562, 613.7203979492188, 650.0535888671875, 689.4606323242188, 634.33544921875, 608.4444580078125, 667.6949462890625, 1148.3260498046875, 579.9444580078125, 447.935791015625, 297.1172790527344, 283.43109130859375, 275.2124938964844, 248.8778839111328, 243.82879638671875, 221.57257080078125, 215.61386108398438, 193.30455017089844, 168.0182342529297, 156.28089904785156, 149.0659637451172, 133.71946716308594, 131.1517791748047, 128.3163299560547, 123.50797271728516, 96.87313842773438, 90.28114318847656, 90.21190643310547, 88.47948455810547, 79.53430938720703, 77.42143249511719, 68.76042938232422, 63.81728744506836, 61.94337844848633, 58.55918502807617, 56.901145935058594, 56.03804397583008, 755.447509765625, 133.25440979003906, 146.61160278320312, 605.7118530273438, 1499.793212890625, 3647.674560546875, 334.697998046875, 734.9248046875, 542.0733642578125, 1343.0645751953125, 1202.162353515625, 232.70162963867188, 798.0258178710938, 1016.896728515625, 955.8673706054688, 780.156982421875, 550.9807739257812, 1089.3870849609375, 423.9542236328125, 475.0387878417969, 882.5658569335938, 828.0933227539062, 1206.91455078125, 494.6430969238281, 1034.905029296875, 986.2341918945312, 496.97943115234375, 784.588134765625, 487.54241943359375, 579.0918579101562, 570.1165161132812, 553.7681884765625, 700.1139526367188, 512.8652954101562, 509.36724853515625, 532.7673950195312, 316.0230407714844, 263.9474182128906, 235.7459716796875, 202.88104248046875, 189.05140686035156, 181.96084594726562, 177.32472229003906, 168.3244171142578, 160.25340270996094, 156.52247619628906, 153.91934204101562, 126.97598266601562, 119.89445495605469, 116.45342254638672, 115.31553649902344, 113.40923309326172, 113.2767333984375, 105.14900207519531, 99.42728424072266, 94.22960662841797, 91.7085952758789, 89.9288558959961, 88.88151550292969, 86.42235565185547, 77.28832244873047, 76.31846618652344, 75.6889877319336, 72.89894104003906, 72.21983337402344, 107.99642944335938, 159.94418334960938, 336.91387939453125, 234.27394104003906, 841.0021362304688, 409.8641357421875, 172.26722717285156, 398.22479248046875, 401.99969482421875, 307.2665710449219, 494.2404479980469, 227.37147521972656, 371.7037048339844, 656.2515258789062, 240.83189392089844, 199.2621612548828, 616.0765991210938, 538.041015625, 287.5186767578125, 1177.9664306640625, 339.8105163574219, 240.79275512695312, 297.8998107910156, 688.2425537109375, 287.5335998535156, 538.9264526367188, 368.2200012207031, 707.0919189453125, 356.4934387207031, 479.37225341796875, 475.3547058105469, 416.472412109375, 372.2984924316406, 388.6597900390625, 339.59747314453125, 326.6839904785156, 327.4163818359375, 312.8343505859375, 319.4783935546875, 866.4113159179688, 327.1015319824219, 304.0595397949219, 230.09725952148438, 192.56788635253906, 182.61175537109375, 163.9309844970703, 153.33444213867188, 147.5829315185547, 120.24459075927734, 119.87017059326172, 118.00057220458984, 116.84953308105469, 105.67948150634766, 95.6802978515625, 95.49226379394531, 95.38360595703125, 93.75262451171875, 93.5581283569336, 91.29125213623047, 80.94782257080078, 77.54667663574219, 76.11018371582031, 75.87931060791016, 72.97862243652344, 69.29733276367188, 66.431640625, 65.85678100585938, 65.74219512939453, 62.936344146728516, 143.2921142578125, 266.06109619140625, 1265.690185546875, 299.0989990234375, 170.15576171875, 796.6324462890625, 1576.366943359375, 778.93701171875, 398.00543212890625, 330.1496276855469, 387.2745361328125, 744.3018188476562, 1234.168701171875, 528.8421630859375, 986.5059814453125, 273.43560791015625, 357.9909362792969, 682.1142578125, 452.6623229980469, 526.789306640625, 389.2413635253906, 351.08575439453125, 410.4754638671875, 349.5346374511719, 330.6615295410156, 594.1566772460938, 811.5293579101562, 354.9736328125, 487.4700622558594, 446.53973388671875, 721.2955932617188, 526.3368530273438, 424.93206787109375, 429.3388977050781, 377.3954772949219, 374.44854736328125, 359.1293029785156, 291.5519714355469, 241.0094757080078, 228.0023651123047, 182.76170349121094, 179.39590454101562, 160.8585205078125, 136.0561065673828, 122.8409194946289, 110.55378723144531, 109.93721771240234, 105.54161071777344, 86.44841766357422, 77.87674713134766, 74.75638580322266, 67.83745574951172, 61.9714469909668, 54.87174987792969, 52.368263244628906, 39.64590835571289, 33.16213607788086, 33.14625549316406, 32.75741195678711, 29.59071922302246, 28.162290573120117, 25.19515609741211, 24.197404861450195, 23.412336349487305, 23.075105667114258, 20.793066024780273, 20.68990135192871, 263.168212890625, 392.04632568359375, 155.39230346679688, 330.75347900390625, 568.4152221679688, 1271.2999267578125, 168.13075256347656, 155.64752197265625, 129.5338592529297, 804.6126708984375, 253.65420532226562, 1361.527587890625, 899.2324829101562, 1001.5628051757812, 704.83203125, 262.1193542480469, 797.47998046875, 292.32293701171875, 620.4711303710938, 861.5809936523438, 797.7229614257812, 1725.3350830078125, 540.6473388671875, 973.6197509765625, 298.3221130371094, 660.2301025390625, 438.6075134277344, 1195.1826171875, 947.7527465820312, 731.5006103515625, 514.935302734375, 425.5271911621094, 583.45947265625, 615.6157836914062, 654.0519409179688, 547.6806640625, 680.12890625, 552.99658203125, 629.0133056640625, 541.4833984375, 484.62640380859375, 571.8323364257812, 465.7538757324219, 522.9523315429688, 690.216064453125, 246.91514587402344, 227.6899871826172, 193.8558807373047, 184.44189453125, 145.1780548095703, 142.0640411376953, 124.54222106933594, 116.78180694580078, 111.50799560546875, 107.83138275146484, 95.26458740234375, 92.50354766845703, 84.84527587890625, 81.4859619140625, 80.81632995605469, 77.19779205322266, 76.02320098876953, 66.2759017944336, 63.78194046020508, 63.28477478027344, 58.64735412597656, 58.13920211791992, 57.62531280517578, 57.506004333496094, 55.55002975463867, 55.079158782958984, 52.20653533935547, 51.82491683959961, 50.21596145629883, 119.9720230102539, 166.8079833984375, 181.78468322753906, 218.70448303222656, 641.6361694335938, 332.78759765625, 154.0762176513672, 123.30923461914062, 472.4458923339844, 796.1659545898438, 104.3228530883789, 264.59698486328125, 813.7131958007812, 513.4239501953125, 232.8504180908203, 339.2831115722656, 718.6063232421875, 317.0913391113281, 712.9825439453125, 534.8497314453125, 759.0897827148438, 508.311279296875, 357.09075927734375, 607.1089477539062, 428.2188415527344, 382.0915222167969, 338.0202941894531, 342.4147644042969, 337.52984619140625, 349.7030334472656, 438.7563171386719, 271.9118957519531, 368.4986267089844, 295.5519714355469, 283.27227783203125, 278.8564453125, 446.2781066894531, 370.5074462890625, 275.60186767578125, 249.99588012695312, 233.8394317626953, 194.766845703125, 169.02066040039062, 164.11151123046875, 144.75144958496094, 128.12611389160156, 126.00972747802734, 115.4526138305664, 108.31584930419922, 104.49868774414062, 95.45539093017578, 92.43274688720703, 88.2567367553711, 86.51542663574219, 84.36083984375, 79.85810089111328, 74.94439697265625, 74.79103088378906, 74.63387298583984, 72.9718017578125, 71.82515716552734, 71.03548431396484, 71.00914764404297, 70.91413116455078, 66.65493774414062, 66.44415283203125, 131.48892211914062, 137.15664672851562, 356.1867980957031, 275.7355041503906, 246.4658660888672, 259.349365234375, 185.4484405517578, 126.2723159790039, 89.60198211669922, 139.75192260742188, 144.3649139404297, 267.1026306152344, 230.9905548095703, 161.37918090820312, 274.48565673828125, 183.3398895263672, 199.36561584472656, 213.48316955566406, 318.6102294921875, 206.72129821777344, 271.7379150390625, 247.82899475097656, 194.2490234375, 299.9879150390625, 204.81678771972656, 181.61485290527344, 167.92640686035156, 525.0985107421875, 329.3388977050781, 189.70301818847656, 184.73672485351562, 129.4735565185547, 113.38892364501953, 96.9532699584961, 77.01396942138672, 71.59151458740234, 66.2144775390625, 62.233150482177734, 53.37855529785156, 51.788028717041016, 47.8166618347168, 38.439884185791016, 31.807252883911133, 23.104442596435547, 11.040387153625488, 9.037470817565918, 8.968541145324707, 7.9632344245910645, 6.783153533935547, 5.877840995788574, 77.07977294921875, 4.816899299621582, 157.55662536621094, 4.026549816131592, 3.4916932582855225, 786.3697509765625, 320.2807312011719, 692.0520629882812, 418.7488708496094, 65.0396728515625, 812.6961669921875, 292.3931884765625, 1358.172119140625, 366.4634094238281, 95.92008209228516, 55.175819396972656, 129.0142822265625, 377.19354248046875, 228.45623779296875, 337.93780517578125, 301.7554931640625, 265.9075927734375, 306.85552978515625, 241.5012664794922, 341.1083984375, 190.7757110595703, 384.7731018066406, 286.82159423828125, 253.99009704589844, 402.27178955078125, 397.9511413574219, 313.49163818359375, 231.85684204101562, 228.4046630859375, 251.52658081054688, 221.982421875, 221.39756774902344, 212.9979705810547, 213.5032196044922, 671.858154296875, 668.3246459960938, 469.3443908691406, 422.0655822753906, 370.8519287109375, 331.9411926269531, 193.07150268554688, 123.63410949707031, 104.54847717285156, 101.12086486816406, 96.6710433959961, 93.48368072509766, 92.23782348632812, 85.84396362304688, 85.54153442382812, 71.54713439941406, 66.33004760742188, 65.56547546386719, 65.22639465332031, 64.17306518554688, 52.58971405029297, 48.11838912963867, 45.846595764160156, 45.76071548461914, 43.329166412353516, 38.86246871948242, 37.39512634277344, 37.32774353027344, 37.108909606933594, 36.564884185791016, 340.3338317871094, 680.68017578125, 247.45303344726562, 289.5361022949219, 205.5880584716797, 145.18601989746094, 140.24063110351562, 134.38343811035156, 119.38874816894531, 165.13145446777344, 181.11351013183594, 289.760986328125, 193.4074249267578, 88.32478332519531, 175.89649963378906, 104.8136978149414, 163.32814025878906, 128.02162170410156, 103.4971694946289, 96.27987670898438, 693.8019409179688, 470.6282653808594, 331.63311767578125, 305.3643493652344, 302.3429260253906, 270.46697998046875, 201.723876953125, 171.6100616455078, 163.09588623046875, 154.07850646972656, 137.46978759765625, 132.69126892089844, 113.82757568359375, 105.88166809082031, 83.16780090332031, 73.8451156616211, 73.52045440673828, 70.59355926513672, 70.3422622680664, 64.40047454833984, 63.593997955322266, 61.49989318847656, 61.00822448730469, 60.30178451538086, 57.149505615234375, 54.21007537841797, 53.59580612182617, 52.82915115356445, 50.26161575317383, 49.4965934753418, 89.4151382446289, 162.42864990234375, 178.58786010742188, 83.8605728149414, 131.58396911621094, 84.4537582397461, 118.2048568725586, 80.09613037109375, 113.07410430908203, 87.80786895751953, 110.6355209350586, 100.35902404785156, 78.27404022216797, 76.59658813476562, 519.5416259765625, 209.06976318359375, 159.89523315429688, 152.602294921875, 148.51438903808594, 130.2234649658203, 106.85517883300781, 99.5689468383789, 89.9466781616211, 80.01902770996094, 79.94636535644531, 77.6875991821289, 69.07215881347656, 67.27688598632812, 59.21284103393555, 57.60752868652344, 55.32046127319336, 51.8355712890625, 51.04633331298828, 50.44930648803711, 48.21953582763672, 47.43247985839844, 44.53041076660156, 43.86482620239258, 42.526763916015625, 40.992897033691406, 36.936607360839844, 36.07452392578125, 35.432884216308594, 32.47340774536133, 134.4686737060547, 93.23702239990234, 75.09237670898438, 67.05890655517578, 86.1424789428711, 84.97311401367188, 81.51457977294922, 68.17206573486328, 60.810211181640625, 122.037109375, 109.66878509521484, 103.94219207763672, 103.6763916015625, 103.1191177368164, 102.49584197998047, 102.14051818847656, 79.65181732177734, 77.7635726928711, 73.84561920166016, 70.3809585571289, 68.80005645751953, 68.2697982788086, 59.697601318359375, 56.98477554321289, 49.790863037109375, 47.0710563659668, 45.57866287231445, 44.88220977783203, 44.51131057739258, 40.39873504638672, 39.13351058959961, 33.47011184692383, 31.420467376708984, 31.30352210998535, 28.866870880126953, 27.50691032409668, 25.572607040405273, 21.499208450317383, 21.177698135375977, 46.04715347290039, 35.87498092651367], \"Total\": [10370.0, 13825.0, 3915.0, 10426.0, 2970.0, 7510.0, 10294.0, 4225.0, 4510.0, 3934.0, 4397.0, 11798.0, 5000.0, 3090.0, 4145.0, 3645.0, 7540.0, 2737.0, 3023.0, 1678.0, 5111.0, 3190.0, 3187.0, 7384.0, 4235.0, 4798.0, 3469.0, 3181.0, 2774.0, 4413.0, 824.1160888671875, 734.615234375, 725.322265625, 561.8798217773438, 512.4194946289062, 459.0743408203125, 414.4381408691406, 312.0324401855469, 302.6776123046875, 290.77056884765625, 267.3009033203125, 251.9779052734375, 221.1430206298828, 213.83877563476562, 210.66322326660156, 206.98065185546875, 201.95382690429688, 200.56243896484375, 186.48585510253906, 182.1642608642578, 180.14541625976562, 177.71670532226562, 173.18435668945312, 171.58221435546875, 171.32095336914062, 171.1502227783203, 170.70664978027344, 164.8004608154297, 162.13717651367188, 159.90293884277344, 2490.412841796875, 1566.9425048828125, 1523.9189453125, 832.1831665039062, 1088.83984375, 578.089599609375, 519.03369140625, 1173.3284912109375, 7510.00146484375, 857.1624755859375, 2211.99853515625, 315.3655090332031, 2224.35400390625, 908.1237182617188, 1898.2802734375, 1057.146240234375, 2340.63720703125, 1955.412109375, 779.0134887695312, 1244.9365234375, 10370.2529296875, 1785.1552734375, 1858.895751953125, 7540.02880859375, 13825.595703125, 2221.902587890625, 4643.34326171875, 3507.7373046875, 10294.9990234375, 3501.236083984375, 4225.56689453125, 5995.59619140625, 3622.49951171875, 11798.052734375, 3090.70849609375, 4285.5771484375, 3506.965087890625, 5575.33251953125, 604.3890380859375, 458.89569091796875, 352.0664367675781, 288.9894104003906, 277.9117736816406, 232.19668579101562, 223.89779663085938, 207.87106323242188, 194.0393524169922, 190.73574829101562, 185.6990966796875, 177.55328369140625, 169.49301147460938, 1578.9847412109375, 165.08767700195312, 158.7393341064453, 153.78274536132812, 152.39869689941406, 152.3410186767578, 150.4632110595703, 144.45680236816406, 130.42709350585938, 129.09197998046875, 125.03041076660156, 124.1297607421875, 121.52069091796875, 118.0381851196289, 115.0815200805664, 114.95664978027344, 114.02159881591797, 294.24493408203125, 2949.239013671875, 482.32086181640625, 393.8191833496094, 514.1278076171875, 808.0752563476562, 249.1846466064453, 1328.6527099609375, 1114.452880859375, 2280.134033203125, 1428.6658935546875, 907.7861938476562, 1593.0399169921875, 714.8328247070312, 904.5725708007812, 485.6006164550781, 463.4223327636719, 557.239990234375, 2506.900390625, 1542.00537109375, 866.755615234375, 454.7944030761719, 1583.250732421875, 915.3781127929688, 7384.802734375, 2291.3603515625, 3472.8701171875, 976.7693481445312, 926.1715698242188, 2081.9951171875, 4413.38037109375, 735.46728515625, 1272.3074951171875, 926.3569946289062, 2208.34375, 2404.996826171875, 5111.52099609375, 5004.4501953125, 1869.0672607421875, 4397.05224609375, 6119.83154296875, 3636.236083984375, 3469.74658203125, 2067.288818359375, 3372.68505859375, 2245.216552734375, 1405.4595947265625, 898.9518432617188, 405.6474609375, 363.8030700683594, 343.513671875, 337.0205078125, 302.1601867675781, 258.6885681152344, 256.31268310546875, 244.47825622558594, 239.0760498046875, 228.3372802734375, 227.2237548828125, 210.12391662597656, 207.61314392089844, 206.92588806152344, 193.86500549316406, 168.7967071533203, 160.46783447265625, 160.36566162109375, 159.6493682861328, 142.80557250976562, 140.47283935546875, 133.7442169189453, 133.63229370117188, 131.3466796875, 128.01998901367188, 124.84017944335938, 120.23712158203125, 115.4312744140625, 233.99783325195312, 375.8594970703125, 4510.16015625, 347.526611328125, 855.1890869140625, 997.4841918945312, 185.03233337402344, 1273.0220947265625, 404.6301574707031, 350.97613525390625, 3519.41162109375, 1434.0887451171875, 3216.689453125, 4235.00341796875, 3305.619140625, 1120.343017578125, 431.8414001464844, 384.20526123046875, 3168.802734375, 3778.1806640625, 721.8721923828125, 10426.9580078125, 625.1456909179688, 1443.99658203125, 2034.6724853515625, 2156.842041015625, 4088.624755859375, 946.0241088867188, 6119.83154296875, 1067.0689697265625, 2359.059814453125, 4798.99267578125, 3190.418212890625, 929.8438720703125, 2781.98046875, 4077.622314453125, 10294.9990234375, 11798.052734375, 2718.451171875, 3181.733642578125, 5575.33251953125, 6845.10498046875, 5000.32666015625, 13825.595703125, 257.7074279785156, 221.51377868652344, 217.54281616210938, 213.932861328125, 210.8828125, 192.56236267089844, 182.92349243164062, 173.87147521972656, 162.11595153808594, 158.1388397216797, 155.85989379882812, 150.48098754882812, 145.21261596679688, 141.65415954589844, 138.783203125, 121.25860595703125, 117.38442993164062, 111.42192077636719, 108.9903793334961, 100.13513946533203, 96.68276977539062, 86.40711212158203, 82.56570434570312, 80.90771484375, 80.1639633178711, 74.58478546142578, 73.68914794921875, 70.90818786621094, 69.89753723144531, 68.8864974975586, 518.8805541992188, 102.00967407226562, 1007.158935546875, 1357.9788818359375, 208.56405639648438, 407.2279357910156, 711.28662109375, 2783.919677734375, 2542.345703125, 991.5610961914062, 3566.097900390625, 1658.887451171875, 4025.66064453125, 339.89715576171875, 421.1771240234375, 1811.6060791015625, 758.6956176757812, 551.6557006835938, 2242.54541015625, 2245.216552734375, 755.5646362304688, 1283.3370361328125, 1892.867431640625, 2737.7509765625, 3469.74658203125, 10370.2529296875, 2461.50732421875, 4233.85302734375, 2527.340087890625, 5995.59619140625, 7510.00146484375, 3501.236083984375, 4397.05224609375, 10426.9580078125, 13825.595703125, 2116.003662109375, 5004.4501953125, 6119.83154296875, 3372.68505859375, 4077.622314453125, 11798.052734375, 5575.33251953125, 650.5345458984375, 526.56298828125, 263.373779296875, 213.67303466796875, 185.83628845214844, 172.8883514404297, 163.31048583984375, 155.64820861816406, 128.6407928466797, 127.1054916381836, 121.89352416992188, 101.36784362792969, 100.9920654296875, 98.2094497680664, 97.20967864990234, 93.23771667480469, 90.31511688232422, 90.05010986328125, 87.66140747070312, 87.61773681640625, 86.46410369873047, 85.19344329833984, 82.47447967529297, 80.9727783203125, 78.85118103027344, 78.64863586425781, 72.60706329345703, 67.76163482666016, 66.36888885498047, 65.5933837890625, 333.16998291015625, 358.2141418457031, 87.55433654785156, 341.6859436035156, 161.38162231445312, 530.5961303710938, 294.7652282714844, 4225.56689453125, 2307.724853515625, 737.383544921875, 312.9814147949219, 140.91639709472656, 493.75048828125, 598.513671875, 709.62939453125, 1061.1971435546875, 1155.871337890625, 270.31390380859375, 2212.01123046875, 2995.6201171875, 943.6409301757812, 717.570068359375, 528.1795654296875, 676.9349975585938, 544.718994140625, 4233.85302734375, 422.32318115234375, 592.9767456054688, 2221.902587890625, 399.2803039550781, 5133.92333984375, 1480.403564453125, 13825.595703125, 5873.37890625, 5575.33251953125, 2768.4072265625, 3566.097900390625, 953.2877807617188, 4643.34326171875, 1102.64453125, 4088.624755859375, 4285.5771484375, 11798.052734375, 7540.02880859375, 3882.395263671875, 2881.864013671875, 6845.10498046875, 3506.965087890625, 4537.87060546875, 10294.9990234375, 3140.132568359375, 6119.83154296875, 419.7040710449219, 377.567626953125, 293.6652526855469, 245.40724182128906, 180.51158142089844, 170.36758422851562, 157.5420684814453, 142.63233947753906, 121.92549896240234, 115.7201156616211, 114.44172668457031, 112.59479522705078, 111.33262634277344, 104.21781158447266, 97.53823852539062, 95.40484619140625, 89.87169647216797, 82.9182357788086, 81.6265869140625, 78.75892639160156, 78.00338745117188, 76.59654235839844, 75.93975067138672, 75.85710144042969, 72.96968078613281, 72.45207214355469, 72.26676940917969, 71.4502182006836, 68.7125244140625, 68.27499389648438, 223.36972045898438, 170.79673767089844, 955.635986328125, 359.7087707519531, 153.21868896484375, 199.23141479492188, 322.7557373046875, 252.05616760253906, 199.88845825195312, 418.6843566894531, 3937.179443359375, 607.3197631835938, 200.6404266357422, 209.66928100585938, 618.4351806640625, 667.6138916015625, 880.8738403320312, 761.1715087890625, 1096.2093505859375, 299.0736389160156, 497.49853515625, 1455.6243896484375, 1247.0296630859375, 1071.195556640625, 852.435302734375, 5133.92333984375, 5334.5576171875, 1100.432373046875, 5000.32666015625, 2493.83740234375, 1323.7938232421875, 1248.0308837890625, 766.8912963867188, 3983.174560546875, 1101.6795654296875, 2943.101806640625, 11798.052734375, 10294.9990234375, 2225.4287109375, 5004.4501953125, 2461.50732421875, 3882.395263671875, 7540.02880859375, 2045.1968994140625, 3636.236083984375, 2211.99853515625, 1694.116455078125, 4537.87060546875, 4285.5771484375, 371.80279541015625, 208.5447235107422, 152.13717651367188, 149.46327209472656, 148.49105834960938, 120.9842758178711, 108.76993560791016, 105.14228057861328, 103.900390625, 102.77986145019531, 92.52604675292969, 89.49748992919922, 88.0257568359375, 87.4776611328125, 87.16590881347656, 86.60494995117188, 83.29803466796875, 79.58438110351562, 79.46863555908203, 79.13518524169922, 77.49420928955078, 76.34062194824219, 75.24669647216797, 74.6760025024414, 68.18037414550781, 68.10720825195312, 67.8756332397461, 67.17107391357422, 66.5359878540039, 64.92066192626953, 870.6824951171875, 91.39871215820312, 276.7467041015625, 1319.3682861328125, 1156.158203125, 206.86622619628906, 350.6586608886719, 545.6323852539062, 3090.83447265625, 500.7385559082031, 715.4410400390625, 1584.8902587890625, 202.60833740234375, 487.5079345703125, 497.89727783203125, 438.4619445800781, 463.104736328125, 554.640380859375, 303.4563293457031, 3102.755126953125, 433.10284423828125, 2225.4287109375, 2193.8173828125, 1409.77294921875, 1233.947265625, 1040.96826171875, 565.1072387695312, 628.1634521484375, 2003.8575439453125, 3636.236083984375, 503.6025085449219, 3140.132568359375, 5334.5576171875, 1682.02099609375, 4109.3486328125, 6119.83154296875, 5004.4501953125, 2577.8359375, 2208.34375, 3501.236083984375, 2086.233642578125, 4537.87060546875, 2054.212158203125, 7384.802734375, 3472.593505859375, 3216.689453125, 1855.9366455078125, 498.4393615722656, 217.60853576660156, 149.477783203125, 125.07388305664062, 117.1073989868164, 97.63731384277344, 93.60468292236328, 92.0001449584961, 86.05371856689453, 83.8473129272461, 83.49524688720703, 80.54078674316406, 77.67851257324219, 76.90392303466797, 72.1623764038086, 67.72904205322266, 62.28548812866211, 61.360755920410156, 56.09665298461914, 54.85375213623047, 53.12335968017578, 52.841094970703125, 52.19554138183594, 51.46525192260742, 49.623207092285156, 48.09567642211914, 46.699581146240234, 45.05476379394531, 44.16802215576172, 41.81641387939453, 704.9796752929688, 1095.6865234375, 1544.83056640625, 229.62025451660156, 1287.84716796875, 3645.463134765625, 1319.488037109375, 173.0527801513672, 3023.484130859375, 2774.079345703125, 1108.87890625, 4145.02587890625, 925.6234741210938, 819.8270874023438, 1007.457763671875, 3105.185302734375, 540.6734008789062, 1234.4013671875, 216.5124969482422, 448.2860107421875, 562.6260375976562, 153.17938232421875, 1351.55029296875, 3983.174560546875, 1443.99658203125, 413.7189636230469, 13825.595703125, 1199.6029052734375, 1628.3858642578125, 1227.5435791015625, 942.3712158203125, 5000.32666015625, 3337.179443359375, 5995.59619140625, 10426.9580078125, 4109.3486328125, 3778.1806640625, 10294.9990234375, 4411.837890625, 11798.052734375, 5334.5576171875, 6845.10498046875, 5873.37890625, 2970.902587890625, 365.41650390625, 293.1485290527344, 239.32376098632812, 184.896728515625, 159.7001953125, 159.25234985351562, 140.77459716796875, 137.86029052734375, 106.53018188476562, 105.812255859375, 97.40532684326172, 93.3514404296875, 90.01971435546875, 86.12992095947266, 82.23936462402344, 81.33319091796875, 69.63709259033203, 68.19648742675781, 67.85365295410156, 61.36817169189453, 60.70028305053711, 57.946197509765625, 57.80534744262695, 57.3754768371582, 52.670963287353516, 50.488014221191406, 50.26661682128906, 48.80076599121094, 48.556949615478516, 529.8380737304688, 606.1214599609375, 828.3421630859375, 1018.36181640625, 330.0997314453125, 150.2532196044922, 2884.495849609375, 379.2500915527344, 698.904296875, 292.2635192871094, 634.23583984375, 389.0124206542969, 756.6262817382812, 860.9497680664062, 946.6107788085938, 970.157470703125, 2156.842041015625, 844.6483764648438, 3168.802734375, 13825.595703125, 971.8439331054688, 5873.37890625, 10426.9580078125, 4235.00341796875, 4798.99267578125, 1810.088134765625, 2527.340087890625, 3507.7373046875, 2199.533935546875, 3102.755126953125, 4397.05224609375, 5995.59619140625, 2881.864013671875, 3305.619140625, 1622.47802734375, 4109.3486328125, 7384.802734375, 2081.9951171875, 4411.837890625, 2995.6201171875, 3915.934326171875, 6845.10498046875, 5004.4501953125, 3937.179443359375, 11798.052734375, 1149.43603515625, 581.0545654296875, 449.0458068847656, 298.227294921875, 284.5411071777344, 276.322509765625, 249.98794555664062, 244.93885803222656, 222.68263244628906, 216.7239227294922, 194.41461181640625, 169.1282958984375, 157.39096069335938, 150.176025390625, 134.82952880859375, 132.2618408203125, 129.4263916015625, 124.61802673339844, 97.98319244384766, 91.39119720458984, 91.32196044921875, 89.58953857421875, 80.64436340332031, 78.53148651123047, 69.8704833984375, 64.9273452758789, 63.05342483520508, 59.66923141479492, 58.011192321777344, 57.14809036254883, 798.371826171875, 142.68455505371094, 162.47088623046875, 797.5369262695312, 2225.474609375, 10370.2529296875, 556.557861328125, 1622.47802734375, 1114.80078125, 4397.05224609375, 3915.934326171875, 367.42205810546875, 2527.340087890625, 3770.356201171875, 3444.037353515625, 2737.7509765625, 1528.2105712890625, 5111.52099609375, 1082.8260498046875, 1368.0908203125, 4643.34326171875, 4411.837890625, 10294.9990234375, 1721.885498046875, 11798.052734375, 10426.9580078125, 1785.1552734375, 7540.02880859375, 1858.895751953125, 3675.714599609375, 3622.49951171875, 3800.0361328125, 13825.595703125, 2884.495849609375, 3937.179443359375, 533.8815307617188, 317.1370849609375, 265.06146240234375, 236.8600616455078, 203.99513244628906, 190.16549682617188, 183.07533264160156, 178.43881225585938, 169.43850708007812, 161.36749267578125, 157.63656616210938, 155.03343200683594, 128.09007263183594, 121.00855255126953, 117.56752014160156, 116.42963409423828, 114.52333068847656, 114.39083099365234, 106.26309967041016, 100.5413818359375, 95.34370422363281, 92.82269287109375, 91.04295349121094, 89.99561309814453, 87.53645324707031, 78.40242004394531, 77.43256378173828, 76.80308532714844, 74.0130386352539, 73.33393096923828, 111.28703308105469, 173.50436401367188, 402.9217834472656, 269.6302490234375, 1143.994140625, 515.6090087890625, 193.8345947265625, 562.5563354492188, 574.8150024414062, 414.5331726074219, 758.2974243164062, 286.4081115722656, 548.9788818359375, 1242.954833984375, 343.2759094238281, 263.0470275878906, 1528.2105712890625, 1368.0908203125, 501.1943664550781, 7384.802734375, 730.58740234375, 383.20428466796875, 596.1524047851562, 3778.1806640625, 577.4925537109375, 2359.059814453125, 1022.683837890625, 4798.99267578125, 1114.80078125, 2881.864013671875, 4537.87060546875, 3181.733642578125, 2404.996826171875, 4077.622314453125, 2071.965087890625, 1637.4520263671875, 2398.17529296875, 4109.3486328125, 7540.02880859375, 867.5236206054688, 328.2137145996094, 305.1717224121094, 231.20947265625, 193.6800994873047, 183.72396850585938, 165.04319763183594, 154.4466552734375, 148.6951446533203, 121.3568115234375, 120.98239135742188, 119.11279296875, 117.96175384521484, 106.79170227050781, 96.79251861572266, 96.60448455810547, 96.4958267211914, 94.8648452758789, 94.67034912109375, 92.40347290039062, 82.06004333496094, 78.65889739990234, 77.22240447998047, 76.99153137207031, 74.0908432006836, 70.40955352783203, 67.54386138916016, 66.96900177001953, 66.85441589355469, 64.04855346679688, 149.95330810546875, 308.91046142578125, 1855.9366455078125, 378.7688903808594, 200.0927734375, 1343.2781982421875, 3090.70849609375, 1596.9891357421875, 675.2103271484375, 571.8099365234375, 714.205810546875, 1817.8624267578125, 3934.919677734375, 1231.650146484375, 3181.733642578125, 485.3761901855469, 734.8091430664062, 2072.263916015625, 1205.44287109375, 1678.0604248046875, 994.5065307617188, 835.89794921875, 1190.976806640625, 933.18505859375, 854.6622924804688, 3472.593505859375, 7540.02880859375, 1070.5184326171875, 2713.876220703125, 2199.533935546875, 11798.052734375, 10370.2529296875, 4145.02587890625, 10294.9990234375, 4285.5771484375, 4088.624755859375, 2774.079345703125, 292.6631164550781, 242.12066650390625, 229.11355590820312, 183.87289428710938, 180.50709533691406, 161.96971130371094, 137.16729736328125, 123.95210266113281, 111.66497039794922, 111.04840087890625, 106.65279388427734, 87.55960083007812, 78.98793029785156, 75.86756896972656, 68.94863891601562, 63.0826301574707, 55.982933044433594, 53.47944641113281, 40.7570915222168, 34.273319244384766, 34.25743865966797, 33.868595123291016, 30.701900482177734, 29.27347183227539, 26.306337356567383, 25.30858612060547, 24.523517608642578, 24.18628692626953, 21.904247283935547, 21.801082611083984, 299.6957702636719, 480.43707275390625, 188.93641662597656, 458.7757263183594, 843.9641723632812, 2133.96142578125, 233.0968780517578, 213.98941040039062, 175.87774658203125, 1602.5234375, 400.3852233886719, 3190.418212890625, 2397.744140625, 2834.297119140625, 1907.564208984375, 486.031494140625, 2511.92041015625, 586.1463012695312, 1916.5322265625, 3469.74658203125, 3187.299072265625, 11798.052734375, 1669.2886962890625, 5000.32666015625, 634.0520629882812, 2858.804931640625, 1425.870361328125, 10294.9990234375, 6845.10498046875, 4077.622314453125, 2045.1968994140625, 1407.2103271484375, 3023.484130859375, 3675.714599609375, 4285.5771484375, 2781.98046875, 5133.92333984375, 3105.185302734375, 5111.52099609375, 3216.689453125, 2841.4111328125, 7540.02880859375, 2506.900390625, 10426.9580078125, 691.3318481445312, 248.03086853027344, 228.8057098388672, 194.9716033935547, 185.5576171875, 146.2937774658203, 143.1797637939453, 125.65795135498047, 117.89753723144531, 112.62372589111328, 108.94711303710938, 96.38031768798828, 93.61927795410156, 85.96100616455078, 82.60169219970703, 81.93206024169922, 78.31352233886719, 77.13893127441406, 67.39163208007812, 64.89766693115234, 64.40050506591797, 59.76307678222656, 59.25492477416992, 58.74103546142578, 58.621726989746094, 56.66575241088867, 56.194881439208984, 53.32225799560547, 52.94063949584961, 51.33168411254883, 127.26039123535156, 184.47682189941406, 218.8825225830078, 283.5372009277344, 1205.44287109375, 535.2537841796875, 203.08261108398438, 158.39431762695312, 1070.5184326171875, 2359.059814453125, 132.90452575683594, 544.9564819335938, 3187.299072265625, 1577.6463623046875, 466.3316650390625, 1022.683837890625, 3934.919677734375, 929.8438720703125, 4413.38037109375, 2582.784912109375, 5111.52099609375, 3770.356201171875, 1869.0672607421875, 6845.10498046875, 3675.714599609375, 2841.4111328125, 2511.92041015625, 2781.98046875, 3181.733642578125, 3983.174560546875, 11798.052734375, 1596.9891357421875, 10294.9990234375, 2881.864013671875, 2315.504150390625, 2713.876220703125, 447.3909606933594, 371.62030029296875, 276.7147216796875, 251.1087188720703, 234.9522705078125, 195.8796844482422, 170.1334991455078, 165.22434997558594, 145.86428833007812, 129.23895263671875, 127.1225814819336, 116.56546783447266, 109.42870330810547, 105.61154174804688, 96.56824493408203, 93.54560089111328, 89.36959075927734, 87.62828063964844, 85.47369384765625, 80.97095489501953, 76.0572509765625, 75.90388488769531, 75.7467269897461, 74.08465576171875, 72.9380111694336, 72.1483383178711, 72.12200164794922, 72.02698516845703, 67.76779174804688, 67.5570068359375, 141.25653076171875, 154.00254821777344, 482.1737365722656, 375.7574768066406, 334.1596374511719, 402.253173828125, 260.0936584472656, 156.98094177246094, 99.27082061767578, 198.22311401367188, 208.8775177001953, 553.2959594726562, 450.29571533203125, 299.17578125, 947.1360473632812, 423.1596984863281, 544.9564819335938, 643.0889282226562, 1721.885498046875, 617.8611450195312, 1637.4520263671875, 1234.4013671875, 734.8091430664062, 5000.32666015625, 1703.4757080078125, 1040.96826171875, 840.0062866210938, 526.2086181640625, 330.4490051269531, 190.8131103515625, 185.84681701660156, 130.58364868164062, 114.4990234375, 98.0634536743164, 78.12406921386719, 72.70161437988281, 67.32457733154297, 63.343257904052734, 54.48866271972656, 52.898136138916016, 48.9267692565918, 39.549991607666016, 32.917362213134766, 24.21454429626465, 12.15048885345459, 10.14757251739502, 10.078642845153809, 9.073335647583008, 7.893255710601807, 6.987943172454834, 93.32012176513672, 5.927001476287842, 197.51878356933594, 5.136651992797852, 4.601795196533203, 1052.9371337890625, 449.60150146484375, 1048.4794921875, 695.5595092773438, 98.11853790283203, 1678.0604248046875, 616.1687622070312, 3915.934326171875, 854.6622924804688, 183.1185760498047, 94.74714660644531, 290.64031982421875, 1283.3370361328125, 758.6956176757812, 1588.9017333984375, 1475.7447509765625, 1357.9788818359375, 1817.8624267578125, 1231.650146484375, 2737.7509765625, 797.5369262695312, 3934.919677734375, 2116.003662109375, 2072.2353515625, 10294.9990234375, 10370.2529296875, 7540.02880859375, 2511.92041015625, 3181.733642578125, 10426.9580078125, 3622.49951171875, 3800.0361328125, 2582.784912109375, 3469.74658203125, 672.9722900390625, 669.4387817382812, 470.45855712890625, 423.17974853515625, 371.9660949707031, 333.05535888671875, 194.18563842773438, 124.74824523925781, 105.66261291503906, 102.23500061035156, 97.7851791381836, 94.59781646728516, 93.35195922851562, 86.95809936523438, 86.65567016601562, 72.66127014160156, 67.44418334960938, 66.67961120605469, 66.34053039550781, 65.28720092773438, 53.703853607177734, 49.23252868652344, 46.96073532104492, 46.874855041503906, 44.44330596923828, 39.97660827636719, 38.5092658996582, 38.4418830871582, 38.22304916381836, 37.67902374267578, 391.2198181152344, 862.9068603515625, 332.2835388183594, 400.1280212402344, 316.6645812988281, 211.5617218017578, 207.64852905273438, 200.1184539794922, 196.04991149902344, 371.8931579589844, 522.573486328125, 1542.00537109375, 667.6138916015625, 136.81288146972656, 842.1266479492188, 219.5598602294922, 2881.864013671875, 1156.158203125, 4798.99267578125, 3506.965087890625, 694.9166259765625, 471.74298095703125, 332.7478332519531, 306.47906494140625, 303.4576416015625, 271.5816955566406, 202.83856201171875, 172.72474670410156, 164.2105712890625, 155.1931915283203, 138.58447265625, 133.8059539794922, 114.94226837158203, 106.9963607788086, 84.2824935913086, 74.95980834960938, 74.63514709472656, 71.708251953125, 71.45695495605469, 65.51516723632812, 64.70868682861328, 62.61458969116211, 62.122920989990234, 61.416481018066406, 58.26420211791992, 55.324771881103516, 54.71050262451172, 53.94384765625, 51.376312255859375, 50.611289978027344, 101.46312713623047, 206.32223510742188, 322.43048095703125, 108.02398681640625, 231.2882843017578, 129.25462341308594, 269.1842956542969, 119.22503662109375, 313.7950439453125, 183.32887268066406, 399.2181091308594, 530.4695434570312, 236.6534881591797, 338.30621337890625, 520.6583862304688, 210.18649291992188, 161.011962890625, 153.71902465820312, 149.63111877441406, 131.34019470214844, 108.00614929199219, 100.68568420410156, 91.06341552734375, 81.1357650756836, 81.06310272216797, 78.80433654785156, 70.18889617919922, 68.39362335205078, 60.32958221435547, 58.72426986694336, 56.43720245361328, 52.95231246948242, 52.1630744934082, 51.56604766845703, 49.33627700805664, 48.54922103881836, 45.647151947021484, 44.9815673828125, 43.64350509643555, 42.10963821411133, 38.053348541259766, 37.19126510620117, 36.549625396728516, 33.59014892578125, 187.2653350830078, 122.40829467773438, 108.78773498535156, 107.38671875, 183.1185760498047, 211.35025024414062, 210.12709045410156, 316.5379333496094, 192.7789764404297, 123.15856170654297, 110.79023742675781, 105.06364440917969, 104.79784393310547, 104.24057006835938, 103.61729431152344, 103.26197052001953, 80.77326965332031, 78.88502502441406, 74.96707153320312, 71.50241088867188, 69.9215087890625, 69.39125061035156, 60.81904983520508, 58.106224060058594, 50.91231155395508, 48.1925048828125, 46.700111389160156, 46.003658294677734, 45.63275909423828, 41.52018356323242, 40.25495910644531, 34.59156036376953, 32.54191589355469, 32.42497253417969, 29.98832130432129, 28.628360748291016, 26.69405746459961, 22.62065887451172, 22.299148559570312, 75.53234100341797, 204.7326202392578], \"Category\": [\"Default\", \"Default\", \"Default\", \"Default\", \"Default\", \"Default\", \"Default\", \"Default\", \"Default\", \"Default\", \"Default\", \"Default\", \"Default\", \"Default\", \"Default\", \"Default\", \"Default\", \"Default\", \"Default\", \"Default\", \"Default\", \"Default\", \"Default\", \"Default\", \"Default\", \"Default\", \"Default\", \"Default\", \"Default\", \"Default\", \"Topic1\", \"Topic1\", \"Topic1\", \"Topic1\", \"Topic1\", \"Topic1\", \"Topic1\", \"Topic1\", \"Topic1\", \"Topic1\", \"Topic1\", \"Topic1\", \"Topic1\", \"Topic1\", \"Topic1\", \"Topic1\", \"Topic1\", \"Topic1\", \"Topic1\", \"Topic1\", \"Topic1\", \"Topic1\", \"Topic1\", \"Topic1\", \"Topic1\", \"Topic1\", \"Topic1\", \"Topic1\", \"Topic1\", \"Topic1\", \"Topic1\", \"Topic1\", \"Topic1\", \"Topic1\", \"Topic1\", \"Topic1\", \"Topic1\", \"Topic1\", \"Topic1\", \"Topic1\", \"Topic1\", \"Topic1\", \"Topic1\", \"Topic1\", \"Topic1\", \"Topic1\", \"Topic1\", \"Topic1\", \"Topic1\", \"Topic1\", \"Topic1\", \"Topic1\", \"Topic1\", \"Topic1\", \"Topic1\", \"Topic1\", \"Topic1\", \"Topic1\", \"Topic1\", \"Topic1\", \"Topic1\", \"Topic1\", \"Topic1\", \"Topic1\", \"Topic1\", \"Topic1\", \"Topic1\", \"Topic1\", \"Topic2\", \"Topic2\", \"Topic2\", \"Topic2\", \"Topic2\", \"Topic2\", \"Topic2\", \"Topic2\", \"Topic2\", \"Topic2\", \"Topic2\", \"Topic2\", \"Topic2\", \"Topic2\", \"Topic2\", \"Topic2\", \"Topic2\", \"Topic2\", \"Topic2\", \"Topic2\", \"Topic2\", \"Topic2\", \"Topic2\", \"Topic2\", \"Topic2\", \"Topic2\", \"Topic2\", \"Topic2\", \"Topic2\", \"Topic2\", \"Topic2\", \"Topic2\", \"Topic2\", \"Topic2\", \"Topic2\", \"Topic2\", \"Topic2\", \"Topic2\", \"Topic2\", \"Topic2\", \"Topic2\", \"Topic2\", \"Topic2\", \"Topic2\", \"Topic2\", \"Topic2\", \"Topic2\", \"Topic2\", \"Topic2\", \"Topic2\", \"Topic2\", \"Topic2\", \"Topic2\", \"Topic2\", \"Topic2\", \"Topic2\", \"Topic2\", \"Topic2\", \"Topic2\", \"Topic2\", \"Topic2\", \"Topic2\", \"Topic2\", \"Topic2\", \"Topic2\", \"Topic2\", \"Topic2\", \"Topic2\", \"Topic2\", \"Topic2\", \"Topic2\", \"Topic2\", \"Topic2\", \"Topic2\", \"Topic2\", \"Topic2\", \"Topic3\", \"Topic3\", \"Topic3\", \"Topic3\", \"Topic3\", \"Topic3\", \"Topic3\", \"Topic3\", \"Topic3\", \"Topic3\", \"Topic3\", \"Topic3\", \"Topic3\", \"Topic3\", \"Topic3\", \"Topic3\", \"Topic3\", \"Topic3\", \"Topic3\", \"Topic3\", \"Topic3\", \"Topic3\", \"Topic3\", \"Topic3\", \"Topic3\", \"Topic3\", \"Topic3\", \"Topic3\", \"Topic3\", \"Topic3\", \"Topic3\", \"Topic3\", \"Topic3\", \"Topic3\", \"Topic3\", \"Topic3\", \"Topic3\", \"Topic3\", \"Topic3\", \"Topic3\", \"Topic3\", \"Topic3\", \"Topic3\", \"Topic3\", \"Topic3\", \"Topic3\", \"Topic3\", \"Topic3\", \"Topic3\", \"Topic3\", \"Topic3\", \"Topic3\", \"Topic3\", \"Topic3\", \"Topic3\", \"Topic3\", \"Topic3\", \"Topic3\", \"Topic3\", \"Topic3\", \"Topic3\", \"Topic3\", \"Topic3\", \"Topic3\", \"Topic3\", \"Topic3\", \"Topic3\", \"Topic3\", \"Topic3\", \"Topic3\", \"Topic3\", \"Topic3\", \"Topic3\", \"Topic3\", \"Topic4\", \"Topic4\", \"Topic4\", \"Topic4\", \"Topic4\", \"Topic4\", \"Topic4\", \"Topic4\", \"Topic4\", \"Topic4\", \"Topic4\", \"Topic4\", \"Topic4\", \"Topic4\", \"Topic4\", \"Topic4\", \"Topic4\", \"Topic4\", \"Topic4\", \"Topic4\", \"Topic4\", \"Topic4\", \"Topic4\", \"Topic4\", \"Topic4\", \"Topic4\", \"Topic4\", \"Topic4\", \"Topic4\", \"Topic4\", \"Topic4\", \"Topic4\", \"Topic4\", \"Topic4\", \"Topic4\", \"Topic4\", \"Topic4\", \"Topic4\", \"Topic4\", \"Topic4\", \"Topic4\", \"Topic4\", \"Topic4\", \"Topic4\", \"Topic4\", \"Topic4\", \"Topic4\", \"Topic4\", \"Topic4\", \"Topic4\", \"Topic4\", \"Topic4\", \"Topic4\", \"Topic4\", \"Topic4\", \"Topic4\", \"Topic4\", \"Topic4\", \"Topic4\", \"Topic4\", \"Topic4\", \"Topic4\", \"Topic4\", \"Topic4\", \"Topic4\", \"Topic4\", \"Topic4\", \"Topic4\", \"Topic4\", \"Topic4\", \"Topic4\", \"Topic4\", \"Topic5\", \"Topic5\", \"Topic5\", \"Topic5\", \"Topic5\", \"Topic5\", \"Topic5\", \"Topic5\", \"Topic5\", \"Topic5\", \"Topic5\", \"Topic5\", \"Topic5\", \"Topic5\", \"Topic5\", \"Topic5\", \"Topic5\", \"Topic5\", \"Topic5\", \"Topic5\", \"Topic5\", \"Topic5\", \"Topic5\", \"Topic5\", \"Topic5\", \"Topic5\", \"Topic5\", \"Topic5\", \"Topic5\", \"Topic5\", \"Topic5\", \"Topic5\", \"Topic5\", \"Topic5\", \"Topic5\", \"Topic5\", \"Topic5\", \"Topic5\", \"Topic5\", \"Topic5\", \"Topic5\", \"Topic5\", \"Topic5\", \"Topic5\", \"Topic5\", \"Topic5\", \"Topic5\", \"Topic5\", \"Topic5\", \"Topic5\", \"Topic5\", \"Topic5\", \"Topic5\", \"Topic5\", \"Topic5\", \"Topic5\", \"Topic5\", \"Topic5\", \"Topic5\", \"Topic5\", \"Topic5\", \"Topic5\", \"Topic5\", \"Topic5\", \"Topic5\", \"Topic5\", \"Topic5\", \"Topic5\", \"Topic5\", \"Topic5\", \"Topic5\", \"Topic5\", \"Topic5\", \"Topic5\", \"Topic5\", \"Topic5\", \"Topic5\", \"Topic5\", \"Topic5\", \"Topic5\", \"Topic5\", \"Topic5\", \"Topic6\", \"Topic6\", \"Topic6\", \"Topic6\", \"Topic6\", \"Topic6\", \"Topic6\", \"Topic6\", \"Topic6\", \"Topic6\", \"Topic6\", \"Topic6\", \"Topic6\", \"Topic6\", \"Topic6\", \"Topic6\", \"Topic6\", \"Topic6\", \"Topic6\", \"Topic6\", \"Topic6\", \"Topic6\", \"Topic6\", \"Topic6\", \"Topic6\", \"Topic6\", \"Topic6\", \"Topic6\", \"Topic6\", \"Topic6\", \"Topic6\", \"Topic6\", \"Topic6\", \"Topic6\", \"Topic6\", \"Topic6\", \"Topic6\", \"Topic6\", \"Topic6\", \"Topic6\", \"Topic6\", \"Topic6\", \"Topic6\", \"Topic6\", \"Topic6\", \"Topic6\", \"Topic6\", \"Topic6\", \"Topic6\", \"Topic6\", \"Topic6\", \"Topic6\", \"Topic6\", \"Topic6\", \"Topic6\", \"Topic6\", \"Topic6\", \"Topic6\", \"Topic6\", \"Topic6\", \"Topic6\", \"Topic6\", \"Topic6\", \"Topic6\", \"Topic6\", \"Topic6\", \"Topic6\", \"Topic6\", \"Topic6\", \"Topic6\", \"Topic6\", \"Topic6\", \"Topic6\", \"Topic6\", \"Topic6\", \"Topic6\", \"Topic6\", \"Topic6\", \"Topic6\", \"Topic7\", \"Topic7\", \"Topic7\", \"Topic7\", \"Topic7\", \"Topic7\", \"Topic7\", \"Topic7\", \"Topic7\", \"Topic7\", \"Topic7\", \"Topic7\", \"Topic7\", \"Topic7\", \"Topic7\", \"Topic7\", \"Topic7\", \"Topic7\", \"Topic7\", \"Topic7\", \"Topic7\", \"Topic7\", \"Topic7\", \"Topic7\", \"Topic7\", \"Topic7\", \"Topic7\", \"Topic7\", \"Topic7\", \"Topic7\", \"Topic7\", \"Topic7\", \"Topic7\", \"Topic7\", \"Topic7\", \"Topic7\", \"Topic7\", \"Topic7\", \"Topic7\", \"Topic7\", \"Topic7\", \"Topic7\", \"Topic7\", \"Topic7\", \"Topic7\", \"Topic7\", \"Topic7\", \"Topic7\", \"Topic7\", \"Topic7\", \"Topic7\", \"Topic7\", \"Topic7\", \"Topic7\", \"Topic7\", \"Topic7\", \"Topic7\", \"Topic7\", \"Topic7\", \"Topic7\", \"Topic7\", \"Topic7\", \"Topic7\", \"Topic7\", \"Topic7\", \"Topic7\", \"Topic7\", \"Topic7\", \"Topic7\", \"Topic7\", \"Topic7\", \"Topic7\", \"Topic7\", \"Topic7\", \"Topic7\", \"Topic7\", \"Topic7\", \"Topic8\", \"Topic8\", \"Topic8\", \"Topic8\", \"Topic8\", \"Topic8\", \"Topic8\", \"Topic8\", \"Topic8\", \"Topic8\", \"Topic8\", \"Topic8\", \"Topic8\", \"Topic8\", \"Topic8\", \"Topic8\", \"Topic8\", \"Topic8\", \"Topic8\", \"Topic8\", \"Topic8\", \"Topic8\", \"Topic8\", \"Topic8\", \"Topic8\", \"Topic8\", \"Topic8\", \"Topic8\", \"Topic8\", \"Topic8\", \"Topic8\", \"Topic8\", \"Topic8\", \"Topic8\", \"Topic8\", \"Topic8\", \"Topic8\", \"Topic8\", \"Topic8\", \"Topic8\", \"Topic8\", \"Topic8\", \"Topic8\", \"Topic8\", \"Topic8\", \"Topic8\", \"Topic8\", \"Topic8\", \"Topic8\", \"Topic8\", \"Topic8\", \"Topic8\", \"Topic8\", \"Topic8\", \"Topic8\", \"Topic8\", \"Topic8\", \"Topic8\", \"Topic8\", \"Topic8\", \"Topic8\", \"Topic8\", \"Topic8\", \"Topic8\", \"Topic8\", \"Topic8\", \"Topic8\", \"Topic8\", \"Topic8\", \"Topic8\", \"Topic8\", \"Topic8\", \"Topic8\", \"Topic9\", \"Topic9\", \"Topic9\", \"Topic9\", \"Topic9\", \"Topic9\", \"Topic9\", \"Topic9\", \"Topic9\", \"Topic9\", \"Topic9\", \"Topic9\", \"Topic9\", \"Topic9\", \"Topic9\", \"Topic9\", \"Topic9\", \"Topic9\", \"Topic9\", \"Topic9\", \"Topic9\", \"Topic9\", \"Topic9\", \"Topic9\", \"Topic9\", \"Topic9\", \"Topic9\", \"Topic9\", \"Topic9\", \"Topic9\", \"Topic9\", \"Topic9\", \"Topic9\", \"Topic9\", \"Topic9\", \"Topic9\", \"Topic9\", \"Topic9\", \"Topic9\", \"Topic9\", \"Topic9\", \"Topic9\", \"Topic9\", \"Topic9\", \"Topic9\", \"Topic9\", \"Topic9\", \"Topic9\", \"Topic9\", \"Topic9\", \"Topic9\", \"Topic9\", \"Topic9\", \"Topic9\", \"Topic9\", \"Topic9\", \"Topic9\", \"Topic9\", \"Topic9\", \"Topic9\", \"Topic9\", \"Topic9\", \"Topic9\", \"Topic9\", \"Topic9\", \"Topic9\", \"Topic9\", \"Topic9\", \"Topic9\", \"Topic9\", \"Topic9\", \"Topic9\", \"Topic9\", \"Topic9\", \"Topic9\", \"Topic10\", \"Topic10\", \"Topic10\", \"Topic10\", \"Topic10\", \"Topic10\", \"Topic10\", \"Topic10\", \"Topic10\", \"Topic10\", \"Topic10\", \"Topic10\", \"Topic10\", \"Topic10\", \"Topic10\", \"Topic10\", \"Topic10\", \"Topic10\", \"Topic10\", \"Topic10\", \"Topic10\", \"Topic10\", \"Topic10\", \"Topic10\", \"Topic10\", \"Topic10\", \"Topic10\", \"Topic10\", \"Topic10\", \"Topic10\", \"Topic10\", \"Topic10\", \"Topic10\", \"Topic10\", \"Topic10\", \"Topic10\", \"Topic10\", \"Topic10\", \"Topic10\", \"Topic10\", \"Topic10\", \"Topic10\", \"Topic10\", \"Topic10\", \"Topic10\", \"Topic10\", \"Topic10\", \"Topic10\", \"Topic10\", \"Topic10\", \"Topic10\", \"Topic10\", \"Topic10\", \"Topic10\", \"Topic10\", \"Topic10\", \"Topic10\", \"Topic10\", \"Topic10\", \"Topic10\", \"Topic10\", \"Topic10\", \"Topic10\", \"Topic10\", \"Topic10\", \"Topic11\", \"Topic11\", \"Topic11\", \"Topic11\", \"Topic11\", \"Topic11\", \"Topic11\", \"Topic11\", \"Topic11\", \"Topic11\", \"Topic11\", \"Topic11\", \"Topic11\", \"Topic11\", \"Topic11\", \"Topic11\", \"Topic11\", \"Topic11\", \"Topic11\", \"Topic11\", \"Topic11\", \"Topic11\", \"Topic11\", \"Topic11\", \"Topic11\", \"Topic11\", \"Topic11\", \"Topic11\", \"Topic11\", \"Topic11\", \"Topic11\", \"Topic11\", \"Topic11\", \"Topic11\", \"Topic11\", \"Topic11\", \"Topic11\", \"Topic11\", \"Topic11\", \"Topic11\", \"Topic11\", \"Topic11\", \"Topic11\", \"Topic11\", \"Topic11\", \"Topic11\", \"Topic11\", \"Topic11\", \"Topic11\", \"Topic11\", \"Topic11\", \"Topic11\", \"Topic11\", \"Topic11\", \"Topic11\", \"Topic11\", \"Topic11\", \"Topic11\", \"Topic11\", \"Topic11\", \"Topic11\", \"Topic11\", \"Topic11\", \"Topic11\", \"Topic11\", \"Topic11\", \"Topic11\", \"Topic11\", \"Topic11\", \"Topic12\", \"Topic12\", \"Topic12\", \"Topic12\", \"Topic12\", \"Topic12\", \"Topic12\", \"Topic12\", \"Topic12\", \"Topic12\", \"Topic12\", \"Topic12\", \"Topic12\", \"Topic12\", \"Topic12\", \"Topic12\", \"Topic12\", \"Topic12\", \"Topic12\", \"Topic12\", \"Topic12\", \"Topic12\", \"Topic12\", \"Topic12\", \"Topic12\", \"Topic12\", \"Topic12\", \"Topic12\", \"Topic12\", \"Topic12\", \"Topic12\", \"Topic12\", \"Topic12\", \"Topic12\", \"Topic12\", \"Topic12\", \"Topic12\", \"Topic12\", \"Topic12\", \"Topic12\", \"Topic12\", \"Topic12\", \"Topic12\", \"Topic12\", \"Topic12\", \"Topic12\", \"Topic12\", \"Topic12\", \"Topic12\", \"Topic12\", \"Topic12\", \"Topic12\", \"Topic12\", \"Topic12\", \"Topic12\", \"Topic12\", \"Topic12\", \"Topic12\", \"Topic12\", \"Topic12\", \"Topic12\", \"Topic12\", \"Topic12\", \"Topic12\", \"Topic12\", \"Topic12\", \"Topic12\", \"Topic13\", \"Topic13\", \"Topic13\", \"Topic13\", \"Topic13\", \"Topic13\", \"Topic13\", \"Topic13\", \"Topic13\", \"Topic13\", \"Topic13\", \"Topic13\", \"Topic13\", \"Topic13\", \"Topic13\", \"Topic13\", \"Topic13\", \"Topic13\", \"Topic13\", \"Topic13\", \"Topic13\", \"Topic13\", \"Topic13\", \"Topic13\", \"Topic13\", \"Topic13\", \"Topic13\", \"Topic13\", \"Topic13\", \"Topic13\", \"Topic13\", \"Topic13\", \"Topic13\", \"Topic13\", \"Topic13\", \"Topic13\", \"Topic13\", \"Topic13\", \"Topic13\", \"Topic13\", \"Topic13\", \"Topic13\", \"Topic13\", \"Topic13\", \"Topic13\", \"Topic13\", \"Topic13\", \"Topic13\", \"Topic13\", \"Topic13\", \"Topic13\", \"Topic13\", \"Topic13\", \"Topic13\", \"Topic13\", \"Topic13\", \"Topic13\", \"Topic13\", \"Topic13\", \"Topic13\", \"Topic13\", \"Topic13\", \"Topic13\", \"Topic13\", \"Topic13\", \"Topic13\", \"Topic13\", \"Topic13\", \"Topic13\", \"Topic13\", \"Topic13\", \"Topic13\", \"Topic13\", \"Topic13\", \"Topic14\", \"Topic14\", \"Topic14\", \"Topic14\", \"Topic14\", \"Topic14\", \"Topic14\", \"Topic14\", \"Topic14\", \"Topic14\", \"Topic14\", \"Topic14\", \"Topic14\", \"Topic14\", \"Topic14\", \"Topic14\", \"Topic14\", \"Topic14\", \"Topic14\", \"Topic14\", \"Topic14\", \"Topic14\", \"Topic14\", \"Topic14\", \"Topic14\", \"Topic14\", \"Topic14\", \"Topic14\", \"Topic14\", \"Topic14\", \"Topic14\", \"Topic14\", \"Topic14\", \"Topic14\", \"Topic14\", \"Topic14\", \"Topic14\", \"Topic14\", \"Topic14\", \"Topic14\", \"Topic14\", \"Topic14\", \"Topic14\", \"Topic14\", \"Topic14\", \"Topic14\", \"Topic14\", \"Topic14\", \"Topic14\", \"Topic14\", \"Topic14\", \"Topic14\", \"Topic14\", \"Topic14\", \"Topic14\", \"Topic14\", \"Topic14\", \"Topic14\", \"Topic14\", \"Topic14\", \"Topic14\", \"Topic14\", \"Topic14\", \"Topic14\", \"Topic14\", \"Topic14\", \"Topic15\", \"Topic15\", \"Topic15\", \"Topic15\", \"Topic15\", \"Topic15\", \"Topic15\", \"Topic15\", \"Topic15\", \"Topic15\", \"Topic15\", \"Topic15\", \"Topic15\", \"Topic15\", \"Topic15\", \"Topic15\", \"Topic15\", \"Topic15\", \"Topic15\", \"Topic15\", \"Topic15\", \"Topic15\", \"Topic15\", \"Topic15\", \"Topic15\", \"Topic15\", \"Topic15\", \"Topic15\", \"Topic15\", \"Topic15\", \"Topic15\", \"Topic15\", \"Topic15\", \"Topic15\", \"Topic15\", \"Topic15\", \"Topic15\", \"Topic15\", \"Topic15\", \"Topic15\", \"Topic15\", \"Topic15\", \"Topic15\", \"Topic15\", \"Topic15\", \"Topic15\", \"Topic15\", \"Topic15\", \"Topic15\", \"Topic15\", \"Topic15\", \"Topic15\", \"Topic15\", \"Topic15\", \"Topic15\", \"Topic15\", \"Topic15\", \"Topic16\", \"Topic16\", \"Topic16\", \"Topic16\", \"Topic16\", \"Topic16\", \"Topic16\", \"Topic16\", \"Topic16\", \"Topic16\", \"Topic16\", \"Topic16\", \"Topic16\", \"Topic16\", \"Topic16\", \"Topic16\", \"Topic16\", \"Topic16\", \"Topic16\", \"Topic16\", \"Topic16\", \"Topic16\", \"Topic16\", \"Topic16\", \"Topic16\", \"Topic16\", \"Topic16\", \"Topic16\", \"Topic16\", \"Topic16\", \"Topic16\", \"Topic16\", \"Topic16\", \"Topic16\", \"Topic16\", \"Topic16\", \"Topic16\", \"Topic16\", \"Topic16\", \"Topic16\", \"Topic16\", \"Topic16\", \"Topic16\", \"Topic16\", \"Topic16\", \"Topic16\", \"Topic16\", \"Topic16\", \"Topic16\", \"Topic16\", \"Topic16\", \"Topic16\", \"Topic16\", \"Topic16\", \"Topic16\", \"Topic16\", \"Topic16\", \"Topic16\", \"Topic16\", \"Topic16\", \"Topic16\", \"Topic16\", \"Topic17\", \"Topic17\", \"Topic17\", \"Topic17\", \"Topic17\", \"Topic17\", \"Topic17\", \"Topic17\", \"Topic17\", \"Topic17\", \"Topic17\", \"Topic17\", \"Topic17\", \"Topic17\", \"Topic17\", \"Topic17\", \"Topic17\", \"Topic17\", \"Topic17\", \"Topic17\", \"Topic17\", \"Topic17\", \"Topic17\", \"Topic17\", \"Topic17\", \"Topic17\", \"Topic17\", \"Topic17\", \"Topic17\", \"Topic17\", \"Topic17\", \"Topic17\", \"Topic17\", \"Topic17\", \"Topic17\", \"Topic17\", \"Topic17\", \"Topic17\", \"Topic17\", \"Topic17\", \"Topic17\", \"Topic17\", \"Topic17\", \"Topic17\", \"Topic17\", \"Topic17\", \"Topic17\", \"Topic17\", \"Topic17\", \"Topic17\", \"Topic18\", \"Topic18\", \"Topic18\", \"Topic18\", \"Topic18\", \"Topic18\", \"Topic18\", \"Topic18\", \"Topic18\", \"Topic18\", \"Topic18\", \"Topic18\", \"Topic18\", \"Topic18\", \"Topic18\", \"Topic18\", \"Topic18\", \"Topic18\", \"Topic18\", \"Topic18\", \"Topic18\", \"Topic18\", \"Topic18\", \"Topic18\", \"Topic18\", \"Topic18\", \"Topic18\", \"Topic18\", \"Topic18\", \"Topic18\", \"Topic18\", \"Topic18\", \"Topic18\", \"Topic18\", \"Topic18\", \"Topic18\", \"Topic18\", \"Topic18\", \"Topic18\", \"Topic18\", \"Topic18\", \"Topic18\", \"Topic18\", \"Topic18\", \"Topic19\", \"Topic19\", \"Topic19\", \"Topic19\", \"Topic19\", \"Topic19\", \"Topic19\", \"Topic19\", \"Topic19\", \"Topic19\", \"Topic19\", \"Topic19\", \"Topic19\", \"Topic19\", \"Topic19\", \"Topic19\", \"Topic19\", \"Topic19\", \"Topic19\", \"Topic19\", \"Topic19\", \"Topic19\", \"Topic19\", \"Topic19\", \"Topic19\", \"Topic19\", \"Topic19\", \"Topic19\", \"Topic19\", \"Topic19\", \"Topic19\", \"Topic19\", \"Topic19\", \"Topic19\", \"Topic19\", \"Topic19\", \"Topic19\", \"Topic19\", \"Topic19\", \"Topic20\", \"Topic20\", \"Topic20\", \"Topic20\", \"Topic20\", \"Topic20\", \"Topic20\", \"Topic20\", \"Topic20\", \"Topic20\", \"Topic20\", \"Topic20\", \"Topic20\", \"Topic20\", \"Topic20\", \"Topic20\", \"Topic20\", \"Topic20\", \"Topic20\", \"Topic20\", \"Topic20\", \"Topic20\", \"Topic20\", \"Topic20\", \"Topic20\", \"Topic20\", \"Topic20\", \"Topic20\", \"Topic20\", \"Topic20\", \"Topic20\", \"Topic20\"], \"logprob\": [30.0, 29.0, 28.0, 27.0, 26.0, 25.0, 24.0, 23.0, 22.0, 21.0, 20.0, 19.0, 18.0, 17.0, 16.0, 15.0, 14.0, 13.0, 12.0, 11.0, 10.0, 9.0, 8.0, 7.0, 6.0, 5.0, 4.0, 3.0, 2.0, 1.0, -5.413099765777588, -5.528200149536133, -5.540900230407715, -5.7967000007629395, -5.888999938964844, -5.999199867248535, -6.101799964904785, -6.386499881744385, -6.416999816894531, -6.457300186157227, -6.541800022125244, -6.601099967956543, -6.7322001457214355, -6.765999794006348, -6.781000137329102, -6.798799991607666, -6.823500156402588, -6.830399990081787, -6.903600215911865, -6.927199840545654, -6.938399791717529, -6.952099800109863, -6.978099822998047, -6.987400054931641, -6.988999843597412, -6.989999771118164, -6.992599964141846, -7.0279998779296875, -7.044400215148926, -7.0584001541137695, -4.341800212860107, -4.838600158691406, -4.86899995803833, -5.458099842071533, -5.2459001541137695, -5.845699787139893, -5.966599941253662, -5.269599914550781, -3.6364998817443848, -5.609399795532227, -4.85129976272583, -6.4695000648498535, -4.870200157165527, -5.606100082397461, -5.014800071716309, -5.490900039672852, -4.914599895477295, -5.177299976348877, -5.836299896240234, -5.513400077819824, -4.083399772644043, -5.277400016784668, -5.284800052642822, -4.646699905395508, -4.375100135803223, -5.385000228881836, -5.112400054931641, -5.253799915313721, -4.930799961090088, -5.275100231170654, -5.265100002288818, -5.2307000160217285, -5.334000110626221, -5.128499984741211, -5.407899856567383, -5.385000228881836, -5.40910005569458, -5.399899959564209, -5.578499794006348, -5.854499816894531, -6.120200157165527, -6.318299770355225, -6.357600212097168, -6.538099765777588, -6.574699878692627, -6.6493000984191895, -6.718599796295166, -6.735799789428711, -6.762800216674805, -6.8078999519348145, -6.854599952697754, -4.623000144958496, -6.881199836730957, -6.920599937438965, -6.952600002288818, -6.961699962615967, -6.962100028991699, -6.974599838256836, -7.015600204467773, -7.118599891662598, -7.129000186920166, -7.161200046539307, -7.168499946594238, -7.190000057220459, -7.219299793243408, -7.244900226593018, -7.245999813079834, -7.254300117492676, -6.331399917602539, -4.192399978637695, -5.932499885559082, -6.121399879455566, -5.8867998123168945, -5.510499954223633, -6.553599834442139, -5.091800212860107, -5.263199806213379, -4.691500186920166, -5.090799808502197, -5.469600200653076, -5.004300117492676, -5.690899848937988, -5.510499954223633, -6.022200107574463, -6.061600208282471, -5.918300151824951, -4.7469000816345215, -5.144400119781494, -5.585999965667725, -6.0777997970581055, -5.1519999504089355, -5.56689977645874, -4.196300029754639, -5.0, -4.7631001472473145, -5.601600170135498, -5.649400234222412, -5.192500114440918, -4.825699806213379, -5.824399948120117, -5.580100059509277, -5.724999904632568, -5.39169979095459, -5.381400108337402, -5.125100135803223, -5.175600051879883, -5.559199810028076, -5.381899833679199, -5.317500114440918, -5.462100028991699, -5.481100082397461, -5.547399997711182, -5.5355000495910645, -5.55019998550415, -4.684800148010254, -5.132199764251709, -5.9293999671936035, -6.038599967956543, -6.096199989318848, -6.115300178527832, -6.224899768829346, -6.380799770355225, -6.390100002288818, -6.437600135803223, -6.460000038146973, -6.506199836730957, -6.511099815368652, -6.589799880981445, -6.601900100708008, -6.605199813842773, -6.67080020904541, -6.810100078582764, -6.861000061035156, -6.861700057983398, -6.866199970245361, -6.978499889373779, -6.995100021362305, -7.044600009918213, -7.045400142669678, -7.06279993057251, -7.088699817657471, -7.114099979400635, -7.1519999504089355, -7.19320011138916, -6.5071001052856445, -6.067200183868408, -3.7335000038146973, -6.144400119781494, -5.3165998458862305, -5.191800117492676, -6.749100208282471, -5.019599914550781, -6.046999931335449, -6.194799900054932, -4.260900020599365, -5.1020002365112305, -4.4695000648498535, -4.307000160217285, -4.510700225830078, -5.37529993057251, -6.086400032043457, -6.172999858856201, -4.734600067138672, -4.619999885559082, -5.748700141906738, -4.087900161743164, -5.863399982452393, -5.346099853515625, -5.177000045776367, -5.16540002822876, -4.805200099945068, -5.644700050354004, -4.624199867248535, -5.57859992980957, -5.158599853515625, -4.921000003814697, -5.111800193786621, -5.665200233459473, -5.186999797821045, -5.090099811553955, -4.743299961090088, -4.814599990844727, -5.332300186157227, -5.309599876403809, -5.167799949645996, -5.150199890136719, -5.314300060272217, -5.326499938964844, -6.305799961090088, -6.457799911499023, -6.47599983215332, -6.492800235748291, -6.507299900054932, -6.598599910736084, -6.650300025939941, -6.701399803161621, -6.7718000411987305, -6.796800136566162, -6.811500072479248, -6.846799850463867, -6.882800102233887, -6.907800197601318, -6.928400039672852, -7.064499855041504, -7.097300052642822, -7.150000095367432, -7.1722002029418945, -7.257900238037109, -7.293399810791016, -7.407100200653076, -7.453199863433838, -7.473800182342529, -7.483099937438965, -7.556300163269043, -7.568600177764893, -7.607600212097168, -7.622200012207031, -7.63700008392334, -5.652100086212158, -7.258600234985352, -5.1209001541137695, -4.858399868011475, -6.607600212097168, -6.0, -5.500100135803223, -4.2870001792907715, -4.504000186920166, -5.311399936676025, -4.23799991607666, -4.916200160980225, -4.2104997634887695, -6.246399879455566, -6.082099914550781, -4.9481000900268555, -5.6402997970581055, -5.889699935913086, -4.860599994659424, -4.861400127410889, -5.69350004196167, -5.350399971008301, -5.13129997253418, -4.902200222015381, -4.794899940490723, -4.122200012207031, -5.014400005340576, -4.678199768066406, -5.051199913024902, -4.613399982452393, -4.493100166320801, -4.938799858093262, -4.892000198364258, -4.463099956512451, -4.430200099945068, -5.3302001953125, -5.047599792480469, -5.01800012588501, -5.19920015335083, -5.15339994430542, -4.9355998039245605, -5.158699989318848, -5.354400157928467, -5.566199779510498, -6.261099815368652, -6.471199989318848, -6.611599922180176, -6.684199810028076, -6.741600036621094, -6.789999961853027, -6.982100009918213, -6.994200229644775, -7.036399841308594, -7.222700119018555, -7.226399898529053, -7.254700183868408, -7.264999866485596, -7.307199954986572, -7.3394999504089355, -7.34250020980835, -7.369699954986572, -7.370200157165527, -7.383600234985352, -7.398600101470947, -7.43149995803833, -7.450099945068359, -7.4770002365112305, -7.479599952697754, -7.560699939727783, -7.630899906158447, -7.6519999504089355, -7.664000034332275, -6.0553998947143555, -5.995200157165527, -7.3815999031066895, -6.070400238037109, -6.798399925231934, -5.67519998550415, -6.244500160217285, -3.7802000045776367, -4.370699882507324, -5.419899940490723, -6.206500053405762, -6.941400051116943, -5.813300132751465, -5.667200088500977, -5.5304999351501465, -5.184199810028076, -5.123199939727783, -6.390699863433838, -4.634200096130371, -4.3927001953125, -5.357999801635742, -5.58650016784668, -5.866499900817871, -5.6717000007629395, -5.88539981842041, -4.376500129699707, -6.0843000411987305, -5.855299949645996, -4.9770002365112305, -6.1296000480651855, -4.531300067901611, -5.3420000076293945, -4.069399833679199, -4.592199802398682, -4.687300205230713, -5.053599834442139, -4.963799953460693, -5.630099773406982, -4.9695000648498535, -5.576600074768066, -5.083000183105469, -5.073400020599365, -4.716100215911865, -4.882800102233887, -5.1570000648498535, -5.3780999183654785, -5.228899955749512, -5.353700160980225, -5.316100120544434, -5.2221999168396, -5.386000156402588, -5.332900047302246, -5.652299880981445, -5.758399963378906, -6.010499954223633, -6.190800189971924, -6.499499797821045, -6.557700157165527, -6.6367998123168945, -6.736700057983398, -6.894899845123291, -6.9475998878479, -6.958799839019775, -6.975299835205078, -6.986599922180176, -7.053400039672852, -7.120299816131592, -7.1427001953125, -7.203199863433838, -7.284800052642822, -7.3007001876831055, -7.336900234222412, -7.346700191497803, -7.365200042724609, -7.373899936676025, -7.375, -7.414400100708008, -7.4217000007629395, -7.424300193786621, -7.435800075531006, -7.475500106811523, -7.48199987411499, -6.303599834442139, -6.589399814605713, -4.925600051879883, -5.895999908447266, -6.711900234222412, -6.469699859619141, -6.026100158691406, -6.295499801635742, -6.515600204467773, -5.883999824523926, -3.9995999336242676, -5.5991997718811035, -6.551400184631348, -6.51669979095459, -5.664400100708008, -5.62060022354126, -5.409299850463867, -5.556000232696533, -5.291299819946289, -6.265399932861328, -5.916299819946289, -5.17110013961792, -5.287899971008301, -5.401599884033203, -5.560500144958496, -4.390399932861328, -4.383800029754639, -5.418000221252441, -4.4492998123168945, -4.894999980926514, -5.3225998878479, -5.361700057983398, -5.67579984664917, -4.832600116729736, -5.518099784851074, -5.036300182342529, -4.443999767303467, -4.559299945831299, -5.22760009765625, -5.014599800109863, -5.295400142669678, -5.154600143432617, -5.038099765777588, -5.440299987792969, -5.372799873352051, -5.46619987487793, -5.505000114440918, -5.488500118255615, -5.530300140380859, -5.63040018081665, -6.210999965667725, -6.52839994430542, -6.546199798583984, -6.552800178527832, -6.759399890899658, -6.8668999671936035, -6.901100158691406, -6.913099765777588, -6.924099922180176, -7.030399799346924, -7.0640997886657715, -7.080900192260742, -7.087200164794922, -7.090799808502197, -7.097400188446045, -7.1367998123168945, -7.18310022354126, -7.184599876403809, -7.188799858093262, -7.210100173950195, -7.225299835205078, -7.2399001121521, -7.247700214385986, -7.340099811553955, -7.34119987487793, -7.344699859619141, -7.355299949645996, -7.3649001121521, -7.389900207519531, -4.853799819946289, -7.060100078582764, -6.003399848937988, -4.6427001953125, -4.843599796295166, -6.361800193786621, -5.909800052642822, -5.531799793243408, -4.065100193023682, -5.623300075531006, -5.320499897003174, -4.75439977645874, -6.4253997802734375, -5.724100112915039, -5.710599899291992, -5.813399791717529, -5.774099826812744, -5.6356000900268555, -6.110099792480469, -4.343299865722656, -5.862199783325195, -4.65369987487793, -4.693999767303467, -5.0192999839782715, -5.13070011138916, -5.27370023727417, -5.703199863433838, -5.638299942016602, -4.920100212097168, -4.614500045776367, -5.811399936676025, -4.755499839782715, -4.508800029754639, -5.1554999351501465, -4.761000156402588, -4.6819000244140625, -4.780399799346924, -5.060999870300293, -5.128399848937988, -5.017899990081787, -5.22189998626709, -5.040900230407715, -5.281799793243408, -4.952199935913086, -5.150899887084961, -5.216899871826172, -5.3572998046875, -5.197700023651123, -6.029399871826172, -6.407299995422363, -6.586999893188477, -6.65339994430542, -6.837200164794922, -6.879799842834473, -6.897299766540527, -6.965000152587891, -6.991300106048584, -6.99560022354126, -7.032100200653076, -7.06879997253418, -7.078999996185303, -7.143599987030029, -7.208000183105469, -7.293300151824951, -7.308499813079834, -7.399899959564209, -7.422800064086914, -7.45550012588501, -7.460999965667725, -7.473499774932861, -7.4878997802734375, -7.525199890136719, -7.557199954986572, -7.587399959564209, -7.624100208282471, -7.644499778747559, -7.700699806213379, -4.899600028991699, -4.5858001708984375, -4.2677001953125, -6.091400146484375, -4.520899772644043, -3.6733999252319336, -4.594399929046631, -6.4054999351501465, -3.8717000484466553, -3.9579999446868896, -4.791600227355957, -3.6760001182556152, -4.993599891662598, -5.115499973297119, -4.95359992980957, -4.093200206756592, -5.512400150299072, -4.864099979400635, -6.254000186920166, -5.714099884033203, -5.573400020599365, -6.546899795532227, -4.9807000160217285, -4.228499889373779, -4.950699806213379, -5.83650016784668, -3.436800003051758, -5.116700172424316, -4.926499843597412, -5.144700050354004, -5.317399978637695, -4.328800201416016, -4.603899955749512, -4.404200077056885, -4.145999908447266, -4.623499870300293, -4.679200172424316, -4.315199851989746, -4.787199974060059, -4.581200122833252, -4.828400135040283, -4.802000045776367, -4.973499774932861, -3.3821001052856445, -5.480400085449219, -5.701499938964844, -5.905200004577637, -6.164599895477295, -6.312099933624268, -6.314899921417236, -6.4390997886657715, -6.46019983291626, -6.720399856567383, -6.72730016708374, -6.810999870300293, -6.854000091552734, -6.8907999992370605, -6.935500144958496, -6.9822998046875, -6.993599891662598, -7.151199817657471, -7.172399997711182, -7.177499771118164, -7.279699802398682, -7.290900230407715, -7.338200092315674, -7.340700149536133, -7.348299980163574, -7.4355998039245605, -7.478899955749512, -7.483399868011475, -7.513599872589111, -7.518799781799316, -5.153299808502197, -5.21150016784668, -4.979100227355957, -4.812900066375732, -5.82480001449585, -6.524600028991699, -4.04449987411499, -5.769800186157227, -5.283599853515625, -6.023399829864502, -5.416900157928467, -5.814000129699707, -5.315400123596191, -5.23360013961792, -5.207900047302246, -5.195000171661377, -4.636199951171875, -5.304699897766113, -4.39139986038208, -3.4021999835968018, -5.224699974060059, -4.021399974822998, -3.708899974822998, -4.287199974060059, -4.242400169372559, -4.853099822998047, -4.658599853515625, -4.475900173187256, -4.758399963378906, -4.583399772644043, -4.412600040435791, -4.376800060272217, -4.723400115966797, -4.725500106811523, -5.023799896240234, -4.7515997886657715, -4.577499866485596, -5.0279998779296875, -4.8703999519348145, -4.958799839019775, -4.901299953460693, -4.84250020980835, -4.92579984664917, -4.96750020980835, -4.874599933624268, -4.253900051116943, -4.936999797821045, -5.195300102233887, -5.605800151824951, -5.6529998779296875, -5.682400226593018, -5.7829999923706055, -5.803500175476074, -5.899199962615967, -5.926499843597412, -6.035699844360352, -6.175899982452393, -6.248300075531006, -6.295599937438965, -6.404200077056885, -6.423600196838379, -6.445400238037109, -6.48360013961792, -6.726500034332275, -6.796999931335449, -6.797800064086914, -6.817200183868408, -6.923799991607666, -6.950699806213379, -7.069300174713135, -7.143899917602539, -7.173699855804443, -7.229899883270264, -7.258600234985352, -7.273900032043457, -4.672599792480469, -6.407700061798096, -6.31220006942749, -4.893499851226807, -3.9869000911712646, -3.098099946975708, -5.486700057983398, -4.700200080871582, -5.004499912261963, -4.0971999168396, -4.208099842071533, -5.850200176239014, -4.617800235748291, -4.375400066375732, -4.437300205230713, -4.640399932861328, -4.9882001876831055, -4.306600093841553, -5.25029993057251, -5.136499881744385, -4.517099857330322, -4.5808000564575195, -4.204100131988525, -5.096099853515625, -4.357900142669678, -4.406099796295166, -5.091400146484375, -4.634799957275391, -5.110599994659424, -4.938499927520752, -4.954100131988525, -4.9832000732421875, -4.748700141906738, -5.059899806976318, -5.066800117492676, -4.835599899291992, -5.357900142669678, -5.537899971008301, -5.650899887084961, -5.801000118255615, -5.871699810028076, -5.909900188446045, -5.935699939727783, -5.987800121307373, -6.036900043487549, -6.060500144958496, -6.077199935913086, -6.269700050354004, -6.327099800109863, -6.356200218200684, -6.366000175476074, -6.382699966430664, -6.383800029754639, -6.4583001136779785, -6.514200210571289, -6.56790018081665, -6.595099925994873, -6.614699840545654, -6.626399993896484, -6.654399871826172, -6.76609992980957, -6.778800010681152, -6.7870001792907715, -6.8246002197265625, -6.834000110626221, -6.431600093841553, -6.03879976272583, -5.293799877166748, -5.657199859619141, -4.3790998458862305, -5.097799777984619, -5.964600086212158, -5.126699924468994, -5.117199897766113, -5.386000156402588, -4.910600185394287, -5.687099933624268, -5.1956000328063965, -4.627099990844727, -5.6296000480651855, -5.818999767303467, -4.690299987792969, -4.825699806213379, -5.452400207519531, -4.042099952697754, -5.285299777984619, -5.629700183868408, -5.416900157928467, -4.579500198364258, -5.452300071716309, -4.824100017547607, -5.204999923706055, -4.552499771118164, -5.237400054931641, -4.941199779510498, -4.9496002197265625, -5.0817999839782715, -5.193999767303467, -5.151000022888184, -5.285900115966797, -5.324699878692627, -5.322400093078613, -5.368000030517578, -5.3470001220703125, -4.307700157165527, -5.281799793243408, -5.354800224304199, -5.633500099182129, -5.811600208282471, -5.864699840545654, -5.972599983215332, -6.039400100708008, -6.077600002288818, -6.28249979019165, -6.285600185394287, -6.301300048828125, -6.311200141906738, -6.411600112915039, -6.511000156402588, -6.513000011444092, -6.514100074768066, -6.531400203704834, -6.5335001945495605, -6.558000087738037, -6.678199768066406, -6.721199989318848, -6.7399001121521, -6.7428998947143555, -6.781899929046631, -6.833600044250488, -6.875899791717529, -6.8846001625061035, -6.886300086975098, -6.929900169372559, -6.1072001457214355, -5.48829984664917, -3.9286999702453613, -5.371300220489502, -5.935299873352051, -4.391600131988525, -3.709199905395508, -4.414100170135498, -5.085599899291992, -5.272500038146973, -5.1128997802734375, -4.45959997177124, -3.953900098800659, -4.801300048828125, -4.1778998374938965, -5.460999965667725, -5.191500186920166, -4.546800136566162, -4.956900119781494, -4.805200099945068, -5.107800006866455, -5.210999965667725, -5.054699897766113, -5.215400218963623, -5.270899772644043, -4.684899806976318, -4.3730998039245605, -5.199999809265137, -4.882800102233887, -4.9704999923706055, -4.491000175476074, -4.806099891662598, -5.020100116729736, -5.009799957275391, -5.138700008392334, -5.146599769592285, -5.188399791717529, -5.269800186157227, -5.46019983291626, -5.515699863433838, -5.7368998527526855, -5.755499839782715, -5.864500045776367, -6.0320000648498535, -6.134200096130371, -6.23960018157959, -6.245200157165527, -6.285999774932861, -6.485499858856201, -6.589900016784668, -6.630799770355225, -6.72790002822876, -6.818399906158447, -6.940100193023682, -6.986800193786621, -7.265100002288818, -7.443699836730957, -7.4440999031066895, -7.455900192260742, -7.557600021362305, -7.607100009918213, -7.718400001525879, -7.758800029754639, -7.791800022125244, -7.806300163269043, -7.910399913787842, -7.91540002822876, -5.372300148010254, -4.973700046539307, -5.899099826812744, -5.143700122833252, -4.602200031280518, -3.797300100326538, -5.820300102233887, -5.897500038146973, -6.081099987030029, -4.254700183868408, -5.40910005569458, -3.7286999225616455, -4.143499851226807, -4.035699844360352, -4.3871002197265625, -5.376299858093262, -4.263599872589111, -5.267199993133545, -4.514599800109863, -4.186299800872803, -4.263299942016602, -3.4918999671936035, -4.652299880981445, -4.064000129699707, -5.2469000816345215, -4.452499866485596, -4.861499786376953, -3.8589999675750732, -4.091000080108643, -4.349999904632568, -4.701000213623047, -4.89169979095459, -4.576099872589111, -4.52239990234375, -4.461900234222412, -4.639400005340576, -4.422800064086914, -4.629700183868408, -4.500899791717529, -4.6508002281188965, -4.76170015335083, -4.596199989318848, -4.801400184631348, -4.6855998039245605, -4.078000068664551, -5.105899810791016, -5.186999797821045, -5.347899913787842, -5.397600173950195, -5.63700008392334, -5.658699989318848, -5.790299892425537, -5.854700088500977, -5.900899887084961, -5.9344000816345215, -6.058300018310547, -6.087699890136719, -6.174200057983398, -6.214600086212158, -6.222799777984619, -6.268599987030029, -6.283899784088135, -6.421199798583984, -6.459499835968018, -6.467299938201904, -6.543399810791016, -6.55210018157959, -6.560999870300293, -6.5630998611450195, -6.597700119018555, -6.606200218200684, -6.659800052642822, -6.667099952697754, -6.698699951171875, -5.827700138092041, -5.4980998039245605, -5.412199974060059, -5.22730016708374, -4.151000022888184, -4.807499885559082, -5.577499866485596, -5.800300121307373, -4.457099914550781, -3.9351999759674072, -5.96750020980835, -5.036799907684326, -3.9133999347686768, -4.373899936676025, -5.164599895477295, -4.7881999015808105, -4.037700176239014, -4.855800151824951, -4.045499801635742, -4.333000183105469, -3.9828999042510986, -4.383900165557861, -4.736999988555908, -4.206299781799316, -4.5553998947143555, -4.669300079345703, -4.791900157928467, -4.7789998054504395, -4.793300151824951, -4.757900238037109, -4.531000137329102, -5.009500026702881, -4.70550012588501, -4.92609977722168, -4.968599796295166, -4.984300136566162, -4.363100051879883, -4.549200057983398, -4.845099925994873, -4.942599773406982, -5.009399890899658, -5.192299842834473, -5.334099769592285, -5.363500118255615, -5.489099979400635, -5.611100196838379, -5.627699851989746, -5.715199947357178, -5.7789998054504395, -5.814899921417236, -5.905399799346924, -5.937600135803223, -5.983799934387207, -6.003799915313721, -6.0289998054504395, -6.083799839019775, -6.147299766540527, -6.149400234222412, -6.151500225067139, -6.173999786376953, -6.189799785614014, -6.200900077819824, -6.201300144195557, -6.202600002288818, -6.264599800109863, -6.2677001953125, -5.58519983291626, -5.543000221252441, -4.588600158691406, -4.844600200653076, -4.956900119781494, -4.905900001525879, -5.241300106048584, -5.6255998611450195, -5.968699932098389, -5.524199962615967, -5.491700172424316, -4.876399993896484, -5.021699905395508, -5.380300045013428, -4.8491997718811035, -5.252699851989746, -5.168900012969971, -5.100500106811523, -4.700099945068359, -5.132699966430664, -4.8592000007629395, -4.951300144195557, -5.194900035858154, -4.760300159454346, -5.142000198364258, -5.262199878692627, -5.34060001373291, -3.7060000896453857, -4.172500133514404, -4.724100112915039, -4.750699996948242, -5.106100082397461, -5.238800048828125, -5.395400047302246, -5.6255998611450195, -5.698599815368652, -5.776700019836426, -5.838699817657471, -5.992199897766113, -6.02239990234375, -6.102200031280518, -6.320499897003174, -6.509900093078613, -6.829599857330322, -7.567999839782715, -7.768199920654297, -7.775899887084961, -7.894800186157227, -8.05519962310791, -8.198399543762207, -5.624800205230713, -8.397500038146973, -4.909800052642822, -8.576700210571289, -8.719200134277344, -3.3022000789642334, -4.200399875640869, -3.4298999309539795, -3.932300090789795, -5.794600009918213, -3.2692999839782715, -4.291500091552734, -2.75570011138916, -4.065700054168701, -5.406099796295166, -5.959099769592285, -5.1097002029418945, -4.036799907684326, -4.538300037384033, -4.146699905395508, -4.260000228881836, -4.386499881744385, -4.243199825286865, -4.482699871063232, -4.137400150299072, -4.718500137329102, -4.017000198364258, -4.310699939727783, -4.432300090789795, -3.9725000858306885, -3.983299970626831, -4.221799850463867, -4.523499965667725, -4.53849983215332, -4.4421000480651855, -4.566999912261963, -4.5696001052856445, -4.60830020904541, -4.605999946594238, -3.053800106048584, -3.059000015258789, -3.4124999046325684, -3.5185999870300293, -3.6480000019073486, -3.7588999271392822, -4.3007001876831055, -4.746500015258789, -4.9141998291015625, -4.947500228881836, -4.992499828338623, -5.026000022888184, -5.039400100708008, -5.111299991607666, -5.114799976348877, -5.293499946594238, -5.369200229644775, -5.380799770355225, -5.385900020599365, -5.402200222015381, -5.60129976272583, -5.690100193023682, -5.738500118255615, -5.7403998374938965, -5.795000076293945, -5.903800010681152, -5.942299842834473, -5.9440999031066895, -5.949999809265137, -5.964700222015381, -3.7339000701904297, -3.0406999588012695, -4.052599906921387, -3.8954999446868896, -4.2378997802734375, -4.5858001708984375, -4.6203999519348145, -4.663099765777588, -4.781400203704834, -4.457099914550781, -4.364699840545654, -3.8947999477386475, -4.298999786376953, -5.082799911499023, -4.393899917602539, -4.911600112915039, -4.4679999351501465, -4.711599826812744, -4.924300193786621, -4.996600151062012, -2.90120005607605, -3.289299964904785, -3.6393001079559326, -3.72189998626709, -3.731800079345703, -3.8431999683380127, -4.136499881744385, -4.298099994659424, -4.348999977111816, -4.405900001525879, -4.519999980926514, -4.555300235748291, -4.708700180053711, -4.781000137329102, -5.022500038146973, -5.14139986038208, -5.1458001136779785, -5.186399936676025, -5.190000057220459, -5.278200149536133, -5.290800094604492, -5.3242998123168945, -5.332399845123291, -5.343999862670898, -5.39769983291626, -5.450500011444092, -5.461900234222412, -5.47629976272583, -5.526100158691406, -5.541500091552734, -4.950099945068359, -4.353099822998047, -4.258299827575684, -5.014200210571289, -4.563700199127197, -5.007199764251709, -4.670899868011475, -5.060100078582764, -4.7153000831604, -4.968200206756592, -4.737100124359131, -4.83459997177124, -5.083199977874756, -5.104800224304199, -2.5269999504089355, -3.4372000694274902, -3.705399990081787, -3.7520999908447266, -3.7792000770568848, -3.910599946975708, -4.108399868011475, -4.178999900817871, -4.280700206756592, -4.397600173950195, -4.398499965667725, -4.427199840545654, -4.5447001457214355, -4.571100234985352, -4.698800086975098, -4.726200103759766, -4.7667999267578125, -4.8317999839782715, -4.8471999168396, -4.85890007019043, -4.904099941253662, -4.920599937438965, -4.983699798583984, -4.998799800872803, -5.029799938201904, -5.066500186920166, -5.1707000732421875, -5.194300174713135, -5.212299823760986, -5.299499988555908, -3.8785998821258545, -4.244800090789795, -4.46120023727417, -4.5742998123168945, -4.32390022277832, -4.337600231170654, -4.3790998458862305, -4.5578999519348145, -4.672100067138672, -3.4177000522613525, -3.524600028991699, -3.578200101852417, -3.5808000564575195, -3.586199998855591, -3.5922000408172607, -3.5957000255584717, -3.844399929046631, -3.8684000968933105, -3.920099973678589, -3.968100070953369, -3.9909000396728516, -3.9986000061035156, -4.132800102233887, -4.179299831390381, -4.314199924468994, -4.3703999519348145, -4.402599811553955, -4.418000221252441, -4.426300048828125, -4.5233001708984375, -4.555099964141846, -4.711400032043457, -4.774600028991699, -4.778299808502197, -4.859399795532227, -4.907599925994873, -4.980599880218506, -5.154099941253662, -5.169099807739258, -4.392399787902832, -4.642000198364258], \"loglift\": [30.0, 29.0, 28.0, 27.0, 26.0, 25.0, 24.0, 23.0, 22.0, 21.0, 20.0, 19.0, 18.0, 17.0, 16.0, 15.0, 14.0, 13.0, 12.0, 11.0, 10.0, 9.0, 8.0, 7.0, 6.0, 5.0, 4.0, 3.0, 2.0, 1.0, 2.143899917602539, 2.1438000202178955, 2.143699884414673, 2.1433000564575195, 2.1431000232696533, 2.142899990081787, 2.1426000595092773, 2.141700029373169, 2.1415998935699463, 2.1414999961853027, 2.1410999298095703, 2.140899896621704, 2.140199899673462, 2.1401000022888184, 2.140000104904175, 2.139899969100952, 2.1398000717163086, 2.139699935913086, 2.1393001079559326, 2.13919997215271, 2.1391000747680664, 2.1389999389648438, 2.1387999057769775, 2.1387999057769775, 2.1387999057769775, 2.1387999057769775, 2.138700008392334, 2.1384999752044678, 2.138400077819824, 2.1382999420166016, 2.109299898147583, 2.0757999420166016, 2.073199987411499, 2.089200019836426, 2.0325000286102295, 2.0657999515533447, 2.0527000427246094, 1.9341000318527222, 1.710800051689148, 1.9083000421524048, 1.718400001525879, 2.0480000972747803, 1.6937999725341797, 1.8538000583648682, 1.707800030708313, 1.8171000480651855, 1.5985000133514404, 1.5156999826431274, 1.776900053024292, 1.631100058555603, 0.9412000179290771, 1.506700038909912, 1.4586999416351318, 0.6966000199317932, 0.3619000017642975, 1.1801999807357788, 0.7156999707221985, 0.8547999858856201, 0.10109999775886536, 0.8353000283241272, 0.6572999954223633, 0.3418000042438507, 0.7422999739646912, -0.2328999936580658, 0.8271999955177307, 0.5231999754905701, 0.6996999979019165, 0.24529999494552612, 2.288599967956543, 2.2880001068115234, 2.2873001098632812, 2.286600112915039, 2.286400079727173, 2.285599946975708, 2.285399913787842, 2.285099983215332, 2.2846999168395996, 2.284600019454956, 2.28439998626709, 2.28410005569458, 2.283799886703491, 2.2836999893188477, 2.2836999893188477, 2.283400058746338, 2.2832000255584717, 2.283099889755249, 2.283099889755249, 2.2829999923706055, 2.2827000617980957, 2.281899929046631, 2.2818000316619873, 2.2815001010894775, 2.281399965286255, 2.2811999320983887, 2.2809998989105225, 2.2806999683380127, 2.2806999683380127, 2.280600070953369, 2.255500078201294, 2.089600086212158, 2.1602001190185547, 2.1740000247955322, 2.1419999599456787, 2.066200017929077, 2.19950008392334, 1.9875999689102173, 1.9919999837875366, 1.8478000164031982, 1.9160000085830688, 1.9907000064849854, 1.8935999870300293, 2.0083000659942627, 1.9532999992370605, 2.063699960708618, 2.0710999965667725, 2.0299999713897705, 1.69760000705719, 1.7860000133514404, 1.9206000566482544, 2.073699951171875, 1.7519999742507935, 1.88510000705719, 1.167799949645996, 1.5343999862670898, 1.3553999662399292, 1.7854000329971313, 1.7908999919891357, 1.4377000331878662, 1.0532000064849854, 1.8464000225067139, 1.5426000356674194, 1.7151000499725342, 1.1796000003814697, 1.104599952697754, 0.6069999933242798, 0.5776000022888184, 1.1789000034332275, 0.5006999969482422, 0.2345000058412552, 0.6104999780654907, 0.6383000016212463, 1.089900016784668, 0.6122999787330627, 1.0045000314712524, 2.338399887084961, 2.337899923324585, 2.336400032043457, 2.3361001014709473, 2.335900068283081, 2.3357999324798584, 2.3355000019073486, 2.3348000049591064, 2.3348000049591064, 2.3345999717712402, 2.3345000743865967, 2.3343000411987305, 2.334199905395508, 2.3338000774383545, 2.3338000774383545, 2.333699941635132, 2.333400011062622, 2.3324999809265137, 2.332200050354004, 2.332200050354004, 2.3320999145507812, 2.3313000202178955, 2.331199884414673, 2.3308000564575195, 2.3308000564575195, 2.3306000232696533, 2.330399990081787, 2.330199956893921, 2.3297998905181885, 2.329400062561035, 2.3089001178741455, 2.274899959564209, 2.123699903488159, 2.2760000228881836, 2.203399896621704, 2.1742000579833984, 2.3017001152038574, 2.1024999618530273, 2.221400022506714, 2.2156999111175537, 1.8444000482559204, 1.9011000394821167, 1.7257000207901, 1.6131999492645264, 1.6571999788284302, 1.8746000528335571, 2.11680006980896, 2.1470999717712402, 1.475600004196167, 1.4142999649047852, 1.9407999515533447, 0.9312000274658203, 1.9699000120162964, 1.649999976158142, 1.476199984550476, 1.4294999837875366, 1.1500999927520752, 1.7742999792099, 0.9277999997138977, 1.7200000286102295, 1.34660005569458, 0.8741000294685364, 1.091599941253662, 1.7711000442504883, 1.1533000469207764, 0.867900013923645, 0.28859999775886536, 0.08100000023841858, 1.0312000513076782, 0.8964999914169312, 0.477400004863739, 0.2897999882698059, 0.4397999942302704, -0.5895000100135803, 2.4137001037597656, 2.4130001068115234, 2.412899971008301, 2.4128000736236572, 2.4126999378204346, 2.4121999740600586, 2.411900043487549, 2.411600112915039, 2.411099910736084, 2.4110000133514404, 2.410900115966797, 2.410599946975708, 2.4103000164031982, 2.4102001190185547, 2.4100000858306885, 2.408799886703491, 2.4084999561309814, 2.4079999923706055, 2.4077999591827393, 2.406899929046631, 2.4065001010894775, 2.405100107192993, 2.4045000076293945, 2.4042000770568848, 2.404099941253662, 2.40310001373291, 2.402899980545044, 2.4022998809814453, 2.4019999504089355, 2.4017999172210693, 2.3675999641418457, 2.3875999450683594, 2.2355000972747803, 2.1991000175476074, 2.3234000205993652, 2.26200008392334, 2.204200029373169, 2.0527000427246094, 1.9263999462127686, 2.0606000423431396, 1.854099988937378, 1.9412000179290771, 1.7603000402450562, 2.196199893951416, 2.146199941635132, 1.8212000131607056, 1.999400019645691, 2.068700075149536, 1.6952999830245972, 1.6933000087738037, 1.9503999948501587, 1.763700008392334, 1.594099998474121, 1.454200029373169, 1.3245999813079834, 0.902400016784668, 1.4484000205993652, 1.2422000169754028, 1.385200023651123, 0.9591000080108643, 0.854200005531311, 1.1717000007629395, 0.9905999898910522, 0.5559999942779541, 0.3068000078201294, 1.2838000059127808, 0.7056000232696533, 0.5339999794960022, 0.9485999941825867, 0.8046000003814697, -0.03999999910593033, 0.48649999499320984, 2.4391000270843506, 2.438699960708618, 2.4365999698638916, 2.4356000423431396, 2.4349000453948975, 2.4344000816345215, 2.434000015258789, 2.4337000846862793, 2.4321999549865723, 2.4321000576019287, 2.4316999912261963, 2.4298999309539795, 2.429800033569336, 2.429500102996826, 2.4293999671936035, 2.4289000034332275, 2.428499937057495, 2.428499937057495, 2.428100109100342, 2.428100109100342, 2.427999973297119, 2.427799940109253, 2.427299976348877, 2.4270999431610107, 2.4267001152038574, 2.4267001152038574, 2.42549991607666, 2.4244000911712646, 2.4240000247955322, 2.423799991607666, 2.4072000980377197, 2.39490008354187, 2.4173998832702637, 2.367000102996826, 2.3891000747680664, 2.3220999240875244, 2.34060001373291, 2.1421000957489014, 2.156599998474121, 2.248300075531006, 2.3185999393463135, 2.381700038909912, 2.25600004196167, 2.209700107574463, 2.1760001182556152, 2.119999885559082, 2.0954999923706055, 2.2809998989105225, 1.9355000257492065, 1.8737000226974487, 2.063499927520752, 2.1089000701904297, 2.1352999210357666, 2.0820000171661377, 2.085599899291992, 1.5440000295639038, 2.141200065612793, 2.0308001041412354, 1.5881999731063843, 2.1519999504089355, 1.1964000463485718, 1.6291999816894531, 0.6675999760627747, 1.0009000301361084, 0.9577999711036682, 1.291700005531311, 1.1282999515533447, 1.7812999486923218, 0.8586000204086304, 1.6892999410629272, 0.8723000288009644, 0.8349000215530396, 0.17949999868869781, 0.46050000190734863, 0.8500999808311462, 0.9269999861717224, 0.2110999971628189, 0.7551000118255615, 0.5350000262260437, -0.19030000269412994, 0.833299994468689, 0.2190999984741211, 2.5794999599456787, 2.579200029373169, 2.5782999992370605, 2.5776000022888184, 2.5759999752044678, 2.5755999088287354, 2.5748000144958496, 2.5743000507354736, 2.572999954223633, 2.572499990463257, 2.5724000930786133, 2.572200059890747, 2.5720999240875244, 2.5713999271392822, 2.57069993019104, 2.5703999996185303, 2.569700002670288, 2.568700075149536, 2.56850004196167, 2.568000078201294, 2.5678000450134277, 2.5676000118255615, 2.5673999786376953, 2.5673999786376953, 2.566800117492676, 2.566699981689453, 2.566699981689453, 2.566499948501587, 2.5659000873565674, 2.5657999515533447, 2.5589001178741455, 2.5413999557495117, 2.483299970626831, 2.490000009536743, 2.5274999141693115, 2.507200002670288, 2.4683001041412354, 2.4460999965667725, 2.457900047302246, 2.350100040435791, 1.993399977684021, 2.263000011444092, 2.4184000492095947, 2.4089999198913574, 2.1796998977661133, 2.1470000743865967, 2.0810999870300293, 2.080399990081787, 1.9803999662399292, 2.3052000999450684, 2.145400047302246, 1.8170000314712524, 1.8549000024795532, 1.8932000398635864, 1.9627000093460083, 1.3372999429702759, 1.3055000305175781, 1.8499000072479248, 1.3047000169754028, 1.5547000169754028, 1.7604999542236328, 1.7803000211715698, 1.9530999660491943, 1.148900032043457, 1.7486000061035156, 1.2477999925613403, 0.45159998536109924, 0.4726000130176544, 1.3359999656677246, 0.7386000156402588, 1.1674000024795532, 0.852400004863739, 0.3052000105381012, 1.207800030708313, 0.6998000144958496, 1.1033999919891357, 1.3314000368118286, 0.3625999987125397, 0.3779999911785126, 2.7225000858306885, 2.720099925994873, 2.718100070953369, 2.7179999351501465, 2.7179999351501465, 2.716200113296509, 2.7151999473571777, 2.7147998809814453, 2.7146999835968018, 2.714600086212158, 2.713399887084961, 2.7130000591278076, 2.7128000259399414, 2.7126998901367188, 2.712599992752075, 2.712599992752075, 2.7119998931884766, 2.711400032043457, 2.711400032043457, 2.7112998962402344, 2.7109999656677246, 2.7107999324798584, 2.710599899291992, 2.7105000019073486, 2.7090001106262207, 2.7090001106262207, 2.7090001106262207, 2.7088000774383545, 2.7086000442504883, 2.708199977874756, 2.648200035095215, 2.696000099182129, 2.6447999477386475, 2.443700075149536, 2.3749001026153564, 2.577399969100952, 2.501699924468994, 2.4375998973846436, 2.1700000762939453, 2.4319000244140625, 2.3778998851776123, 2.1486001014709473, 2.534600019454956, 2.3578999042510986, 2.3503000736236572, 2.3745999336242676, 2.3592000007629395, 2.3173000812530518, 2.4458999633789062, 1.8880000114440918, 2.338099956512451, 1.9098000526428223, 1.8839000463485718, 2.0007998943328857, 2.022599935531616, 2.0497000217437744, 2.231100082397461, 2.1900999546051025, 1.7482999563217163, 1.4580999612808228, 2.238100051879883, 1.4637000560760498, 1.1805000305175781, 1.688099980354309, 1.1892999410629272, 0.8701000213623047, 0.9728000164031982, 1.3555999994277954, 1.4428999423980713, 1.0924999713897705, 1.4062999486923218, 0.8101999759674072, 1.361899971961975, 0.41190001368522644, 0.9678000211715698, 0.9782999753952026, 1.3877999782562256, 2.8620998859405518, 2.8592000007629395, 2.8568999767303467, 2.8554000854492188, 2.85479998588562, 2.8529000282287598, 2.852400064468384, 2.8522000312805176, 2.851300001144409, 2.8510000705718994, 2.8508999347686768, 2.850399971008301, 2.849900007247925, 2.8498001098632812, 2.84879994392395, 2.8478000164031982, 2.846299886703491, 2.8459999561309814, 2.8443000316619873, 2.8438000679016113, 2.843100070953369, 2.8429999351501465, 2.8427999019622803, 2.8424999713897705, 2.841599941253662, 2.84089994430542, 2.8401999473571777, 2.8392999172210693, 2.8387999534606934, 2.8373000621795654, 2.813499927520752, 2.6863999366760254, 2.660900115966797, 2.743499994277954, 2.589600086212158, 2.396699905395508, 2.4918999671936035, 2.7121999263763428, 2.3854000568389893, 2.385200023651123, 2.468600034713745, 2.265700101852417, 2.447200059890747, 2.446700096130371, 2.4024999141693115, 2.137200117111206, 2.4660000801086426, 2.288800001144409, 2.639699935913086, 2.4518001079559326, 2.365299940109253, 2.6928000450134277, 2.0815000534057617, 1.753000020980835, 2.0453999042510986, 2.409600019454956, 1.3001999855041504, 2.0648000240325928, 1.9494999647140503, 2.0137999057769775, 2.1054999828338623, 1.4251999855041504, 1.5544999837875366, 1.1683000326156616, 0.8730999827384949, 1.326799988746643, 1.3551000356674194, 0.7166000008583069, 1.0921000242233276, 0.31439998745918274, 0.8608999848365784, 0.6380000114440918, 0.6195999979972839, 2.8924999237060547, 2.889899969100952, 2.8891000747680664, 2.8882999420166016, 2.886899948120117, 2.8859000205993652, 2.8859000205993652, 2.884999990463257, 2.8847999572753906, 2.8824000358581543, 2.8824000358581543, 2.881500005722046, 2.88100004196167, 2.880500078201294, 2.8798999786376953, 2.879300117492676, 2.879199981689453, 2.876800060272217, 2.876499891281128, 2.8763999938964844, 2.8747000694274902, 2.874500036239624, 2.8736000061035156, 2.873500108718872, 2.8733999729156494, 2.8715999126434326, 2.870699882507324, 2.8705999851226807, 2.8698999881744385, 2.869800090789795, 2.845400094985962, 2.6528000831604004, 2.5727999210357666, 2.532399892807007, 2.6470999717712402, 2.7344000339508057, 2.259700059890747, 2.5632998943328857, 2.438199996948242, 2.570199966430664, 2.4019999504089355, 2.4935998916625977, 2.3269999027252197, 2.2797000408172607, 2.2105000019073486, 2.1988000869750977, 1.9586999416351318, 2.22760009765625, 1.8186999559402466, 1.3349000215530396, 2.1673998832702637, 1.5717999935150146, 1.3102999925613403, 1.6328999996185303, 1.5527000427246094, 1.917099952697754, 1.7776999473571777, 1.632699966430664, 1.8169000148773193, 1.6478999853134155, 1.4700000286102295, 1.1957000494003296, 1.5816999673843384, 1.4423999786376953, 1.8558000326156616, 1.198699951171875, 0.7865999937057495, 1.6022000312805176, 1.0088000297546387, 1.3075000047683716, 1.0972000360488892, 0.5975000262260437, 0.8274000287055969, 1.0255999565124512, 0.0210999995470047, 2.970400094985962, 2.969399929046631, 2.968899965286255, 2.967600107192993, 2.967400074005127, 2.9672999382019043, 2.966900110244751, 2.9667999744415283, 2.966399908065796, 2.966200113296509, 2.96560001373291, 2.9647998809814453, 2.9642999172210693, 2.963900089263916, 2.963099956512451, 2.962899923324585, 2.9626998901367188, 2.962399959564209, 2.9600000381469727, 2.9591000080108643, 2.9591000080108643, 2.958899974822998, 2.9574999809265137, 2.9570999145507812, 2.9553000926971436, 2.9540998935699463, 2.9535999298095703, 2.9526000022888184, 2.9519999027252197, 2.95169997215271, 2.916100025177002, 2.9030001163482666, 2.8685998916625977, 2.696199893951416, 2.57669997215271, 1.9264999628067017, 2.4628000259399414, 2.1793999671936035, 2.2502999305725098, 1.7854000329971313, 1.7904000282287598, 2.5146000385284424, 1.818600058555603, 1.6608999967575073, 1.6895999908447266, 1.715999960899353, 1.951200008392334, 1.4255000352859497, 2.033600091934204, 1.913599967956543, 1.3109999895095825, 1.2984000444412231, 0.8277999758720398, 1.7239999771118164, 0.5376999974250793, 0.613099992275238, 1.6926000118255615, 0.7085000276565552, 1.6330000162124634, 1.1232999563217163, 1.1223000288009644, 1.045300006866455, -0.011699999682605267, 1.2443000078201294, 0.9262999892234802, 3.1554999351501465, 3.154099941253662, 3.15339994430542, 3.152899980545044, 3.152100086212158, 3.151700019836426, 3.1514999866485596, 3.151400089263916, 3.1510000228881836, 3.150700092315674, 3.1505000591278076, 3.150399923324585, 3.148900032043457, 3.148400068283081, 3.148099899291992, 3.1480000019073486, 3.1477999687194824, 3.1477999687194824, 3.1470999717712402, 3.1465001106262207, 3.145900011062622, 3.1454999446868896, 3.1452999114990234, 3.14520001411438, 3.1447999477386475, 3.1433000564575195, 3.1431000232696533, 3.1429998874664307, 3.1424999237060547, 3.1422998905181885, 3.1275999546051025, 3.076200008392334, 2.9786999225616455, 3.0171000957489014, 2.849900007247925, 2.928100109100342, 3.0397000312805176, 2.8120999336242676, 2.799999952316284, 2.8582000732421875, 2.729599952697754, 2.926800012588501, 2.767699956893921, 2.518899917602539, 2.8032000064849854, 2.8798999786376953, 2.2490999698638916, 2.224400043487549, 2.601900100708008, 1.3220000267028809, 2.392199993133545, 2.693000078201294, 2.463900089263916, 1.454800009727478, 2.4602999687194824, 1.6812000274658203, 2.1361000537872314, 1.2425999641418457, 2.0174999237060547, 1.3638999462127686, 0.9014999866485596, 1.1243000030517578, 1.2920000553131104, 0.8070999979972839, 1.3490999937057495, 1.545699954032898, 1.1663999557495117, 0.5823000073432922, -0.003700000001117587, 3.197999954223633, 3.1958999633789062, 3.1956000328063965, 3.1944000720977783, 3.19350004196167, 3.19320011138916, 3.192500114440918, 3.191999912261963, 3.191699981689453, 3.190000057220459, 3.190000057220459, 3.1898999214172363, 3.1898000240325928, 3.188800096511841, 3.187700033187866, 3.187700033187866, 3.187700033187866, 3.1875, 3.1874001026153564, 3.1870999336242676, 3.1856000423431396, 3.184999942779541, 3.1847000122070312, 3.1847000122070312, 3.1840999126434326, 3.183300018310547, 3.1826999187469482, 3.182499885559082, 3.182499885559082, 3.1816999912261963, 3.1538000106811523, 3.0499000549316406, 2.816499948501587, 2.963099956512451, 3.0371999740600586, 2.676800012588501, 2.5260000228881836, 2.481300115585327, 2.6707000732421875, 2.6500000953674316, 2.5871999263763428, 2.306299924850464, 2.039799928665161, 2.353800058364868, 2.0281999111175537, 2.6254000663757324, 2.4802000522613525, 2.088099956512451, 2.2197999954223633, 2.0406999588012695, 2.261199951171875, 2.3317999839782715, 2.134000062942505, 2.2172999382019043, 2.2495999336242676, 1.4336999654769897, 0.9702000021934509, 2.095400094985962, 1.4823999404907227, 1.6047999858856201, 0.40459999442100525, 0.21850000321865082, 0.921500027179718, 0.022099999710917473, 0.7695000171661377, 0.8087000250816345, 1.1548999547958374, 3.3224000930786133, 3.3215999603271484, 3.3213999271392822, 3.320199966430664, 3.3201000690460205, 3.3192999362945557, 3.3180999755859375, 3.317199945449829, 3.316200017929077, 3.316200017929077, 3.3157999515533447, 3.313499927520752, 3.3120999336242676, 3.311500072479248, 3.309999942779541, 3.308500051498413, 3.3062000274658203, 3.3052000999450684, 3.2985999584198, 3.293299913406372, 3.293299913406372, 3.2929000854492188, 3.289400100708008, 3.2874999046325684, 3.283099889755249, 3.2813000679016113, 3.279900074005127, 3.2792000770568848, 3.274199962615967, 3.273900032043457, 3.1963000297546387, 3.1229000091552734, 3.1308000087738037, 2.999000072479248, 2.930999994277954, 2.808300018310547, 2.999500036239624, 3.0078999996185303, 3.020400047302246, 2.6373000144958496, 2.869800090789795, 2.4746999740600586, 2.3454999923706055, 2.2860000133514404, 2.3306000232696533, 2.7088000774383545, 2.1789000034332275, 2.630500078201294, 2.1984000205993652, 1.9332000017166138, 1.941100001335144, 1.4036999940872192, 2.1988000869750977, 1.690000057220459, 2.5722999572753906, 1.860700011253357, 2.1473000049591064, 1.1728999614715576, 1.3489999771118164, 1.6081000566482544, 1.9470000267028809, 2.130199909210205, 1.680999994277954, 1.5392999649047852, 1.4464000463485718, 1.7009999752044678, 1.304900050163269, 1.6008000373840332, 1.2310999631881714, 1.5443999767303467, 1.5576000213623047, 0.7470999956130981, 1.6431000232696533, 0.3336000144481659, 3.6547000408172607, 3.6517999172210693, 3.651400089263916, 3.650599956512451, 3.6503000259399414, 3.648699998855591, 3.6484999656677246, 3.64739990234375, 3.6468000411987305, 3.646399974822998, 3.6459999084472656, 3.644700050354004, 3.6442999839782715, 3.643199920654297, 3.642699956893921, 3.6426000595092773, 3.6419999599456787, 3.641700029373169, 3.6396000385284424, 3.6389999389648438, 3.6387999057769775, 3.637500047683716, 3.6373000144958496, 3.6370999813079834, 3.6370999813079834, 3.636399984359741, 3.6363000869750977, 3.635200023651123, 3.634999990463257, 3.6342999935150146, 3.5973000526428223, 3.5555999279022217, 3.470599889755249, 3.396699905395508, 3.025700092315674, 3.1810998916625977, 3.3801000118255615, 3.405900001525879, 2.8382999897003174, 2.5701000690460205, 3.4142000675201416, 2.933799982070923, 2.2909998893737793, 2.5336999893188477, 2.9618000984191895, 2.552999973297119, 1.9559999704360962, 2.5804998874664307, 1.833400011062622, 2.081700086593628, 1.7491999864578247, 1.652500033378601, 2.0011000633239746, 1.2337000370025635, 1.5063999891281128, 1.649899959564209, 1.6505999565124512, 1.561400055885315, 1.4127999544143677, 1.2236000299453735, 0.3646000027656555, 1.8859000205993652, 0.3262999951839447, 1.378999948501587, 1.555299997329712, 1.3809000253677368, 3.8046998977661133, 3.8041999340057373, 3.8032000064849854, 3.802799940109253, 3.802500009536743, 3.801500082015991, 3.8006999492645264, 3.80049991607666, 3.7995998859405518, 3.7985999584198, 3.7983999252319336, 3.797600030899048, 3.796999931335449, 3.796600103378296, 3.795599937438965, 3.7952001094818115, 3.7946999073028564, 3.7943999767303467, 3.794100046157837, 3.7934000492095947, 3.7925000190734863, 3.7923998832702637, 3.7923998832702637, 3.792099952697754, 3.791800022125244, 3.7916998863220215, 3.7916998863220215, 3.791599988937378, 3.7906999588012695, 3.790600061416626, 3.735599994659424, 3.6914000511169434, 3.5044000148773193, 3.4976999759674072, 3.5027999877929688, 3.368299961090088, 3.468899965286255, 3.5894999504089355, 3.704699993133545, 3.45770001411438, 3.4377999305725098, 3.0789999961853027, 3.139699935913086, 3.1898999214172363, 2.568700075149536, 2.9707999229431152, 2.8015999794006348, 2.7044999599456787, 2.119999885559082, 2.7123000621795654, 2.011199951171875, 2.2016000747680664, 2.4767000675201416, 0.9937000274658203, 1.6888999938964844, 2.061199903488159, 2.1972999572753906, 4.299600124359131, 4.298299789428711, 4.295899868011475, 4.2957000732421875, 4.293099880218506, 4.291900157928467, 4.290299892425537, 4.287399768829346, 4.286300182342529, 4.285099983215332, 4.283999919891357, 4.281099796295166, 4.2804999351501465, 4.27869987487793, 4.273200035095215, 4.267399787902832, 4.254799842834473, 4.205900192260742, 4.185800075531006, 4.184999942779541, 4.171199798583984, 4.150100231170654, 4.128699779510498, 4.110499858856201, 4.094299793243408, 4.0756001472473145, 4.058199882507324, 4.025599956512451, 4.009799957275391, 3.9625000953674316, 3.886199951171875, 3.7941999435424805, 3.890500068664551, 3.5766000747680664, 3.556299924850464, 3.242799997329712, 3.454900026321411, 3.655100107192993, 3.760999917984009, 3.489500045776367, 3.077199935913086, 3.1013998985290527, 2.753700017929077, 2.714400053024292, 2.671099901199341, 2.522599935531616, 2.6723999977111816, 2.2190001010894775, 2.871299982070923, 1.976699948310852, 2.303299903869629, 2.2026000022888184, 1.059399962425232, 1.0413000583648682, 1.121500015258789, 1.9190000295639038, 1.6676000356674194, 0.5770999789237976, 1.5094000101089478, 1.458899974822998, 1.8063000440597534, 1.5134999752044678, 4.7058000564575195, 4.7058000564575195, 4.705100059509277, 4.704800128936768, 4.704500198364258, 4.704100131988525, 4.701700210571289, 4.698500156402588, 4.696899890899658, 4.696499824523926, 4.696000099182129, 4.6956000328063965, 4.695499897003174, 4.6946001052856445, 4.694499969482422, 4.691999912261963, 4.690800189971924, 4.6905999183654785, 4.690499782562256, 4.690299987792969, 4.686500072479248, 4.684599876403809, 4.683499813079834, 4.6834001541137695, 4.68209981918335, 4.679200172424316, 4.678100109100342, 4.678100109100342, 4.6778998374938965, 4.677499771118164, 4.5680999755859375, 4.470300197601318, 4.412700176239014, 4.383999824523926, 4.2754998207092285, 4.330999851226807, 4.315000057220459, 4.309299945831299, 4.21150016784668, 3.8956000804901123, 3.6477999687194824, 3.0357000827789307, 3.468600034713745, 4.269899845123291, 3.141400098800659, 3.9679999351501465, 1.8371000289916992, 2.5067999362945557, 0.8708999752998352, 1.1122000217437744, 4.826300144195557, 4.8256001472473145, 4.8246002197265625, 4.8242998123168945, 4.82420015335083, 4.823800086975098, 4.822400093078613, 4.821499824523926, 4.821100234985352, 4.820700168609619, 4.819900035858154, 4.8196001052856445, 4.81820011138916, 4.817500114440918, 4.814599990844727, 4.812900066375732, 4.812900066375732, 4.812300205230713, 4.81220006942749, 4.810800075531006, 4.8105998039245605, 4.809999942779541, 4.809800148010254, 4.809599876403809, 4.808599948883057, 4.807600021362305, 4.807300090789795, 4.807000160217285, 4.806000232696533, 4.805699825286865, 4.701499938964844, 4.588699817657471, 4.237100124359131, 4.574699878692627, 4.263899803161621, 4.402299880981445, 4.004899978637695, 4.430099964141846, 3.8071999549865723, 4.091800212860107, 3.5446999073028564, 3.162899971008301, 3.7214999198913574, 3.3424999713897705, 5.489200115203857, 5.486100196838379, 5.484399795532227, 5.484099864959717, 5.48390007019043, 5.482900142669678, 5.4807000160217285, 5.480199813842773, 5.479100227355957, 5.477499961853027, 5.477499961853027, 5.477099895477295, 5.475399971008301, 5.474899768829346, 5.472700119018555, 5.4721999168396, 5.471399784088135, 5.470099925994873, 5.469799995422363, 5.4695000648498535, 5.468500137329102, 5.468100070953369, 5.466599941253662, 5.466300010681152, 5.4654998779296875, 5.4644999504089355, 5.461599826812744, 5.460899829864502, 5.460400104522705, 5.457600116729736, 5.160200119018555, 5.219200134277344, 5.120699882507324, 5.020500183105469, 4.737299919128418, 4.5802001953125, 4.54449987411499, 3.9560000896453857, 4.337600231170654, 6.04010009765625, 6.039000034332275, 6.03849983215332, 6.03849983215332, 6.038400173187256, 6.038300037384033, 6.038300037384033, 6.035200119018555, 6.034900188446045, 6.03410005569458, 6.033400058746338, 6.033100128173828, 6.032899856567383, 6.030600070953369, 6.029699802398682, 6.026899814605713, 6.025700092315674, 6.024899959564209, 6.024499893188477, 6.0243000984191895, 6.0218000411987305, 6.020999908447266, 6.016300201416016, 6.014200210571289, 6.013999938964844, 6.011099815368652, 6.009300231933594, 6.00629997253418, 5.9984002113342285, 5.997600078582764, 5.554299831390381, 4.307600021362305]}, \"token.table\": {\"Topic\": [15, 11, 14, 3, 6, 7, 19, 1, 20, 13, 6, 8, 17, 6, 1, 5, 8, 12, 14, 16, 1, 3, 5, 7, 9, 10, 11, 4, 10, 16, 4, 10, 1, 3, 4, 5, 6, 12, 1, 2, 4, 12, 1, 3, 5, 8, 9, 10, 11, 12, 2, 5, 9, 16, 8, 17, 3, 6, 13, 12, 3, 3, 6, 2, 4, 7, 7, 1, 4, 7, 8, 15, 14, 14, 17, 1, 2, 3, 4, 5, 10, 11, 13, 14, 16, 8, 3, 11, 13, 14, 11, 2, 1, 2, 3, 4, 5, 7, 8, 9, 12, 2, 3, 4, 6, 7, 8, 10, 11, 12, 13, 14, 3, 14, 14, 6, 5, 10, 8, 11, 1, 5, 15, 12, 1, 3, 4, 5, 6, 8, 10, 12, 13, 1, 3, 4, 5, 6, 8, 10, 13, 5, 4, 10, 2, 5, 7, 9, 10, 11, 14, 17, 1, 4, 9, 10, 12, 16, 7, 1, 8, 9, 10, 1, 8, 9, 10, 9, 14, 4, 4, 4, 9, 12, 16, 4, 16, 2, 4, 18, 5, 20, 6, 7, 8, 12, 15, 1, 6, 7, 8, 14, 15, 2, 4, 5, 6, 7, 9, 19, 9, 11, 20, 6, 7, 3, 7, 17, 13, 1, 8, 10, 12, 1, 2, 3, 4, 5, 7, 9, 10, 11, 13, 1, 4, 6, 13, 13, 11, 3, 4, 9, 11, 20, 17, 7, 4, 2, 18, 2, 3, 5, 6, 8, 10, 13, 8, 1, 2, 3, 5, 6, 7, 8, 9, 12, 5, 17, 6, 1, 4, 5, 8, 13, 1, 4, 1, 15, 1, 5, 6, 7, 7, 8, 4, 7, 10, 3, 8, 10, 11, 14, 1, 4, 15, 15, 1, 11, 9, 1, 12, 14, 15, 17, 10, 11, 12, 13, 1, 7, 11, 1, 3, 15, 19, 5, 6, 14, 9, 20, 20, 3, 4, 11, 12, 1, 4, 5, 6, 7, 9, 12, 18, 3, 4, 18, 10, 13, 5, 2, 3, 7, 13, 1, 2, 3, 5, 6, 8, 9, 11, 4, 18, 1, 12, 1, 2, 3, 4, 5, 8, 9, 11, 12, 16, 17, 9, 10, 1, 4, 8, 9, 10, 12, 16, 1, 4, 9, 10, 1, 2, 5, 6, 8, 15, 2, 7, 9, 10, 11, 14, 14, 1, 2, 3, 4, 5, 6, 10, 11, 14, 13, 7, 10, 19, 3, 15, 3, 5, 16, 9, 19, 15, 19, 2, 3, 4, 10, 11, 12, 5, 1, 3, 7, 8, 9, 11, 12, 1, 2, 5, 9, 11, 1, 3, 5, 6, 13, 5, 11, 13, 15, 10, 9, 13, 15, 12, 19, 1, 2, 3, 4, 5, 6, 7, 8, 11, 13, 2, 18, 1, 3, 5, 6, 8, 9, 10, 12, 13, 14, 16, 1, 3, 4, 5, 6, 8, 14, 15, 12, 19, 14, 8, 10, 12, 14, 15, 7, 2, 3, 5, 7, 9, 3, 6, 8, 10, 12, 13, 16, 8, 2, 3, 4, 6, 11, 12, 14, 15, 2, 3, 5, 6, 8, 12, 13, 14, 3, 6, 13, 1, 8, 14, 14, 1, 2, 5, 6, 8, 12, 14, 15, 15, 3, 17, 2, 3, 4, 6, 8, 9, 10, 13, 14, 5, 3, 6, 9, 12, 13, 15, 17, 12, 1, 3, 5, 8, 9, 17, 7, 16, 3, 16, 2, 3, 5, 8, 9, 13, 1, 2, 4, 6, 12, 15, 19, 18, 8, 17, 3, 12, 1, 5, 8, 10, 11, 12, 15, 2, 3, 4, 5, 7, 8, 9, 1, 2, 4, 6, 8, 16, 10, 16, 8, 10, 8, 12, 3, 5, 6, 5, 6, 1, 2, 3, 4, 5, 6, 9, 10, 13, 16, 3, 10, 11, 14, 20, 1, 2, 3, 4, 10, 11, 12, 13, 14, 16, 8, 4, 16, 7, 1, 4, 4, 4, 3, 7, 10, 14, 1, 2, 4, 5, 6, 8, 9, 10, 11, 12, 13, 15, 16, 5, 3, 1, 2, 4, 5, 6, 10, 12, 16, 5, 1, 12, 1, 2, 3, 4, 5, 6, 7, 8, 9, 11, 15, 3, 1, 3, 6, 7, 8, 9, 13, 19, 11, 1, 5, 8, 10, 11, 13, 16, 2, 5, 7, 8, 15, 2, 3, 6, 7, 8, 9, 11, 12, 15, 1, 2, 4, 7, 8, 9, 10, 11, 12, 3, 8, 3, 7, 8, 3, 7, 8, 14, 17, 13, 3, 17, 5, 14, 12, 1, 3, 5, 6, 10, 13, 14, 1, 2, 4, 5, 6, 7, 8, 9, 10, 12, 13, 14, 4, 14, 18, 16, 9, 15, 3, 20, 4, 5, 7, 1, 2, 4, 5, 7, 2, 3, 4, 5, 7, 8, 9, 10, 11, 13, 3, 4, 11, 20, 15, 1, 5, 7, 1, 4, 5, 9, 10, 19, 18, 5, 5, 7, 7, 18, 1, 2, 6, 17, 6, 7, 15, 17, 18, 16, 9, 10, 11, 12, 14, 6, 2, 9, 1, 7, 12, 12, 14, 2, 4, 5, 6, 11, 10, 2, 5, 9, 13, 15, 7, 7, 20, 1, 2, 4, 6, 10, 12, 13, 14, 16, 2, 3, 6, 7, 8, 9, 12, 14, 1, 16, 2, 3, 9, 12, 15, 1, 18, 15, 1, 9, 10, 2, 3, 4, 5, 7, 8, 9, 5, 13, 13, 1, 4, 5, 6, 7, 15, 1, 4, 5, 7, 1, 7, 8, 11, 17, 12, 1, 2, 4, 9, 1, 1, 2, 3, 5, 9, 17, 3, 13, 16, 11, 1, 9, 16, 6, 12, 18, 7, 5, 6, 13, 15, 14, 2, 3, 5, 6, 13, 8, 11, 3, 10, 2, 3, 6, 8, 9, 10, 12, 13, 14, 2, 5, 7, 4, 5, 10, 3, 11, 18, 1, 2, 5, 6, 10, 11, 12, 13, 19, 5, 1, 2, 5, 10, 11, 12, 15, 20, 6, 1, 2, 4, 9, 10, 1, 4, 10, 16, 3, 6, 12, 13, 15, 6, 15, 1, 2, 7, 7, 8, 2, 3, 4, 6, 10, 11, 13, 14, 16, 8, 1, 2, 3, 4, 5, 16, 14, 17, 3, 9, 18, 2, 3, 16, 14, 11, 17, 7, 4, 2, 5, 6, 7, 15, 17, 6, 9, 15, 4, 1, 2, 3, 4, 5, 6, 8, 10, 11, 12, 13, 16, 5, 2, 6, 20, 4, 3, 11, 14, 15, 2, 4, 7, 9, 1, 2, 3, 4, 5, 6, 8, 9, 10, 11, 12, 13, 14, 15, 7, 12, 14, 1, 2, 3, 4, 5, 6, 7, 11, 12, 14, 15, 1, 6, 11, 12, 13, 14, 15, 15, 3, 5, 20, 1, 4, 6, 10, 11, 20, 12, 7, 1, 1, 2, 3, 4, 5, 7, 9, 17, 15, 13, 1, 4, 5, 8, 9, 10, 15, 16, 5, 1, 4, 5, 7, 9, 1, 4, 5, 8, 1, 4, 5, 7, 5, 8, 13, 1, 5, 9, 11, 2, 4, 5, 9, 1, 1, 5, 1, 1, 7, 2, 8, 1, 3, 4, 5, 6, 7, 11, 12, 13, 14, 3, 6, 5, 13, 13, 18, 2, 3, 7, 9, 13, 14, 8, 10, 11, 13, 14, 3, 11, 1, 19, 2, 17, 10, 12, 17, 8, 12, 1, 2, 3, 5, 6, 7, 8, 9, 10, 12, 13, 14, 15, 10, 18, 8, 4, 12, 3, 8, 3, 13, 1, 4, 5, 9, 14, 14, 12, 15, 17, 1, 2, 4, 5, 7, 8, 9, 10, 12, 13, 9, 1, 1, 2, 3, 4, 5, 6, 7, 8, 9, 13, 1, 5, 3, 8, 9, 4, 9, 10, 4, 9, 10, 14, 9, 9, 15, 2, 3, 4, 5, 7, 9, 13, 14, 2, 3, 6, 2, 6, 7, 1, 4, 5, 9, 1, 2, 3, 4, 5, 6, 7, 8, 9, 10, 13, 2, 3, 6, 7, 8, 9, 10, 11, 12, 14, 9, 15, 18, 2, 1, 2, 3, 4, 5, 6, 7, 8, 9, 11, 12, 13, 2, 1, 2, 3, 4, 5, 6, 7, 8, 10, 11, 12, 13, 14, 16, 1, 2, 3, 5, 6, 8, 9, 10, 11, 12, 13, 14, 16, 17, 19, 15, 1, 4, 9, 10, 11, 16, 10, 18, 4, 9, 10, 16, 4, 7, 11, 12, 18, 1, 2, 3, 4, 5, 8, 9, 10, 11, 17, 1, 2, 3, 4, 5, 8, 9, 10, 11, 13, 16, 1, 2, 3, 4, 5, 7, 8, 9, 10, 11, 15, 10, 10, 4, 11, 4, 10, 11, 13, 2, 8, 9, 1, 2, 3, 4, 5, 6, 7, 9, 6, 14, 1, 12, 16, 15, 1, 12, 16, 1, 12, 16, 12, 16, 11, 19, 9, 11, 2, 3, 10, 11, 4, 9, 16, 15, 17, 12, 17, 8, 11, 10, 11, 6, 13, 3, 12, 14, 19, 20, 3, 7, 8, 13, 1, 2, 4, 6, 7, 9, 13, 2, 4, 5, 6, 7, 12, 19, 10, 16, 11, 2, 3, 5, 6, 17, 2, 11, 3, 6, 13, 14, 13, 2, 11, 12, 17, 11, 17, 16, 16, 18, 11, 13, 1, 2, 3, 4, 5, 6, 8, 10, 12, 13, 14, 16, 1, 2, 3, 4, 5, 6, 7, 10, 16, 14, 6, 4, 1, 5, 8, 11, 12, 15, 15, 18, 13, 20, 17, 20, 18, 14, 1, 11, 12, 15, 18, 8, 16, 8, 4, 15, 1, 15, 19, 2, 3, 5, 7, 8, 11, 15, 6, 19, 12, 11, 14, 19, 1, 2, 3, 4, 5, 7, 9, 10, 11, 12, 16, 1, 10, 11, 1, 9, 10, 11, 4, 10, 1, 2, 3, 4, 5, 6, 8, 9, 10, 11, 14, 16, 2, 3, 9, 17, 5, 18, 18, 19, 14, 15, 19, 14, 1, 2, 5, 7, 9, 14, 15, 7, 17, 18, 3, 20, 1, 2, 4, 5, 9, 11, 15, 17, 1, 2, 3, 5, 6, 7, 8, 10, 12, 13, 14, 15, 10, 11, 18, 10, 10, 8, 9, 4, 10, 16, 15, 20, 4, 16, 2, 3, 8, 5, 4, 7, 1, 4, 5, 8, 13, 18, 11, 19, 2, 6, 1, 2, 3, 4, 6, 8, 11, 12, 13, 14, 20, 2, 3, 6, 8, 10, 12, 14, 1, 2, 4, 5, 9, 10, 12, 3, 14, 1, 4, 10, 15, 16, 10, 2, 3, 7, 14, 9, 1, 11, 19, 2, 10, 4, 18, 13, 4, 3, 6, 7, 8, 10, 12, 13, 15, 6, 14, 2, 13, 18, 1, 15, 18, 17, 3, 5, 9, 14, 2, 1, 15, 9, 1, 2, 4, 6, 9, 10, 11, 12, 14, 6, 1, 4, 4, 16, 10, 12, 3, 11, 13, 14, 9, 1, 5, 19, 1, 9, 10, 7, 13, 8, 3, 1, 10, 11, 1, 5, 10, 5, 18, 7, 12, 8, 11, 17, 2, 3, 20, 18, 1, 2, 3, 4, 5, 8, 11, 14, 3, 14, 18, 4, 2, 4, 6, 12, 4, 10, 10, 9, 1, 9, 10, 1, 2, 4, 5, 6, 7, 8, 9, 12, 14, 18, 8, 1, 13, 1, 3, 4, 10, 11, 15, 17, 16, 1, 1, 5, 1, 2, 3, 4, 5, 6, 7, 8, 10, 12, 13, 14, 6, 3, 3, 6, 8, 13, 14, 3, 9, 3, 1, 3, 5, 6, 8, 10, 12, 13, 15, 7, 1, 2, 3, 4, 5, 10, 11, 3, 2, 3, 11, 13, 1, 19, 10, 10, 11, 1, 19, 2, 3, 5, 7, 9, 10, 11, 5, 6, 17, 7, 2, 3, 5, 8, 9, 17, 2, 3, 4, 6, 9, 10, 11, 13, 3, 20, 1, 4, 6, 7, 4, 4, 7, 12, 14, 11, 16, 19, 18, 13, 2, 3, 9, 1, 3, 6, 8, 1, 2, 6, 7, 6, 11, 14, 8, 2, 3, 4, 5, 7, 8, 9, 13, 11, 11, 4, 16, 3, 8, 10, 11, 5, 8, 17, 3, 16, 2, 3, 9, 1, 7, 10, 2, 5, 6, 8, 14, 10, 4, 12, 6, 18, 8, 2, 9, 20, 4, 16, 4, 16, 5, 5, 3, 17, 17, 13, 2, 11, 4, 7, 8, 9, 15, 1, 2, 4, 5, 10, 13, 16, 8, 3, 11, 2, 9, 7, 5, 1, 5, 8, 5, 1, 2, 3, 5, 9, 10, 13, 17, 1, 3, 4, 5, 8, 11, 13, 1, 9, 12, 1, 2, 4, 5, 7, 8, 9, 10, 12, 13, 15, 8, 2, 3, 6, 1, 3, 5, 6, 1, 5, 6, 3, 13, 11, 6, 9, 15, 12, 2, 1, 2, 3, 4, 5, 6, 7, 8, 10, 11, 12, 13, 10, 2, 3, 5, 13, 2, 3, 12, 14, 17, 5, 8, 15, 2, 2, 2, 3, 6, 14, 15, 1, 2, 4, 6, 7, 15, 1, 5, 6, 7, 9, 10, 14, 15, 16, 17, 1, 4, 5, 7, 12, 14, 15, 1, 4, 7, 9, 10, 14, 15, 16, 17, 2, 3, 4, 7, 11, 11, 9, 9, 1, 2, 4, 5, 6, 7, 9, 3, 1, 4, 2, 9, 10, 11, 12, 14, 16, 2, 9, 14, 2, 3, 9, 10, 14, 1, 4, 5, 7, 9, 10, 14, 15, 16, 12, 4, 7, 19, 1, 2, 3, 4, 5, 6, 7, 8, 9, 14, 17, 2, 20, 2, 17, 6, 3, 11, 6, 1, 15, 1, 15, 15, 6, 2, 3, 4, 6, 8, 12, 6, 2, 6, 18, 10, 3, 14, 2, 5, 7, 8, 9, 15, 1, 5, 11, 2, 3, 5, 6, 8, 9, 12, 13, 14, 3, 18, 10, 1, 4, 8, 11, 12, 15, 1, 15, 7, 15, 2, 6, 8, 17, 3, 7, 12, 14, 2, 3, 4, 5, 7, 9, 1, 4, 9, 10, 9, 1, 5, 5, 12, 1, 2, 3, 6, 9, 10, 12, 14, 15, 16, 1, 2, 3, 5, 8, 3, 6, 13, 4, 16, 4, 16, 2, 4, 10, 16, 4, 7, 9, 16, 19, 14, 10, 18, 1, 4, 5, 9, 16, 1, 2, 3, 4, 5, 8, 9, 11, 12, 16, 7, 8, 2, 11, 17, 2, 3, 4, 6, 7, 8, 9, 17, 2, 12, 18, 5, 9, 1, 4, 5, 7, 10, 12, 3, 7, 10, 12, 1, 3, 5, 6, 8, 10, 12, 13, 14, 1, 3, 5, 8, 9, 11, 2, 2, 4, 9, 10, 16, 9, 15, 1, 2, 3, 4, 5, 6, 8, 9, 10, 11, 12, 13, 14, 16, 1, 5, 6, 3, 3, 1, 2, 4, 5, 6, 10, 11, 12, 13, 1, 4, 8, 11, 15, 2, 3, 4, 7, 14, 16, 2, 3, 13, 4, 6, 5, 1, 2, 4, 5, 10, 13, 19, 13, 20, 12, 14, 16, 5, 8, 13, 14, 14, 11, 20, 18, 19, 6, 12, 9, 3, 5, 6, 12, 3, 2, 20, 16, 1, 2, 6, 8, 12, 15, 6, 8, 16, 19, 15, 11, 1, 5, 8, 4, 5, 7, 8, 8, 13, 8, 2, 3, 6, 1, 2, 3, 4, 5, 6, 8, 16, 1, 3, 5, 9, 11, 17, 10, 7, 19, 1, 2, 3, 4, 5, 6, 8, 9, 10, 11, 12, 13, 14, 16, 3, 5, 10, 11, 1, 4, 15, 16, 9, 1, 2, 3, 4, 5, 6, 7, 8, 9, 10, 12, 13, 14, 1, 3, 4, 6, 8, 9, 10, 12, 13, 14, 16, 9, 1, 5, 6, 6, 6, 1, 3, 5, 6, 10, 11, 15, 17, 16, 17, 17, 11, 2, 6, 2, 6, 20, 5, 7, 8, 11, 12, 13, 15, 4, 5, 7, 18, 1, 2, 3, 4, 5, 6, 7, 8, 9, 10, 13, 15, 1, 7, 8, 8, 13, 19, 12, 10, 2, 5, 9, 3, 19, 12, 3, 6, 18, 9, 11, 6, 13, 17, 4, 9, 16, 4, 13, 15, 5, 8, 9, 10, 12, 17, 1, 4, 5, 16, 1, 2, 3, 4, 7, 9, 16, 7, 1, 4, 5, 6, 7, 1, 4, 5, 6, 7, 13, 1, 2, 3, 4, 5, 6, 7, 8, 9, 10, 11, 12, 13, 14, 16, 18, 1, 4, 1, 15, 16, 19, 1, 2, 3, 4, 5, 9, 10, 11, 12, 13, 14, 19, 9, 12, 18, 14, 16, 1, 6, 7, 10, 15, 2, 3, 5, 8, 12, 15, 3, 8, 17, 3, 5, 8, 9, 11, 3, 1, 3, 9, 11, 17, 5, 1, 2, 3, 4, 6, 7, 8, 9, 10, 14, 15, 3, 10, 18, 7, 19, 16, 1, 2, 4, 7, 8, 9, 13, 15, 16, 5, 18, 7, 8, 3, 8, 14, 15, 1, 1, 1, 3, 6, 8, 12, 13, 14, 3, 7, 8, 3, 13, 16, 15, 19, 15, 8, 8, 2, 9, 2, 3, 4, 5, 6, 8, 10, 11, 12, 14, 15, 4, 5, 8, 9, 10, 11, 15, 8, 9, 11, 12, 8, 7, 20, 4, 9, 6, 7, 8, 9, 6, 9, 3, 4, 5, 6, 8, 10, 13, 14, 15, 10, 4, 4, 1, 18, 12, 16, 1, 1, 17, 2, 3, 5, 9, 2, 15, 6, 2, 3, 2, 3, 10, 11, 12, 14, 16, 3, 7, 9, 11, 12, 14, 16, 19, 18, 4, 12, 11, 12, 1, 2, 3, 4, 5, 6, 8, 9, 10, 12, 14, 16, 17, 14, 2, 3, 4, 5, 6, 9, 13, 6, 19, 2, 3, 20, 5, 20, 6, 6, 16, 18, 13, 12, 2, 3, 9, 9, 1, 4, 6, 8, 3, 6, 8, 12, 13, 14, 1, 5, 9, 1, 4, 5, 7, 8, 9, 11, 1, 2, 5, 6, 7, 9, 15, 7, 18, 15, 18, 7, 1, 3, 4, 5, 8, 9, 10, 16, 1, 3, 6, 5, 9, 1, 3, 4, 5, 8, 9, 10, 13, 16, 3, 1, 9, 10, 12, 16, 17, 20, 17, 2, 12, 14, 15, 19, 9, 14, 6, 19, 3, 11, 14, 1, 6, 11, 14, 5, 13, 2, 3, 5, 8, 9, 12, 2, 3, 5, 7, 9, 13, 1, 2, 3, 7, 8, 12, 15, 3, 11, 13, 4, 19], \"Freq\": [0.99041348695755, 0.9959617853164673, 0.9886239767074585, 0.1526213139295578, 0.8394172191619873, 0.988347053527832, 0.9931898713111877, 0.3707021474838257, 0.609010636806488, 0.986241340637207, 0.759010374546051, 0.23739972710609436, 0.9749651551246643, 0.979156494140625, 0.5789021849632263, 0.1542315036058426, 0.13927830755710602, 0.1115080937743187, 0.007262979634106159, 0.00854468159377575, 0.05402618274092674, 0.6718640923500061, 0.05541146919131279, 0.0969700738787651, 0.026320448145270348, 0.037402741611003876, 0.056796759366989136, 0.10014501959085464, 0.23939429223537445, 0.6600033640861511, 0.6999064683914185, 0.29952767491340637, 0.2065531462430954, 0.0948801040649414, 0.07388892769813538, 0.013434350490570068, 0.2661680579185486, 0.3442552387714386, 0.2675761878490448, 0.07506369799375534, 0.14689189195632935, 0.5099154710769653, 0.09075455367565155, 0.5055028796195984, 0.008772940374910831, 0.02420121431350708, 0.23444926738739014, 0.04991500452160835, 0.08621682971715927, 0.9960594773292542, 0.06881357729434967, 0.15138986706733704, 0.3337458372116089, 0.44384756684303284, 0.9971122741699219, 0.9755704998970032, 0.12441179156303406, 0.15015216171741486, 0.7207303643226624, 0.9947689175605774, 0.9948785901069641, 0.9955935478210449, 0.9903639554977417, 0.17891061305999756, 0.11321687698364258, 0.7058582901954651, 0.9832677841186523, 0.004561399109661579, 0.10035078227519989, 0.7047361731529236, 0.02280699647963047, 0.1664910763502121, 0.9873846769332886, 0.9916057586669922, 0.9919703602790833, 0.12286623567342758, 0.3008771538734436, 0.009190781973302364, 0.18768543004989624, 0.04160038009285927, 0.01209313329309225, 0.12286623567342758, 0.09045664221048355, 0.10545212775468826, 0.006288429722189903, 0.9850195646286011, 0.29850587248802185, 0.03467728942632675, 0.5956059098243713, 0.07076041400432587, 0.9866670370101929, 0.9946436285972595, 0.007721024099737406, 0.06466358155012131, 0.06032050400972366, 0.04101794213056564, 0.052599478513002396, 0.12208869308233261, 0.19495585560798645, 0.1283620297908783, 0.32910865545272827, 0.1037972941994667, 0.13472679257392883, 0.008387659676373005, 0.059762079268693924, 0.12371798604726791, 0.051374416798353195, 0.05451979115605354, 0.009436117485165596, 0.057140935212373734, 0.36958128213882446, 0.028308352455496788, 0.21465416252613068, 0.7765430212020874, 0.9913066625595093, 0.9942656755447388, 0.9438220262527466, 0.04967484250664711, 0.980869472026825, 0.9863126873970032, 0.7198625802993774, 0.2790531516075134, 0.9968909621238708, 0.9953250288963318, 0.1079096719622612, 0.06252527981996536, 0.04889048635959625, 0.2880837619304657, 0.2880837619304657, 0.02863307297229767, 0.03759308159351349, 0.005648701451718807, 0.13245230913162231, 0.0826326310634613, 0.11930391937494278, 0.028848078101873398, 0.13935089111328125, 0.25278741121292114, 0.018091168254613876, 0.10708015412092209, 0.2518095076084137, 0.9892052412033081, 0.9871310591697693, 0.9857171773910522, 0.026371819898486137, 0.21999649703502655, 0.14573900401592255, 0.2696171700954437, 0.012491914443671703, 0.16621187329292297, 0.10271129757165909, 0.056560613214969635, 0.05434466153383255, 0.040200162678956985, 0.10124485194683075, 0.20174525678157806, 0.593324601650238, 0.009677816182374954, 0.9918644428253174, 0.09325719624757767, 0.19760818779468536, 0.530768632888794, 0.17784737050533295, 0.02465364709496498, 0.16764479875564575, 0.35439616441726685, 0.45301076769828796, 0.9886723160743713, 0.9832273721694946, 0.9787518978118896, 0.987159252166748, 0.1936340183019638, 0.22774000465869904, 0.40927189588546753, 0.1688796728849411, 0.2846965491771698, 0.7117413878440857, 0.23779846727848053, 0.19023877382278442, 0.5707163214683533, 0.9919754862785339, 0.9283549189567566, 0.10838520526885986, 0.7541487812995911, 0.03486517071723938, 0.06518270820379257, 0.037138987332582474, 0.02280586212873459, 0.5482529401779175, 0.26454800367355347, 0.12497612833976746, 0.00456117233261466, 0.0337526760995388, 0.08762356638908386, 0.05886506289243698, 0.019322119653224945, 0.28758504986763, 0.44216200709342957, 0.1038002222776413, 0.9777030944824219, 0.9836083054542542, 0.9895435571670532, 0.9887807965278625, 0.02188214659690857, 0.9737555384635925, 0.18423084914684296, 0.704055905342102, 0.1107114925980568, 0.9951397180557251, 0.19249629974365234, 0.6193045377731323, 0.05839775130152702, 0.12941230833530426, 0.05591493844985962, 0.016431143507361412, 0.22954553365707397, 0.1991356611251831, 0.07626993954181671, 0.016185903921723366, 0.04806722700595856, 0.08338192850351334, 0.09539873152971268, 0.17951637506484985, 0.06321171671152115, 0.14168143272399902, 0.07193057239055634, 0.721485435962677, 0.9953714609146118, 0.9911369681358337, 0.9897109866142273, 0.24420814216136932, 0.6709297299385071, 0.08225958794355392, 0.9923868179321289, 0.9908992648124695, 0.9807184338569641, 0.9918864369392395, 0.995342493057251, 0.9901231527328491, 0.04128880798816681, 0.28068047761917114, 0.006255879998207092, 0.0742364451289177, 0.15222641825675964, 0.06964880228042603, 0.37493574619293213, 0.9882460832595825, 0.10385116189718246, 0.052113037556409836, 0.05511234700679779, 0.06579739600419998, 0.278935968875885, 0.21332603693008423, 0.13478155434131622, 0.06729704886674881, 0.028680916875600815, 0.9976410865783691, 0.981978714466095, 0.9955666661262512, 0.15903683006763458, 0.07194522768259048, 0.7364919781684875, 0.011359772644937038, 0.020826250314712524, 0.9644986987113953, 0.034933965653181076, 0.9952769875526428, 0.9837602376937866, 0.10184955596923828, 0.10184955596923828, 0.04792920500040054, 0.7448996901512146, 0.991334080696106, 0.9912651181221008, 0.9704961776733398, 0.019605983048677444, 0.9899656772613525, 0.0613994337618351, 0.17835073173046112, 0.3471991717815399, 0.3932487368583679, 0.019735531881451607, 0.44191354513168335, 0.12288504838943481, 0.43246084451675415, 0.9860993027687073, 0.9929863214492798, 0.9963688850402832, 0.9760267734527588, 0.08802589774131775, 0.10142114013433456, 0.306177020072937, 0.15691572427749634, 0.34636276960372925, 0.6019140481948853, 0.3970836102962494, 0.9852769374847412, 0.9952527284622192, 0.13051913678646088, 0.8604594469070435, 0.9824478626251221, 0.33425164222717285, 0.12367311120033264, 0.5381451845169067, 0.9953224658966064, 0.9917527437210083, 0.9852749109268188, 0.9980735182762146, 0.995150089263916, 0.9539899230003357, 0.9904266595840454, 0.055030640214681625, 0.5227910876274109, 0.001196318306028843, 0.41990771889686584, 0.07898253947496414, 0.0662059560418129, 0.03716825321316719, 0.03600674495100975, 0.10918174684047699, 0.541262686252594, 0.1300888955593109, 0.9977525472640991, 0.2711896598339081, 0.28604936599731445, 0.43836137652397156, 0.9799102544784546, 0.9632944464683533, 0.9958354234695435, 0.3005392849445343, 0.64500892162323, 0.05369263142347336, 0.9814242720603943, 0.015627611428499222, 0.16508440673351288, 0.6097609996795654, 0.0622263103723526, 0.06790907680988312, 0.030971085652709007, 0.026993148028850555, 0.021026242524385452, 0.995639443397522, 0.9986809492111206, 0.995262086391449, 0.99630206823349, 0.02000419795513153, 0.018128804862499237, 0.23109015822410583, 0.07001469284296036, 0.1285686492919922, 0.07189008593559265, 0.26172158122062683, 0.14732258021831512, 0.008960213512182236, 0.020212575793266296, 0.021462837234139442, 0.9874191880226135, 0.9987506866455078, 0.2999926805496216, 0.21966677904129028, 0.009546536952257156, 0.029893195256590843, 0.3517754077911377, 0.05072200298309326, 0.03837900608778, 0.24474234879016876, 0.6208980679512024, 0.052444785833358765, 0.08137984573841095, 0.363975465297699, 0.024406518787145615, 0.020161906257271767, 0.04881303757429123, 0.4679684638977051, 0.07321955263614655, 0.21711650490760803, 0.26518046855926514, 0.3767772316932678, 0.0464065782725811, 0.014363941736519337, 0.08010659366846085, 0.9752025008201599, 0.11185046285390854, 0.3056136965751648, 0.012889829464256763, 0.11226625740528107, 0.09272361546754837, 0.0964658260345459, 0.044906504452228546, 0.15467795729637146, 0.06777555495500565, 0.9564974308013916, 0.9902098178863525, 0.9958847165107727, 0.9868854880332947, 0.99461430311203, 0.99833083152771, 0.99894118309021, 0.948063313961029, 0.043375447392463684, 0.9921360611915588, 0.9679692387580872, 0.5914353132247925, 0.40217602252960205, 0.012318854220211506, 0.2778586149215698, 0.0958133116364479, 0.1231885477900505, 0.46537894010543823, 0.024637708440423012, 0.9948617219924927, 0.9966912269592285, 0.39648711681365967, 0.09713669866323471, 0.22100584208965302, 0.06352263689041138, 0.18209822475910187, 0.03943696990609169, 0.06976073980331421, 0.058745887130498886, 0.7012790441513062, 0.05507426708936691, 0.1138201579451561, 0.07977132499217987, 0.11522524058818817, 0.6987376809120178, 0.06647609919309616, 0.03840841352939606, 0.985991358757019, 0.9914897680282593, 0.2592426538467407, 0.7383230924606323, 0.9933287501335144, 0.9679356217384338, 0.9723361730575562, 0.9886702299118042, 0.9848114848136902, 0.9745345115661621, 0.032437652349472046, 0.001965918345376849, 0.4216894805431366, 0.04914795979857445, 0.1631712168455124, 0.025556938722729683, 0.0742134153842926, 0.12385285645723343, 0.060943469405174255, 0.04619908332824707, 0.9908985495567322, 0.9769364595413208, 0.0340069942176342, 0.11535172164440155, 0.091410793364048, 0.11181499063968658, 0.16105711460113525, 0.019315971061587334, 0.1575203835964203, 0.02530120313167572, 0.16758646070957184, 0.11643994599580765, 0.9726793766021729, 0.09250488132238388, 0.2675386369228363, 0.009069105610251427, 0.4715934991836548, 0.059856098145246506, 0.007255284581333399, 0.048066262155771255, 0.04353170841932297, 0.9982436895370483, 0.9723191857337952, 0.9793500900268555, 0.03898981958627701, 0.044796813279390335, 0.37579548358917236, 0.5325843691825867, 0.007466135546565056, 0.9826874732971191, 0.6663913130760193, 0.03823556751012802, 0.03277334198355675, 0.10705958306789398, 0.15512715280056, 0.28710970282554626, 0.04889640957117081, 0.1225544661283493, 0.0680161640048027, 0.03949325531721115, 0.42690327763557434, 0.0068956478498876095, 0.9765893220901489, 0.10198771953582764, 0.11359111219644547, 0.10931617766618729, 0.17527231574058533, 0.1997005045413971, 0.008549869060516357, 0.1251945048570633, 0.16611173748970032, 0.2259790152311325, 0.25866779685020447, 0.043348174542188644, 0.06893070787191391, 0.03766316920518875, 0.02416127733886242, 0.3027265965938568, 0.03766316920518875, 0.28972098231315613, 0.07492783665657043, 0.6343890428543091, 0.9968517422676086, 0.9770949482917786, 0.9806094765663147, 0.978253185749054, 0.6365893483161926, 0.04855342209339142, 0.09171202033758163, 0.05259954184293747, 0.0436081662774086, 0.05349867790937424, 0.06204048544168472, 0.011239218525588512, 0.9846749901771545, 0.343534916639328, 0.6432142853736877, 0.2902536988258362, 0.07454603165388107, 0.12212860584259033, 0.013821604661643505, 0.07431945204734802, 0.07522578537464142, 0.08338280022144318, 0.10468166321516037, 0.16155417263507843, 0.9865061640739441, 0.019880861043930054, 0.135551318526268, 0.12109251320362091, 0.08675284683704376, 0.08313814550638199, 0.48256272077560425, 0.0686793401837349, 0.9888196587562561, 0.27510613203048706, 0.15423047542572021, 0.1365552693605423, 0.1359850913286209, 0.2836586534976959, 0.01453928742557764, 0.9870994687080383, 0.9954434633255005, 0.9969719648361206, 0.9856117367744446, 0.7390945553779602, 0.08805912733078003, 0.06924307346343994, 0.016558127477765083, 0.05268494784832001, 0.03386889398097992, 0.19902828335762024, 0.10741208493709564, 0.03475096821784973, 0.13584469258785248, 0.06634275615215302, 0.23693843185901642, 0.21482416987419128, 0.9870133996009827, 0.9804506301879883, 0.9868937730789185, 0.994651198387146, 0.9855306148529053, 0.07062207907438278, 0.054041244089603424, 0.4003964960575104, 0.25485360622406006, 0.06263871490955353, 0.12896206974983215, 0.028248833492398262, 0.2996395528316498, 0.043400172144174576, 0.12366076558828354, 0.04756183177232742, 0.35433563590049744, 0.019619256258010864, 0.11177030205726624, 0.209115132689476, 0.042352430522441864, 0.6260218620300293, 0.066175676882267, 0.05426405370235443, 0.9830213785171509, 0.7598394155502319, 0.23948734998703003, 0.979361355304718, 0.9921690225601196, 0.9844358563423157, 0.99065762758255, 0.06801752746105194, 0.025114165619015694, 0.9062027931213379, 0.06525075435638428, 0.928568422794342, 0.08420757204294205, 0.06054925546050072, 0.15999439358711243, 0.04049983248114586, 0.0681680366396904, 0.35808268189430237, 0.03689093887805939, 0.08581152558326721, 0.08821745961904526, 0.01724250428378582, 0.3704865872859955, 0.06316075474023819, 0.22848086059093475, 0.33742254972457886, 0.990592896938324, 0.0595824271440506, 0.02535422518849373, 0.05641314759850502, 0.010141689330339432, 0.22945572435855865, 0.020283378660678864, 0.05324387177824974, 0.13564510643482208, 0.3251679241657257, 0.08493664860725403, 0.9820918440818787, 0.8545582890510559, 0.14242637157440186, 0.9909475445747375, 0.19711844623088837, 0.8002420663833618, 0.9909131526947021, 0.994356632232666, 0.06226183846592903, 0.6868886947631836, 0.21490377187728882, 0.032135143876075745, 0.24596276879310608, 0.026501039043068886, 0.07425811886787415, 0.08778469264507294, 0.08253969252109528, 0.08033127337694168, 0.1010352075099945, 0.15734991431236267, 0.011594204232096672, 0.05659075826406479, 0.004968944936990738, 0.009385784156620502, 0.0612836517393589, 0.995018720626831, 0.9961603879928589, 0.33104628324508667, 0.015104773454368114, 0.18440410494804382, 0.06797147542238235, 0.02895081415772438, 0.06797147542238235, 0.09251673519611359, 0.21272554993629456, 0.9830669164657593, 0.13596172630786896, 0.8610909581184387, 0.08340328931808472, 0.029482092708349228, 0.18426308035850525, 0.07176562398672104, 0.1524534523487091, 0.08417913317680359, 0.2540890872478485, 0.054309118539094925, 0.01978403702378273, 0.03336131572723389, 0.032585471868515015, 0.9952684044837952, 0.10018053650856018, 0.12079183757305145, 0.21857571601867676, 0.2674676477909088, 0.1883777529001236, 0.0987425372004509, 0.005751992575824261, 0.9852554202079773, 0.9885444045066833, 0.016184501349925995, 0.16787990927696228, 0.6265321969985962, 0.08009956032037735, 0.03675801679491997, 0.06501231342554092, 0.0074064661748707294, 0.04207581281661987, 0.04466509073972702, 0.09709803014993668, 0.81562340259552, 0.9844430088996887, 0.13530124723911285, 0.027741622179746628, 0.10853301733732224, 0.21511925756931305, 0.21487590670585632, 0.1837274134159088, 0.07616779208183289, 0.033825311809778214, 0.004380256403237581, 0.0012891768710687757, 0.0870194360613823, 0.07477225363254547, 0.43284112215042114, 0.019337652251124382, 0.28780871629714966, 0.015792416408658028, 0.05156707391142845, 0.02932877279818058, 0.6910389065742493, 0.3071283996105194, 0.5020787715911865, 0.05609431490302086, 0.44113677740097046, 0.11671193689107895, 0.19401463866233826, 0.6889035701751709, 0.20975612103939056, 0.7891929149627686, 0.9824422597885132, 0.31784477829933167, 0.6742162108421326, 0.04714742675423622, 0.9429485201835632, 0.9771428108215332, 0.054913394153118134, 0.015600396320223808, 0.18034057319164276, 0.04929725080728531, 0.09859450161457062, 0.5023327469825745, 0.09921851754188538, 0.11925627291202545, 0.030393607914447784, 0.08834752440452576, 0.2037402093410492, 0.17746776342391968, 0.06465081125497818, 0.09401412308216095, 0.047393422573804855, 0.029363315552473068, 0.04224196448922157, 0.0718628540635109, 0.031681474298238754, 0.9949514865875244, 0.9822322130203247, 0.9890480637550354, 0.9787939786911011, 0.9872612357139587, 0.9955847263336182, 0.9897471070289612, 0.9781830906867981, 0.10996414721012115, 0.13928791880607605, 0.7495889663696289, 0.03470271825790405, 0.18865659832954407, 0.2025376856327057, 0.011988211423158646, 0.5615530610084534, 0.3253979980945587, 0.08883108198642731, 0.061883848160505295, 0.03981148824095726, 0.09885165840387344, 0.0376448780298233, 0.12173649668693542, 0.023155663162469864, 0.15951678156852722, 0.043196819722652435, 0.14372479915618896, 0.3549829423427582, 0.49870774149894714, 0.9633868932723999, 0.9880086183547974, 0.011421478353440762, 0.9822471737861633, 0.983431875705719, 0.2045552283525467, 0.22238825261592865, 0.5171575546264648, 0.012588013894855976, 0.04196004569530487, 0.9796234965324402, 0.9732111692428589, 0.987555980682373, 0.8303789496421814, 0.16607578098773956, 0.9891358613967896, 0.9984250068664551, 0.9304956793785095, 0.02887292578816414, 0.03543495386838913, 0.004593420308083296, 0.1561528742313385, 0.15296608209609985, 0.12747174501419067, 0.20076799392700195, 0.3601076602935791, 0.9903494119644165, 0.1625380665063858, 0.009341268800199032, 0.0541793555021286, 0.33161503076553345, 0.44090786576271057, 0.9871366024017334, 0.9911913275718689, 0.9868811964988708, 0.0549587719142437, 0.26240119338035583, 0.6821353435516357, 0.1644717901945114, 0.8314962387084961, 0.12941694259643555, 0.17255592346191406, 0.08968367427587509, 0.6062161922454834, 0.9941262602806091, 0.9825690388679504, 0.6417688727378845, 0.04758879169821739, 0.20259228348731995, 0.06118559092283249, 0.04622911289334297, 0.9925253391265869, 0.9837431311607361, 0.978987991809845, 0.04066156595945358, 0.07547803223133087, 0.052097633481025696, 0.07725697755813599, 0.09580881893634796, 0.3136023283004761, 0.0645502358675003, 0.18272291123867035, 0.09784189611673355, 0.22322911024093628, 0.023641372099518776, 0.06364984810352325, 0.11229651421308517, 0.020004237070679665, 0.3409813344478607, 0.20322486758232117, 0.012729969806969166, 0.1607370376586914, 0.8251168131828308, 0.09001430124044418, 0.09965869039297104, 0.4339975118637085, 0.375059574842453, 0.9933375716209412, 0.4435064494609833, 0.5551584362983704, 0.9940747022628784, 0.03938203677535057, 0.7815819978713989, 0.1757044792175293, 0.4265139698982239, 0.006244010757654905, 0.053794555366039276, 0.1344863921403885, 0.10038448125123978, 0.0033621597103774548, 0.2752167880535126, 0.9867251515388489, 0.9587181806564331, 0.9503413438796997, 0.06016557291150093, 0.051317691802978516, 0.0849396288394928, 0.1362573206424713, 0.610503613948822, 0.05485684424638748, 0.7886486053466797, 0.1306636780500412, 0.07933151721954346, 0.9924123287200928, 0.9936087131500244, 0.9815192818641663, 0.9788537621498108, 0.12780538201332092, 0.8690766096115112, 0.9906333088874817, 0.6919007301330566, 0.06803476810455322, 0.13606953620910645, 0.10397765785455704, 0.9977612495422363, 0.9976597428321838, 0.603759229183197, 0.0622565932571888, 0.027237258851528168, 0.11802812665700912, 0.18806679546833038, 0.9959325194358826, 0.9977341890335083, 0.9498423933982849, 0.9919366836547852, 0.36342599987983704, 0.6352801322937012, 0.8929773569107056, 0.9937770962715149, 0.5127397775650024, 0.4800116717815399, 0.9831081032752991, 0.14453716576099396, 0.8472868800163269, 0.26346781849861145, 0.7345163226127625, 0.9888204336166382, 0.12416033446788788, 0.19510909914970398, 0.04574328288435936, 0.5022425651550293, 0.13256216049194336, 0.8421499133110046, 0.15015076100826263, 0.9365201592445374, 0.058532509952783585, 0.0025793365202844143, 0.11570166796445847, 0.12638749182224274, 0.22698161005973816, 0.09727783501148224, 0.049744345247745514, 0.17944812774658203, 0.0987517386674881, 0.10280498117208481, 0.08408107608556747, 0.8245369791984558, 0.09086180478334427, 0.041874393820762634, 0.9547361731529236, 0.9945839047431946, 0.19308574497699738, 0.6776217222213745, 0.1275094598531723, 0.09705028682947159, 0.2170587033033371, 0.049046918749809265, 0.0662655159831047, 0.1810561716556549, 0.04226383566856384, 0.02347990870475769, 0.32350096106529236, 0.9937149882316589, 0.990176796913147, 0.18702742457389832, 0.03820990398526192, 0.1468064785003662, 0.16390037536621094, 0.03519333526492119, 0.39114877581596375, 0.037204381078481674, 0.9820807576179504, 0.9876250624656677, 0.5035247206687927, 0.011297029443085194, 0.12211550772190094, 0.1000594049692154, 0.2625214457511902, 0.208565354347229, 0.38133490085601807, 0.2849053740501404, 0.12455479055643082, 0.03538333624601364, 0.14017245173454285, 0.4872013330459595, 0.07076667249202728, 0.2640141248703003, 0.30161216855049133, 0.689399242401123, 0.07049249112606049, 0.8770095705986023, 0.049759406596422195, 0.7984973192214966, 0.19677256047725677, 0.19165664911270142, 0.05735289305448532, 0.3351829946041107, 0.01642771251499653, 0.05475904420018196, 0.004611287731677294, 0.24843312799930573, 0.030261576175689697, 0.06167597323656082, 0.9905437231063843, 0.2046739161014557, 0.03377457335591316, 0.06957562267780304, 0.21683277189731598, 0.44379791617393494, 0.02972162514925003, 0.2749119997024536, 0.7247680425643921, 0.28672248125076294, 0.4847679138183594, 0.2276044487953186, 0.9910402894020081, 0.9619940519332886, 0.03242676332592964, 0.995843768119812, 0.9878414273262024, 0.9797931909561157, 0.9978408217430115, 0.9871920347213745, 0.04995349049568176, 0.09702505171298981, 0.08165474981069565, 0.5091413855552673, 0.17483721673488617, 0.08645796775817871, 0.9887011051177979, 0.9836711287498474, 0.9847408533096313, 0.9953820109367371, 0.1974063217639923, 0.02100067213177681, 0.035934481769800186, 0.013533766381442547, 0.20067308843135834, 0.1103701964020729, 0.05413506552577019, 0.06813551485538483, 0.019133945927023888, 0.08796948194503784, 0.152604877948761, 0.03873457387089729, 0.982122004032135, 0.035129476338624954, 0.9602056741714478, 0.9417399764060974, 0.9854801893234253, 0.12370450049638748, 0.5746273398399353, 0.06584271788597107, 0.23543760180473328, 0.3305496871471405, 0.1688215136528015, 0.48447516560554504, 0.014896015636622906, 0.07651415467262268, 0.04009636119008064, 0.2703745365142822, 0.03126780316233635, 0.03384280204772949, 0.08828556537628174, 0.024278530851006508, 0.04524635151028633, 0.13132478296756744, 0.10594268143177032, 0.014346404001116753, 0.06952488422393799, 0.03126780316233635, 0.0375213660299778, 0.6788225769996643, 0.13622631132602692, 0.18240471184253693, 0.5328800082206726, 0.010228022933006287, 0.042957697063684464, 0.07108476012945175, 0.09154080599546432, 0.08233558386564255, 0.0593225322663784, 0.07313036173582077, 0.015853434801101685, 0.012785028666257858, 0.007671017199754715, 0.11190392076969147, 0.43333008885383606, 0.12618952989578247, 0.01904747635126114, 0.023809345439076424, 0.08571364730596542, 0.19999849796295166, 0.9827585220336914, 0.8012200593948364, 0.19683152437210083, 0.9861336946487427, 0.18683533370494843, 0.6116398572921753, 0.11052785068750381, 0.05664060637354851, 0.034220367670059204, 0.9880989789962769, 0.9799806475639343, 0.9856551289558411, 0.9922896027565002, 0.9981769919395447, 0.47315606474876404, 0.009431682527065277, 0.04322854429483414, 0.04401451721787453, 0.3206771910190582, 0.10846434533596039, 0.9972121715545654, 0.9959469437599182, 0.9914899468421936, 0.11100999265909195, 0.3087022602558136, 0.40790268778800964, 0.05881167948246002, 0.023146765306591988, 0.03259442374110222, 0.010864808224141598, 0.04676591232419014, 0.9929496645927429, 0.02162870392203331, 0.14447975158691406, 0.7076911926269531, 0.07613304257392883, 0.04931344836950302, 0.12176495045423508, 0.10443186014890671, 0.7526893615722656, 0.020799705758690834, 0.08640271425247192, 0.12542329728603363, 0.7176999449729919, 0.06967960298061371, 0.7936326861381531, 0.08186947554349899, 0.12363961338996887, 0.09618446975946426, 0.8508626222610474, 0.04809223487973213, 0.9821125268936157, 0.7420681715011597, 0.07357870787382126, 0.06819489598274231, 0.11575186252593994, 0.9931613206863403, 0.945705235004425, 0.052872974425554276, 0.9959671497344971, 0.9951331615447998, 0.9866242408752441, 0.9969709515571594, 0.9838922023773193, 0.06400403380393982, 0.1480877697467804, 0.00847112201154232, 0.1760111004114151, 0.01694224402308464, 0.02886456437408924, 0.0250996220856905, 0.026668347418308258, 0.25036871433258057, 0.25538864731788635, 0.8250797986984253, 0.1717831790447235, 0.9924549460411072, 0.9874926209449768, 0.9482947587966919, 0.9923115968704224, 0.8181771636009216, 0.059676412492990494, 0.011528397910296917, 0.028481923043727875, 0.04306195676326752, 0.03899310901761055, 0.05362335592508316, 0.08201219141483307, 0.3075457215309143, 0.4699929654598236, 0.08516650646924973, 0.1260986179113388, 0.8678551316261292, 0.9932794570922852, 0.9906843304634094, 0.9912046790122986, 0.960807740688324, 0.9855241775512695, 0.9844985604286194, 0.9968312978744507, 0.14493277668952942, 0.849605917930603, 0.06617867946624756, 0.0235204566270113, 0.12885120511054993, 0.10752209275960922, 0.06822393834590912, 0.05507585406303406, 0.10796035826206207, 0.10065586864948273, 0.06720130890607834, 0.04499565809965134, 0.1384931206703186, 0.08867650479078293, 0.0026296162977814674, 0.9950406551361084, 0.9681634306907654, 0.9877551198005676, 0.9927985072135925, 0.9918469190597534, 0.9989615082740784, 0.9840825796127319, 0.9380576610565186, 0.057549551129341125, 0.02663976140320301, 0.5689692497253418, 0.2692018151283264, 0.13488131761550903, 0.985235333442688, 0.9964786171913147, 0.9918798804283142, 0.32480761408805847, 0.6696034073829651, 0.06827415525913239, 0.09602649509906769, 0.09415364265441895, 0.23700156807899475, 0.05414259806275368, 0.1059015616774559, 0.2667970359325409, 0.032860130071640015, 0.035584285855293274, 0.008853507228195667, 0.9944687485694885, 0.9943532347679138, 0.1495874971151352, 0.0704890713095665, 0.15532705187797546, 0.1449240893125534, 0.22689229249954224, 0.055243343114852905, 0.0066363755613565445, 0.10098052769899368, 0.01829487271606922, 0.07156524062156677, 0.06731327623128891, 0.9277525544166565, 0.8481337428092957, 0.0661664605140686, 0.08521438390016556, 0.35610562562942505, 0.3280128538608551, 0.3157469928264618, 0.32618406414985657, 0.48361673951148987, 0.14611399173736572, 0.04321681708097458, 0.996082067489624, 0.9748020172119141, 0.9974170923233032, 0.583609402179718, 0.00884256698191166, 0.12758560478687286, 0.01200062595307827, 0.05495023354887962, 0.025896087288856506, 0.16232426464557648, 0.02400125190615654, 0.7698657512664795, 0.06101500242948532, 0.16509942710399628, 0.8047592639923096, 0.032981935888528824, 0.16051208972930908, 0.02611727826297283, 0.7621496319770813, 0.14958077669143677, 0.059357449412345886, 0.10673987865447998, 0.18679478764533997, 0.013045985251665115, 0.23008374869823456, 0.1031818836927414, 0.06167193129658699, 0.06908442080020905, 0.04773644730448723, 0.07027041912078857, 0.04388194903731346, 0.06760192662477493, 0.19326144456863403, 0.1869329810142517, 0.08470400422811508, 0.25557243824005127, 0.04235200211405754, 0.05354851111769676, 0.02677425555884838, 0.005354851018637419, 0.0554957278072834, 0.0954137071967125, 0.8518952131271362, 0.11314233392477036, 0.026621725410223007, 0.9890583157539368, 0.045916296541690826, 0.1279446929693222, 0.24379755556583405, 0.1519649624824524, 0.10849972069263458, 0.017810948193073273, 0.15637685358524323, 0.04526268318295479, 0.028432155027985573, 0.03153681755065918, 0.03006618656218052, 0.01258204597979784, 0.9899153113365173, 0.02641092613339424, 0.1856590211391449, 0.06925531476736069, 0.04890912026166916, 0.024845832958817482, 0.012912007980048656, 0.060060400515794754, 0.012325098738074303, 0.21304813027381897, 0.037757840007543564, 0.012912007980048656, 0.1230553463101387, 0.1484880894422531, 0.024258924648165703, 0.235531285405159, 0.002851468278095126, 0.001996027771383524, 0.18534544110298157, 0.05503334105014801, 0.04476805403828621, 0.023952335119247437, 0.12917152047157288, 0.023667186498641968, 0.059025395661592484, 0.09010639786720276, 0.06016598269343376, 0.0607362762093544, 0.02737409621477127, 0.995782196521759, 0.9865700602531433, 0.03626209869980812, 0.0924428179860115, 0.165988489985466, 0.30695101618766785, 0.05132874473929405, 0.3467882573604584, 0.9822575449943542, 0.9768730401992798, 0.9901583194732666, 0.1006217822432518, 0.42358526587486267, 0.4738961458206177, 0.06354217976331711, 0.6135791540145874, 0.07347064465284348, 0.24424023926258087, 0.003971386235207319, 0.10191527009010315, 0.0711374431848526, 0.036294613033533096, 0.07926743477582932, 0.15766379237174988, 0.08913956582546234, 0.1611480712890625, 0.27758118510246277, 0.0066782087087631226, 0.019163554534316063, 0.007672419771552086, 0.03164873272180557, 0.24465428292751312, 0.15536651015281677, 0.03212825953960419, 0.1365690678358078, 0.2054290473461151, 0.0945625752210617, 0.017646566033363342, 0.05015844479203224, 0.024168122559785843, 0.06910710781812668, 0.3924707770347595, 0.01497320644557476, 0.023035701364278793, 0.09127897024154663, 0.052982114255428314, 0.10884369164705276, 0.16384142637252808, 0.024187486618757248, 0.048374973237514496, 0.010366065427660942, 0.9927237629890442, 0.9966596961021423, 0.29922670125961304, 0.69935542345047, 0.19285957515239716, 0.4861855208873749, 0.3193395733833313, 0.9905590415000916, 0.9149841666221619, 0.07624867558479309, 0.008026177063584328, 0.022430570796132088, 0.25972241163253784, 0.13753481209278107, 0.07024310529232025, 0.10625007748603821, 0.2862849235534668, 0.11510425060987473, 0.002951391041278839, 0.9924092888832092, 0.9872316122055054, 0.2014230191707611, 0.3140530586242676, 0.484487920999527, 0.991169273853302, 0.18369828164577484, 0.3872874677181244, 0.4282393157482147, 0.37348267436027527, 0.4295050799846649, 0.19648437201976776, 0.7893995642662048, 0.2085704505443573, 0.9704634547233582, 0.017971545457839966, 0.20250822603702545, 0.7925752997398376, 0.10614349693059921, 0.012061760760843754, 0.13750407099723816, 0.7405921220779419, 0.6577077507972717, 0.03954154998064041, 0.3005157709121704, 0.9840836524963379, 0.9937289953231812, 0.30723893642425537, 0.6853792071342468, 0.07492607086896896, 0.9221670031547546, 0.29422396421432495, 0.7020591497421265, 0.987402081489563, 0.9632549285888672, 0.9952800869941711, 0.9916233420372009, 0.9893942475318909, 0.9576021432876587, 0.9780511260032654, 0.8897013664245605, 0.08155595511198044, 0.027185318991541862, 0.988564670085907, 0.3861865699291229, 0.02218855917453766, 0.4384881854057312, 0.06445247679948807, 0.047018613666296005, 0.006339588202536106, 0.034339435398578644, 0.0811336562037468, 0.010817820206284523, 0.05589207261800766, 0.12440493702888489, 0.6652959585189819, 0.03245346248149872, 0.028847521170973778, 0.2526266574859619, 0.746483325958252, 0.9964145421981812, 0.8616534471511841, 0.02917562425136566, 0.027230583131313324, 0.05835124850273132, 0.021395457908511162, 0.9915410876274109, 0.9916654229164124, 0.2763815224170685, 0.10236351937055588, 0.4981691539287567, 0.12113016843795776, 0.9771382212638855, 0.9959901571273804, 0.44636476039886475, 0.1048688292503357, 0.44367581605911255, 0.5192205905914307, 0.47822949290275574, 0.8869116306304932, 0.995738685131073, 0.9825031161308289, 0.9938711524009705, 0.9378752708435059, 0.10773732513189316, 0.019938401877880096, 0.03777802363038063, 0.011543285101652145, 0.10808712244033813, 0.10423935949802399, 0.02553514577448368, 0.15426026284694672, 0.09514465183019638, 0.2308657020330429, 0.06191398203372955, 0.042325377464294434, 0.1694502979516983, 0.09631911665201187, 0.10167018324136734, 0.48560890555381775, 0.05574022978544235, 0.0026755311992019415, 0.042362574487924576, 0.036565590649843216, 0.009364359080791473, 0.9861679673194885, 0.979958176612854, 0.9896205067634583, 0.03480995073914528, 0.6030710935592651, 0.11527970433235168, 0.09357999265193939, 0.13291071355342865, 0.019891399890184402, 0.9928301572799683, 0.9742138385772705, 0.9923188090324402, 0.9688247442245483, 0.9898077845573425, 0.973999559879303, 0.984783411026001, 0.991156280040741, 0.13308827579021454, 0.6289073824882507, 0.07828722149133682, 0.11743083596229553, 0.03914361074566841, 0.982856810092926, 0.9977031350135803, 0.9926081299781799, 0.9931662082672119, 0.9834775924682617, 0.30329158902168274, 0.6438730955123901, 0.049719929695129395, 0.03584394231438637, 0.3674004077911377, 0.044804926961660385, 0.12382452189922333, 0.4268687665462494, 0.985906720161438, 0.9871395826339722, 0.9896303415298462, 0.9897932410240173, 0.9872197508811951, 0.18156056106090546, 0.09612029790878296, 0.7155622243881226, 0.09382133185863495, 0.14177446067333221, 0.07213818281888962, 0.2439354658126831, 0.046702172607183456, 0.11050067842006683, 0.04211535304784775, 0.021266167983412743, 0.13635367155075073, 0.08673261106014252, 0.004586820490658283, 0.9922097325325012, 0.984777569770813, 0.9983488321304321, 0.09492416679859161, 0.7198415994644165, 0.1397494673728943, 0.04218852147459984, 0.9916493892669678, 0.9969345331192017, 0.0395188108086586, 0.15595343708992004, 0.05888037756085396, 0.09150329232215881, 0.05967605859041214, 0.11245621740818024, 0.004774084780365229, 0.03235768526792526, 0.26973578333854675, 0.007161126937717199, 0.13473528623580933, 0.03288814052939415, 0.17368535697460175, 0.05684247985482216, 0.11684287339448929, 0.6505305767059326, 0.9664736390113831, 0.030014708638191223, 0.7776050567626953, 0.21291567385196686, 0.28078246116638184, 0.32837268710136414, 0.39024001359939575, 0.9788215756416321, 0.02131064236164093, 0.27348658442497253, 0.036701664328575134, 0.031965963542461395, 0.5138232707977295, 0.022494567558169365, 0.09944966435432434, 0.38765639066696167, 0.6069883108139038, 0.9783022403717041, 0.9920325875282288, 0.9868208169937134, 0.05699855089187622, 0.051061201840639114, 0.09024770557880402, 0.09737252444028854, 0.14724625647068024, 0.2636183202266693, 0.08312288671731949, 0.20899468660354614, 0.06827593594789505, 0.04117672145366669, 0.14007124304771423, 0.0355457179248333, 0.05771780014038086, 0.0404728464782238, 0.11086040735244751, 0.08516895025968552, 0.07883407175540924, 0.17068983614444733, 0.13444024324417114, 0.036601532250642776, 0.26398736238479614, 0.7351436018943787, 0.9958658814430237, 0.9981850981712341, 0.9920098185539246, 0.9901136755943298, 0.9855723977088928, 0.9929080009460449, 0.9456746578216553, 0.05260706692934036, 0.9857416749000549, 0.9898762106895447, 0.9882060289382935, 0.8586217761039734, 0.5624181628227234, 0.3681086301803589, 0.06800834089517593, 0.9793745279312134, 0.9872384071350098, 0.9899585843086243, 0.05493263527750969, 0.36340051889419556, 0.10141409933567047, 0.0633838102221489, 0.08451174944639206, 0.32959580421447754, 0.9915255904197693, 0.9987354874610901, 0.11006138473749161, 0.8854938745498657, 0.0405324324965477, 0.010991846211254597, 0.2507514953613281, 0.010991846211254597, 0.4650925099849701, 0.011678837239742279, 0.014426798559725285, 0.002747961552813649, 0.06732506304979324, 0.12503226101398468, 0.9877789616584778, 0.32904112339019775, 0.13215148448944092, 0.17388352751731873, 0.04440717771649361, 0.09630472213029861, 0.033171627670526505, 0.19100436568260193, 0.0930342897772789, 0.0463375449180603, 0.6939855217933655, 0.017960287630558014, 0.016523465514183044, 0.07040432840585709, 0.06178339198231697, 0.8832509517669678, 0.11396786570549011, 0.3241960406303406, 0.3218331038951874, 0.16304320096969604, 0.05482032150030136, 0.13563303649425507, 0.9938475489616394, 0.28434792160987854, 0.5686958432197571, 0.14587366580963135, 0.99176025390625, 0.9705273509025574, 0.9330272078514099, 0.06637129187583923, 0.9781784415245056, 0.09232423454523087, 0.904777467250824, 0.10841377079486847, 0.8771659731864929, 0.9821881055831909, 0.9906479120254517, 0.14959022402763367, 0.27878180146217346, 0.06339585781097412, 0.23718450963497162, 0.010999280959367752, 0.0051996600814163685, 0.19478727877140045, 0.05999607965350151, 0.9923237562179565, 0.9933851361274719, 0.9911972284317017, 0.9828379154205322, 0.9819242358207703, 0.4984743893146515, 0.2204308807849884, 0.2780435085296631, 0.9680023193359375, 0.4046013653278351, 0.08873763680458069, 0.5049594044685364, 0.9950166940689087, 0.9934115409851074, 0.10389438271522522, 0.8895956873893738, 0.9856361746788025, 0.04140019416809082, 0.04597199708223343, 0.04140019416809082, 0.5549657940864563, 0.1544252634048462, 0.12928037345409393, 0.021843047812581062, 0.004571800585836172, 0.005841745529323816, 0.9858359694480896, 0.046253420412540436, 0.9501223564147949, 0.9958137273788452, 0.9803255200386047, 0.9911623597145081, 0.9936792254447937, 0.5388592481613159, 0.15181773900985718, 0.23803521692752838, 0.07122313976287842, 0.9849298000335693, 0.9965298771858215, 0.9757081866264343, 0.9680896997451782, 0.09975400567054749, 0.22601920366287231, 0.6740135550498962, 0.2663683295249939, 0.7290080189704895, 0.9874412417411804, 0.9944355487823486, 0.3647032082080841, 0.634148120880127, 0.9951217770576477, 0.9237322211265564, 0.04670556262135506, 0.027677370235323906, 0.9876850247383118, 0.9871956706047058, 0.8242504000663757, 0.16781145334243774, 0.6356972455978394, 0.36256495118141174, 0.9879199862480164, 0.8027235269546509, 0.1942072957754135, 0.9809620380401611, 0.995173990726471, 0.0776885598897934, 0.056231722235679626, 0.19829080998897552, 0.06659019738435745, 0.023676514625549316, 0.4572526812553406, 0.0458732470870018, 0.07472899556159973, 0.1975049525499344, 0.7723854184150696, 0.028214992955327034, 0.9949878454208374, 0.209986612200737, 0.2498723417520523, 0.5384572744369507, 0.9841703176498413, 0.05606773495674133, 0.9321261048316956, 0.9804984331130981, 0.9961236119270325, 0.04529685899615288, 0.9531213641166687, 0.9952138662338257, 0.0009553736890666187, 0.13948455452919006, 0.11719250679016113, 0.20031002163887024, 0.07133457064628601, 0.28310906887054443, 0.030890416353940964, 0.08948666602373123, 0.0671946182847023, 0.9944618344306946, 0.9941759705543518, 0.9778236746788025, 0.9951428771018982, 0.9628480672836304, 0.06374208629131317, 0.1140647903084755, 0.026838773861527443, 0.20800049602985382, 0.4998721778392792, 0.08554859459400177, 0.9802840352058411, 0.9721313714981079, 0.9948313236236572, 0.3136786222457886, 0.6856421828269958, 0.03907442092895508, 0.1457645744085312, 0.09717638790607452, 0.05130641534924507, 0.11246638000011444, 0.26332762837409973, 0.07305217534303665, 0.03805508837103844, 0.08800239115953445, 0.007814884185791016, 0.03567664697766304, 0.04858819395303726, 0.9880302548408508, 0.9922300577163696, 0.3815213739871979, 0.1283426582813263, 0.09538034349679947, 0.3078821301460266, 0.08626310527324677, 0.9932699799537659, 0.9855231046676636, 0.9943589568138123, 0.0481368750333786, 0.06516089290380478, 0.1485198736190796, 0.23540106415748596, 0.2230733335018158, 0.014088842086493969, 0.0898163691163063, 0.054594263434410095, 0.1203421950340271, 0.9929214119911194, 0.15926909446716309, 0.11631470173597336, 0.2538652718067169, 0.07577347755432129, 0.20415401458740234, 0.026062214747071266, 0.1640954315662384, 0.9955254793167114, 0.9917587041854858, 0.21722429990768433, 0.5277746319770813, 0.25423288345336914, 0.3033430278301239, 0.6894159317016602, 0.9904595017433167, 0.20364268124103546, 0.7951761484146118, 0.9958604574203491, 0.9820156693458557, 0.15009020268917084, 0.030355321243405342, 0.6644442677497864, 0.042160168290138245, 0.010118440724909306, 0.02866891585290432, 0.07251548767089844, 0.0614127442240715, 0.6470806002616882, 0.28908926248550415, 0.9835068583488464, 0.6425060629844666, 0.10876553505659103, 0.1118355318903923, 0.03333137556910515, 0.08859128504991531, 0.014911403879523277, 0.09907680004835129, 0.6283789873123169, 0.06783636659383774, 0.0428440198302269, 0.015173924155533314, 0.033025600016117096, 0.07408445328474045, 0.03838110342621803, 0.9895151257514954, 0.9871000647544861, 0.08238417655229568, 0.1186332181096077, 0.03954440355300903, 0.7546390891075134, 0.9931163191795349, 0.07226824760437012, 0.9214202165603638, 0.09215249866247177, 0.9052627682685852, 0.7565187215805054, 0.23950089514255524, 0.9779613614082336, 0.9958040118217468, 0.9743539690971375, 0.7141494750976562, 0.09396703541278839, 0.19125054776668549, 0.11467181146144867, 0.031442273408174515, 0.18125544488430023, 0.6713849902153015, 0.022692624479532242, 0.34129706025123596, 0.4347906708717346, 0.19969509541988373, 0.7261413335800171, 0.08068237453699112, 0.19100317358970642, 0.9914140105247498, 0.1033807173371315, 0.03236265853047371, 0.1729004979133606, 0.1093738004565239, 0.1447329968214035, 0.269988477230072, 0.11207068711519241, 0.05513638257980347, 0.9959954023361206, 0.9881134629249573, 0.8033998012542725, 0.19587934017181396, 0.8061798214912415, 0.06784681230783463, 0.0685119777917862, 0.05742589756846428, 0.048228342086076736, 0.9503819942474365, 0.9675247669219971, 0.9941434264183044, 0.843596875667572, 0.754022479057312, 0.12870141863822937, 0.11471213400363922, 0.8936116695404053, 0.04592043533921242, 0.05969656631350517, 0.996142566204071, 0.9968501925468445, 0.5333219766616821, 0.31686368584632874, 0.1486520916223526, 0.9976710677146912, 0.983715295791626, 0.9964885711669922, 0.892315685749054, 0.1053428202867508, 0.9891288876533508, 0.9902752637863159, 0.988463282585144, 0.9752553701400757, 0.41162189841270447, 0.5804924368858337, 0.19744957983493805, 0.7999238967895508, 0.9970316886901855, 0.9913025498390198, 0.9939534068107605, 0.9985552430152893, 0.9974027276039124, 0.9940449595451355, 0.9980481863021851, 0.9846692085266113, 0.036708757281303406, 0.6931477189064026, 0.12092296779155731, 0.14035701751708984, 0.006478016264736652, 0.14738303422927856, 0.12916715443134308, 0.5503404140472412, 0.024839837104082108, 0.08831942081451416, 0.059063613414764404, 0.8868330717086792, 0.9772188067436218, 0.8734910488128662, 0.12511852383613586, 0.9977017641067505, 0.9937596917152405, 0.981468141078949, 0.9926696419715881, 0.203809455037117, 0.12264639139175415, 0.6727515459060669, 0.9947839379310608, 0.9960775375366211, 0.46959003806114197, 0.03578660264611244, 0.22213877737522125, 0.04756999388337135, 0.05760769918560982, 0.1667131930589676, 0.997850775718689, 0.07052718847990036, 0.07664599269628525, 0.024153148755431175, 0.13944417238235474, 0.48338499665260315, 0.027695609256625175, 0.1780892163515091, 0.16894112527370453, 0.2657732367515564, 0.5624503493309021, 0.03167661279439926, 0.15204773843288422, 0.13390567898750305, 0.10798845440149307, 0.1724935621023178, 0.038011934608221054, 0.1500319540500641, 0.0028796920087188482, 0.1710537075996399, 0.039451781660318375, 0.9955090284347534, 0.9804762601852417, 0.6910828948020935, 0.2653573751449585, 0.042687926441431046, 0.17356814444065094, 0.07815109938383102, 0.26716771721839905, 0.4807201325893402, 0.0667206421494484, 0.01946018636226654, 0.911848783493042, 0.2558595538139343, 0.739149808883667, 0.9866985082626343, 0.1855400651693344, 0.07481454312801361, 0.7361750602722168, 0.9908834099769592, 0.9948462247848511, 0.11018383502960205, 0.017188679426908493, 0.15359626710414886, 0.03041073866188526, 0.14874817430973053, 0.10864126682281494, 0.14720560610294342, 0.040106918662786484, 0.08131567388772964, 0.10467464476823807, 0.041429124772548676, 0.016086841002106667, 0.9832931160926819, 0.021327920258045197, 0.11967332661151886, 0.18484197556972504, 0.6730143427848816, 0.604032039642334, 0.20680420100688934, 0.14435341954231262, 0.018428096547722816, 0.025594579055905342, 0.15615031123161316, 0.6625234484672546, 0.18068821728229523, 0.9967191815376282, 0.9874861836433411, 0.14728228747844696, 0.21040326356887817, 0.29294607043266296, 0.012947892770171165, 0.33502674102783203, 0.19418995082378387, 0.04793810471892357, 0.3790360391139984, 0.24294057488441467, 0.11740773171186447, 0.0182814821600914, 0.18119671940803528, 0.033684004098176956, 0.05807587131857872, 0.14286664128303528, 0.05401055887341499, 0.2874755561351776, 0.0447184219956398, 0.1852620244026184, 0.0127766914665699, 0.9831093549728394, 0.2132745385169983, 0.03800932317972183, 0.06334887444972992, 0.21960942447185516, 0.14570240676403046, 0.029562806710600853, 0.28929316997528076, 0.046078428626060486, 0.08809111267328262, 0.20599769055843353, 0.024394461885094643, 0.28866779804229736, 0.06979526579380035, 0.05353229120373726, 0.2046424299478531, 0.01829584687948227, 0.9965763092041016, 0.11486992239952087, 0.13743366301059723, 0.6933220624923706, 0.05333246663212776, 0.9933341145515442, 0.9908512234687805, 0.995615541934967, 0.15797539055347443, 0.06896387785673141, 0.10986106097698212, 0.08660580217838287, 0.483549028635025, 0.0545295774936676, 0.03849146515130997, 0.9984039068222046, 0.9984341263771057, 0.9887808561325073, 0.19560515880584717, 0.5683122873306274, 0.03964969143271446, 0.0211465023458004, 0.02907644212245941, 0.05947453901171684, 0.08590766787528992, 0.16901227831840515, 0.7255455851554871, 0.10382182896137238, 0.08987192809581757, 0.05676122009754181, 0.6117598414421082, 0.15136325359344482, 0.08987192809581757, 0.6475365161895752, 0.20932085812091827, 0.03595205768942833, 0.003462049877271056, 0.02556590735912323, 0.0571238249540329, 0.003994673024863005, 0.0019973365124315023, 0.014913446269929409, 0.9918121695518494, 0.6120999455451965, 0.06743473559617996, 0.31642454862594604, 0.04256211966276169, 0.18043939769268036, 0.008592352271080017, 0.18043939769268036, 0.07073704153299332, 0.15825913846492767, 0.17324580252170563, 0.040963541716337204, 0.12668724358081818, 0.002397865755483508, 0.015386305749416351, 0.9949100613594055, 0.9850083589553833, 0.9930431842803955, 0.0056998650543391705, 0.9983224868774414, 0.28974875807762146, 0.7074847221374512, 0.9824709296226501, 0.19110600650310516, 0.802645206451416, 0.4841262996196747, 0.5129961967468262, 0.9769526720046997, 0.9919727444648743, 0.24567393958568573, 0.06700198352336884, 0.03153034299612045, 0.6056453585624695, 0.028902815654873848, 0.021020229905843735, 0.9903006553649902, 0.9962353110313416, 0.9883147478103638, 0.9918022751808167, 0.9887843132019043, 0.23635701835155487, 0.7583121061325073, 0.17505793273448944, 0.04084685072302818, 0.2225736528635025, 0.4493153393268585, 0.09503144770860672, 0.01583857461810112, 0.12905730307102203, 0.03226432576775551, 0.8363906145095825, 0.037383440881967545, 0.30553773045539856, 0.08051817864179611, 0.12113672494888306, 0.03342942148447037, 0.09309914708137512, 0.008986404165625572, 0.19698196649551392, 0.1229340061545372, 0.31872498989105225, 0.6710000038146973, 0.9961669445037842, 0.02268305979669094, 0.06642895936965942, 0.5622158646583557, 0.035644806921482086, 0.1117950826883316, 0.20090709626674652, 0.2845129072666168, 0.7112822532653809, 0.2875547707080841, 0.7062748670578003, 0.0427069291472435, 0.19645188748836517, 0.7594068646430969, 0.9785869717597961, 0.5667617917060852, 0.06667786091566086, 0.024735335260629654, 0.3409174382686615, 0.14072856307029724, 0.037427809089422226, 0.22007551789283752, 0.15669776499271393, 0.3762742578983307, 0.06836813688278198, 0.5282453894615173, 0.1792561113834381, 0.013444208540022373, 0.27840715646743774, 0.992323637008667, 0.09159832447767258, 0.9058056473731995, 0.9879863262176514, 0.98712158203125, 0.09563320875167847, 0.21759457886219025, 0.06659477949142456, 0.02903842180967331, 0.005033326800912619, 0.1637767106294632, 0.11886394023895264, 0.2071407437324524, 0.013551264069974422, 0.08246912062168121, 0.3807547688484192, 0.13096883893013, 0.036905307322740555, 0.42621129751205444, 0.02475356124341488, 0.10407190024852753, 0.07909464836120605, 0.8159236907958984, 0.8330363631248474, 0.16581295430660248, 0.9944829344749451, 0.9891554713249207, 0.1349666863679886, 0.8069882988929749, 0.015464932657778263, 0.04077118635177612, 0.7051499485969543, 0.13776709139347076, 0.039879947900772095, 0.11601439118385315, 0.9736488461494446, 0.9856784343719482, 0.20841185748577118, 0.7851795554161072, 0.36964914202690125, 0.2948506772518158, 0.011581695638597012, 0.20074939727783203, 0.12257295101881027, 0.12742671370506287, 0.14112325012683868, 0.30450335144996643, 0.03742089495062828, 0.20838302373886108, 0.01467486098408699, 0.02812681719660759, 0.02812681719660759, 0.0914733037352562, 0.018343577161431313, 0.9844169616699219, 0.9892358779907227, 0.14746442437171936, 0.10533172637224197, 0.7433410882949829, 0.20648938417434692, 0.05697830766439438, 0.038289424031972885, 0.20648938417434692, 0.43121182918548584, 0.012763140723109245, 0.015498099848628044, 0.03236367926001549, 0.21662667393684387, 0.12378667294979095, 0.649880051612854, 0.8850365877151489, 0.11182772368192673, 0.9986457228660583, 0.06860767304897308, 0.04900548234581947, 0.2310258448123932, 0.10921221971511841, 0.5418606400489807, 0.07849405705928802, 0.13181078433990479, 0.19697566330432892, 0.589445948600769, 0.1291295439004898, 0.09587544947862625, 0.09673919528722763, 0.024616669863462448, 0.22500500082969666, 0.022889183834195137, 0.10537661612033844, 0.17749914526939392, 0.12221960723400116, 0.07272721081972122, 0.48382487893104553, 0.03518297150731087, 0.09633994847536087, 0.2835889160633087, 0.028099151328206062, 0.9906021356582642, 0.16693001985549927, 0.23993347585201263, 0.24107059836387634, 0.30543190240859985, 0.0463947169482708, 0.06371387094259262, 0.9273907542228699, 0.12948034703731537, 0.03671685606241226, 0.1287032663822174, 0.009033512324094772, 0.0719766914844513, 0.12132103741168976, 0.11675571650266647, 0.03147159144282341, 0.11724139004945755, 0.004662457853555679, 0.04167071729898453, 0.1160757765173912, 0.03574551269412041, 0.03904808685183525, 0.99364173412323, 0.04568633437156677, 0.9463597536087036, 0.9973382353782654, 0.9908527731895447, 0.21564745903015137, 0.0072243707254529, 0.1928907036781311, 0.3167886435985565, 0.03431576117873192, 0.03214845061302185, 0.10547581315040588, 0.021311894059181213, 0.0736885815858841, 0.1508748084306717, 0.10422272980213165, 0.6302993893623352, 0.006948181893676519, 0.10720052570104599, 0.12876781821250916, 0.1326502561569214, 0.16435690224170685, 0.5739550590515137, 0.994763970375061, 0.986907958984375, 0.552873969078064, 0.2608799338340759, 0.1858869194984436, 0.9929380416870117, 0.9867112040519714, 0.995499849319458, 0.12594206631183624, 0.12991656363010406, 0.5181758403778076, 0.038502998650074005, 0.0981205403804779, 0.08917790651321411, 0.989795982837677, 0.9938792586326599, 0.9560532569885254, 0.21067754924297333, 0.782516598701477, 0.9878725409507751, 0.1494964063167572, 0.619484007358551, 0.19282390177249908, 0.03803559020161629, 0.9787368178367615, 0.9818101525306702, 0.9928672909736633, 0.36317339539527893, 0.6239132881164551, 0.7929601073265076, 0.2054053395986557, 0.9944975972175598, 0.1261247843503952, 0.04850953072309494, 0.6694315075874329, 0.15523049235343933, 0.9914841055870056, 0.9908221364021301, 0.9799506068229675, 0.9053133726119995, 0.17930610477924347, 0.030494235455989838, 0.05732916295528412, 0.658675491809845, 0.015857001766562462, 0.05732916295528412, 0.1624552309513092, 0.8369182348251343, 0.5242504477500916, 0.4696410596370697, 0.9869439601898193, 0.9915101528167725, 0.22576852142810822, 0.741675615310669, 0.03218502923846245, 0.020731398835778236, 0.8876808285713196, 0.05654017999768257, 0.03203943371772766, 0.8840683698654175, 0.10887541621923447, 0.9934726357460022, 0.7969512343406677, 0.1256176382303238, 0.07619430124759674, 0.0496782585978508, 0.06169719249010086, 0.12099059671163559, 0.06410098075866699, 0.08333127200603485, 0.44870683550834656, 0.17147012054920197, 0.7787173390388489, 0.10287797451019287, 0.42161035537719727, 0.035975731909275055, 0.34145388007164, 0.08520568162202835, 0.012307487428188324, 0.9875414967536926, 0.9800918102264404, 0.969630241394043, 0.234879732131958, 0.005570270586758852, 0.0009283784311264753, 0.0054376451298594475, 0.13806313276290894, 0.10265212506055832, 0.07360714673995972, 0.04018552228808403, 0.10411100834608078, 0.0423075295984745, 0.10769189894199371, 0.07586178183555603, 0.027188224717974663, 0.04151177778840065, 0.2413301020860672, 0.056705981492996216, 0.04879352077841759, 0.6514593958854675, 0.12155809253454208, 0.5197387337684631, 0.06389591842889786, 0.2937653958797455, 0.9777055382728577, 0.045513927936553955, 0.08820529282093048, 0.06280216574668884, 0.04057443514466286, 0.03951596841216087, 0.009173350408673286, 0.043397001922130585, 0.026814408600330353, 0.08644118160009384, 0.08502990007400513, 0.06456626951694489, 0.3535268008708954, 0.05433445796370506, 0.050957027822732925, 0.07205642014741898, 0.004777221474796534, 0.03184814378619194, 0.0027867124881595373, 0.03463485464453697, 0.19029265642166138, 0.06807540357112885, 0.3172871172428131, 0.13455840945243835, 0.09235961735248566, 0.9860679507255554, 0.17048555612564087, 0.7411385774612427, 0.0876106321811676, 0.9916261434555054, 0.9958481192588806, 0.645847737789154, 0.06742945313453674, 0.1227426752448082, 0.07059020549058914, 0.02212528884410858, 0.03266113996505737, 0.03740227594971657, 0.9940019845962524, 0.8817043900489807, 0.9924336075782776, 0.9795417189598083, 0.981499195098877, 0.9651823043823242, 0.030586762353777885, 0.9912517070770264, 0.9902117252349854, 0.986532986164093, 0.7255955934524536, 0.10365651547908783, 0.030154623091220856, 0.06030924618244171, 0.06313624233007431, 0.003769327886402607, 0.012250315397977829, 0.11270277947187424, 0.7488473653793335, 0.08264870196580887, 0.055099137127399445, 0.17883703112602234, 0.05122581869363785, 0.010199830867350101, 0.07570540904998779, 0.05983900651335716, 0.002946617780253291, 0.06890552490949631, 0.1699971854686737, 0.15186414122581482, 0.18767689168453217, 0.01654639281332493, 0.026292897760868073, 0.24307939410209656, 0.09723176062107086, 0.6590152382850647, 0.799030065536499, 0.1986028552055359, 0.9943550229072571, 0.9870821237564087, 0.9960480332374573, 0.687354564666748, 0.13789087533950806, 0.17358851432800293, 0.9955381155014038, 0.9876666069030762, 0.9833912253379822, 0.9700944423675537, 0.025641262531280518, 0.990687906742096, 0.10833979398012161, 0.8873544931411743, 0.11678510159254074, 0.8775566220283508, 0.9624918699264526, 0.22284218668937683, 0.17396067082881927, 0.6023927330970764, 0.988663911819458, 0.8203818202018738, 0.1693691462278366, 0.5671613812446594, 0.057083338499069214, 0.20496590435504913, 0.10381823778152466, 0.05908626317977905, 0.008011696860194206, 0.7476955056190491, 0.0022023431956768036, 0.17068159580230713, 0.07928435504436493, 0.015848981216549873, 0.3292059898376465, 0.03532058745622635, 0.11592397838830948, 0.27713078260421753, 0.20150847733020782, 0.02445271424949169, 0.9925928711891174, 0.8096624612808228, 0.011931867338716984, 0.022159181535243988, 0.052841126918792725, 0.1031254231929779, 0.6523512601852417, 0.014466555789113045, 0.03254975005984306, 0.22784824669361115, 0.07188069820404053, 0.9916507601737976, 0.0927271693944931, 0.01508723571896553, 0.10450877249240875, 0.08560734987258911, 0.10416973382234573, 0.11874841153621674, 0.0033056302927434444, 0.0780637264251709, 0.056619513779878616, 0.08772633969783783, 0.004746546037495136, 0.061111778020858765, 0.14621056616306305, 0.03720952942967415, 0.003983708098530769, 0.9796107411384583, 0.9068841934204102, 0.08878586441278458, 0.9113088846206665, 0.03660648688673973, 0.0481664314866066, 0.9858227372169495, 0.23948261141777039, 0.06956195086240768, 0.03768836334347725, 0.0945439487695694, 0.20545540750026703, 0.004953327588737011, 0.1901647001504898, 0.025412723422050476, 0.04867182672023773, 0.06353180855512619, 0.02045939676463604, 0.9830614924430847, 0.9835911393165588, 0.9536301493644714, 0.040012456476688385, 0.9882512092590332, 0.9956150650978088, 0.5976208448410034, 0.03453991189599037, 0.13735640048980713, 0.15261822938919067, 0.0771123617887497, 0.6067990064620972, 0.13604390621185303, 0.08961622416973114, 0.16627588868141174, 0.9929191470146179, 0.9880917072296143, 0.132907435297966, 0.8610090017318726, 0.9968997240066528, 0.7894600033760071, 0.018067242577672005, 0.0196383073925972, 0.04163321480154991, 0.13039836287498474, 0.9954991340637207, 0.13399219512939453, 0.40290385484695435, 0.3927037715911865, 0.0384821891784668, 0.031527575105428696, 0.9916390776634216, 0.06077713146805763, 0.18645654618740082, 0.0013750481884926558, 0.1633557230234146, 0.1523553431034088, 0.2816098928451538, 0.04455156251788139, 0.021725762635469437, 0.05885206535458565, 0.003025106154382229, 0.02585090696811676, 0.27145761251449585, 0.5391449928283691, 0.18851223587989807, 0.9824389219284058, 0.9883222579956055, 0.9608092904090881, 0.2699046730995178, 0.012566990219056606, 0.2876127064228058, 0.19535957276821136, 0.12195692956447601, 0.09967908263206482, 0.011138923466205597, 0.0002856134087778628, 0.0017136804526671767, 0.9883385896682739, 0.9760546088218689, 0.9257105588912964, 0.07350555807352066, 0.07523536682128906, 0.07156534492969513, 0.48627737164497375, 0.3651667833328247, 0.999162495136261, 0.9961190819740295, 0.03763547167181969, 0.07647720724344254, 0.07961349934339523, 0.5495743751525879, 0.1025325357913971, 0.11145889759063721, 0.04221927747130394, 0.2701616883277893, 0.12086180597543716, 0.6078637838363647, 0.050958771258592606, 0.27517735958099365, 0.6624640226364136, 0.9066108465194702, 0.09066107869148254, 0.9901418089866638, 0.9735550284385681, 0.9898945689201355, 0.7994304895401001, 0.1992388665676117, 0.0773252546787262, 0.10343508422374725, 0.02836933173239231, 0.029122499749064445, 0.23850323259830475, 0.329134464263916, 0.05297282338142395, 0.002259504282847047, 0.046445365995168686, 0.08786961436271667, 0.004519008565694094, 0.11451301723718643, 0.035989806056022644, 0.06281857192516327, 0.022248242050409317, 0.3605524003505707, 0.4030857980251312, 0.0006543601048178971, 0.09734022617340088, 0.7869709730148315, 0.01484850887209177, 0.0989900603890419, 0.9715293049812317, 0.9858186841011047, 0.9843916296958923, 0.9109911322593689, 0.08630441874265671, 0.23582854866981506, 0.4951589107513428, 0.24879507720470428, 0.019449777901172638, 0.8728213310241699, 0.12298846244812012, 0.23363244533538818, 0.003594345413148403, 0.0826699435710907, 0.06409915536642075, 0.12100962549448013, 0.02575947530567646, 0.3240901231765747, 0.13898135721683502, 0.005990575533360243, 0.9889791011810303, 0.9972549080848694, 0.9810368418693542, 0.9920323491096497, 0.9939767122268677, 0.9925864934921265, 0.9810580611228943, 0.9907786846160889, 0.9973499178886414, 0.9938942790031433, 0.6722995638847351, 0.0382915697991848, 0.23351579904556274, 0.05524029955267906, 0.9958096146583557, 0.9925897717475891, 0.9842293858528137, 0.8912719488143921, 0.10664793103933334, 0.9916781783103943, 0.15529222786426544, 0.05823458358645439, 0.055103693157434464, 0.4877929091453552, 0.1703205108642578, 0.0726366862654686, 0.23634913563728333, 0.09020239859819412, 0.0543728731572628, 0.13074633479118347, 0.3102082312107086, 0.10623139142990112, 0.07165904343128204, 0.9729149341583252, 0.9885667562484741, 0.42146870493888855, 0.5771148204803467, 0.9889370799064636, 0.9836287498474121, 0.18684032559394836, 0.0005263107595965266, 0.06526253372430801, 0.10894633084535599, 0.13447239995002747, 0.08999914675951004, 0.12447249889373779, 0.05105214565992355, 0.14578808844089508, 0.03263126686215401, 0.0015789323952049017, 0.05815734341740608, 0.988982081413269, 0.9740572571754456, 0.2765880227088928, 0.001336173969320953, 0.4845857620239258, 0.1460883617401123, 0.0022269566543400288, 0.05300156772136688, 0.03607669845223427, 0.981325626373291, 0.9860016703605652, 0.22468329966068268, 0.5958991646766663, 0.17583909630775452, 0.9887601137161255, 0.9670431017875671, 0.9889259934425354, 0.9977346658706665, 0.6519194841384888, 0.9914899468421936, 0.9940130114555359, 0.9961604475975037, 0.20228566229343414, 0.09917889535427094, 0.6971981525421143, 0.9996961951255798, 0.008040225133299828, 0.15678438544273376, 0.6452280282974243, 0.18693523108959198, 0.048345897346735, 0.4396454989910126, 0.18205252289772034, 0.2145349234342575, 0.08536072820425034, 0.029460780322551727, 0.17896665632724762, 0.7680065035820007, 0.05213989317417145, 0.0015919423894956708, 0.2722221314907074, 0.07641322910785675, 0.585834801197052, 0.03502273187041283, 0.02865496277809143, 0.9877210259437561, 0.17316776514053345, 0.07318399846553802, 0.09379920363426208, 0.029892055317759514, 0.12472201883792877, 0.4999188482761383, 0.005153802689164877, 0.9825658202171326, 0.9926279187202454, 0.985359251499176, 0.9951965808868408, 0.9769149422645569, 0.16478762030601501, 0.07272004336118698, 0.2325039803981781, 0.09990666061639786, 0.18346799910068512, 0.18313442170619965, 0.047201309353113174, 0.016178540885448456, 0.997229814529419, 0.9876006245613098, 0.9797030687332153, 0.27372556924819946, 0.7253727912902832, 0.16809402406215668, 0.05345158651471138, 0.12107977271080017, 0.16975760459899902, 0.2092495709657669, 0.21055150032043457, 0.050630729645490646, 0.004050458315759897, 0.01301933079957962, 0.9977925419807434, 0.2696647346019745, 0.14129693806171417, 0.39156797528266907, 0.12836779654026031, 0.06926320493221283, 0.9813363552093506, 0.9526175260543823, 0.9855176210403442, 0.22087283432483673, 0.1286637932062149, 0.49964439868927, 0.1501077562570572, 0.9526602625846863, 0.982455313205719, 0.9923871159553528, 0.975960373878479, 0.017907530069351196, 0.30703526735305786, 0.35983750224113464, 0.3314807415008545, 0.08220399916172028, 0.050443362444639206, 0.24287544190883636, 0.622134804725647, 0.9854385852813721, 0.9509521126747131, 0.7413640022277832, 0.030844267457723618, 0.1024470329284668, 0.0044063241221010685, 0.09693912416696548, 0.022031620144844055, 0.030155226588249207, 0.5415505766868591, 0.07305647432804108, 0.17440290749073029, 0.012435144744813442, 0.16818533837795258, 0.20992431044578552, 0.0513148307800293, 0.09951967000961304, 0.040429867804050446, 0.07619474828243256, 0.1897093802690506, 0.33121392130851746, 0.2160353809595108, 0.2427826225757599, 0.5390596985816956, 0.22874267399311066, 0.7597524523735046], \"Term\": [\"abdominal\", \"abnormality\", \"absorption\", \"academic\", \"academic\", \"acceptable\", \"accessible\", \"accommodate\", \"accommodate\", \"accordance\", \"accuracy\", \"accuracy\", \"acetate\", \"achievement\", \"acid\", \"acid\", \"acid\", \"acid\", \"acid\", \"acid\", \"acquire\", \"acquire\", \"acquire\", \"acquire\", \"acquire\", \"acquire\", \"acquire\", \"activate\", \"activate\", \"activate\", \"activation\", \"activation\", \"active\", \"active\", \"active\", \"active\", \"active\", \"active\", \"activity\", \"activity\", \"activity\", \"activity\", \"acute\", \"acute\", \"acute\", \"acute\", \"acute\", \"acute\", \"acute\", \"ad\", \"adaptive\", \"adaptive\", \"adaptive\", \"adaptive\", \"adenovirus\", \"adhere\", \"adjust\", \"adjust\", \"adjust\", \"adjuvant\", \"admission\", \"admit\", \"adoption\", \"advance\", \"advance\", \"advance\", \"advancement\", \"advantage\", \"advantage\", \"advantage\", \"advantage\", \"advantage\", \"advice\", \"aerosol\", \"aetiology\", \"affect\", \"affect\", \"affect\", \"affect\", \"affect\", \"affect\", \"affect\", \"affect\", \"affect\", \"affect\", \"agar\", \"age\", \"age\", \"age\", \"age\", \"aged\", \"agency\", \"agent\", \"agent\", \"agent\", \"agent\", \"agent\", \"agent\", \"agent\", \"agent\", \"agent\", \"aim\", \"aim\", \"aim\", \"aim\", \"aim\", \"aim\", \"aim\", \"aim\", \"aim\", \"aim\", \"aim\", \"airborne\", \"airborne\", \"alcohol\", \"algorithm\", \"allele\", \"allele\", \"allergy\", \"ameliorate\", \"amino\", \"amino\", \"amplification\", \"analog\", \"analysis\", \"analysis\", \"analysis\", \"analysis\", \"analysis\", \"analysis\", \"analysis\", \"analysis\", \"analysis\", \"analyze\", \"analyze\", \"analyze\", \"analyze\", \"analyze\", \"analyze\", \"analyze\", \"analyze\", \"ancestor\", \"ancient\", \"anemia\", \"animal\", \"animal\", \"animal\", \"animal\", \"animal\", \"animal\", \"animal\", \"animal\", \"anti\", \"anti\", \"anti\", \"anti\", \"anti\", \"anti\", \"antibacterial\", \"antibody\", \"antibody\", \"antibody\", \"antibody\", \"antigen\", \"antigen\", \"antigen\", \"antigen\", \"antigens\", \"antioxidant\", \"antisense\", \"antitumor\", \"antiviral\", \"antiviral\", \"antiviral\", \"antiviral\", \"apoptosis\", \"apoptosis\", \"apparent\", \"apparent\", \"apparent\", \"apparently\", \"appendix\", \"application\", \"application\", \"application\", \"application\", \"application\", \"apply\", \"apply\", \"apply\", \"apply\", \"apply\", \"apply\", \"approach\", \"approach\", \"approach\", \"approach\", \"approach\", \"approach\", \"approval\", \"arabian\", \"ard\", \"arm\", \"art\", \"art\", \"article\", \"article\", \"article\", \"aspirate\", \"assay\", \"assay\", \"assay\", \"assay\", \"associate\", \"associate\", \"associate\", \"associate\", \"associate\", \"associate\", \"associate\", \"associate\", \"associate\", \"associate\", \"association\", \"association\", \"association\", \"association\", \"asthma\", \"astrocyte\", \"attend\", \"attenuate\", \"attenuate\", \"attenuate\", \"attitude\", \"attribution\", \"aureus\", \"autophagy\", \"awareness\", \"bacillus\", \"background\", \"background\", \"background\", \"background\", \"background\", \"background\", \"background\", \"bacterium\", \"base\", \"base\", \"base\", \"base\", \"base\", \"base\", \"base\", \"base\", \"base\", \"bat\", \"bearing\", \"bed\", \"belong\", \"belong\", \"belong\", \"belong\", \"belong\", \"bind\", \"bind\", \"binding\", \"bioactive\", \"biology\", \"biology\", \"biology\", \"biology\", \"biomedical\", \"biosecurity\", \"biosynthesis\", \"biosynthesis\", \"bl\", \"blood\", \"blood\", \"blood\", \"blood\", \"blood\", \"blot\", \"blot\", \"blot\", \"blue\", \"bond\", \"bone\", \"bovi\", \"bovine\", \"bovine\", \"bovine\", \"bovine\", \"bovine\", \"brain\", \"brain\", \"breast\", \"breed\", \"bring\", \"bring\", \"bronchial\", \"bronchitis\", \"bronchitis\", \"bronchitis\", \"bud\", \"bundle\", \"calculation\", \"calf\", \"camel\", \"camp\", \"campaign\", \"cancer\", \"cancer\", \"cancer\", \"cancer\", \"candidate\", \"candidate\", \"candidate\", \"candidate\", \"candidate\", \"candidate\", \"candidate\", \"canine\", \"cap\", \"cap\", \"cap\", \"capillary\", \"captive\", \"carcinoma\", \"care\", \"care\", \"care\", \"carriage\", \"case\", \"case\", \"case\", \"case\", \"case\", \"case\", \"case\", \"case\", \"caspase\", \"cat\", \"catalytic\", \"cattle\", \"cause\", \"cause\", \"cause\", \"cause\", \"cause\", \"cause\", \"cause\", \"cause\", \"cause\", \"cause\", \"cause\", \"ccl\", \"cd\", \"cell\", \"cell\", \"cell\", \"cell\", \"cell\", \"cell\", \"cell\", \"cellular\", \"cellular\", \"cellular\", \"cellular\", \"chain\", \"chain\", \"chain\", \"chain\", \"chain\", \"chain\", \"challenge\", \"challenge\", \"challenge\", \"challenge\", \"challenge\", \"challenge\", \"chamber\", \"change\", \"change\", \"change\", \"change\", \"change\", \"change\", \"change\", \"change\", \"change\", \"checklist\", \"chemistry\", \"chemokine\", \"chemotherapy\", \"chest\", \"chicken\", \"child\", \"childhood\", \"childhood\", \"chimeric\", \"cholera\", \"chromatography\", \"chromatography\", \"chronic\", \"chronic\", \"chronic\", \"chronic\", \"chronic\", \"chronic\", \"clade\", \"cleavage\", \"clinical\", \"clinical\", \"clinical\", \"clinical\", \"clinical\", \"clinical\", \"closely\", \"closely\", \"closely\", \"closely\", \"closely\", \"cluster\", \"cluster\", \"cluster\", \"cluster\", \"cluster\", \"clustered\", \"coinfection\", \"coli\", \"coli\", \"collaboration\", \"colleague\", \"college\", \"color\", \"column\", \"comment\", \"common\", \"common\", \"common\", \"common\", \"common\", \"common\", \"common\", \"common\", \"common\", \"common\", \"communicable\", \"communicate\", \"compare\", \"compare\", \"compare\", \"compare\", \"compare\", \"compare\", \"compare\", \"compare\", \"compare\", \"compare\", \"compile\", \"complete\", \"complete\", \"complete\", \"complete\", \"complete\", \"complete\", \"complete\", \"complete\", \"compound\", \"computationally\", \"con\", \"concentration\", \"concentration\", \"concentration\", \"concentration\", \"concentration\", \"conceptual\", \"concern\", \"concern\", \"concern\", \"concern\", \"concern\", \"conclusion\", \"conclusion\", \"conclusion\", \"conclusion\", \"conclusion\", \"conclusion\", \"conclusion\", \"condensation\", \"condition\", \"condition\", \"condition\", \"condition\", \"condition\", \"condition\", \"condition\", \"condition\", \"conduct\", \"conduct\", \"conduct\", \"conduct\", \"conduct\", \"conduct\", \"conduct\", \"conduct\", \"confidence\", \"confidence\", \"confidence\", \"conformation\", \"congenital\", \"consistency\", \"consultation\", \"contain\", \"contain\", \"contain\", \"contain\", \"contain\", \"contain\", \"contain\", \"contain\", \"contaminant\", \"contaminate\", \"contaminate\", \"control\", \"control\", \"control\", \"control\", \"control\", \"control\", \"control\", \"control\", \"control\", \"controversial\", \"conventional\", \"conventional\", \"conventional\", \"conventional\", \"conventional\", \"conventional\", \"conventional\", \"cord\", \"coronavirus\", \"coronavirus\", \"coronavirus\", \"coronavirus\", \"coronavirus\", \"coronavirus\", \"correspondence\", \"corticosteroid\", \"cough\", \"counteract\", \"country\", \"country\", \"country\", \"country\", \"country\", \"country\", \"couple\", \"couple\", \"couple\", \"couple\", \"couple\", \"couple\", \"couple\", \"creatinine\", \"creative\", \"credit\", \"crisis\", \"cultural\", \"culture\", \"culture\", \"culture\", \"culture\", \"culture\", \"culture\", \"culture\", \"current\", \"current\", \"current\", \"current\", \"current\", \"current\", \"current\", \"cycle\", \"cycle\", \"cycle\", \"cycle\", \"cycle\", \"cystic\", \"cytokine\", \"cytokine\", \"cytomegalovirus\", \"cytometry\", \"cytopathic\", \"dairy\", \"database\", \"database\", \"database\", \"dataset\", \"dataset\", \"datum\", \"datum\", \"datum\", \"datum\", \"datum\", \"datum\", \"datum\", \"datum\", \"datum\", \"datum\", \"day\", \"day\", \"day\", \"day\", \"deal\", \"decrease\", \"decrease\", \"decrease\", \"decrease\", \"decrease\", \"decrease\", \"decrease\", \"decrease\", \"decrease\", \"decrease\", \"defence\", \"defense\", \"defense\", \"definitive\", \"degradation\", \"degradation\", \"degrade\", \"dehydration\", \"delivery\", \"delivery\", \"delivery\", \"delivery\", \"demonstrate\", \"demonstrate\", \"demonstrate\", \"demonstrate\", \"demonstrate\", \"demonstrate\", \"demonstrate\", \"demonstrate\", \"demonstrate\", \"demonstrate\", \"demonstrate\", \"demonstrate\", \"demonstrate\", \"demyelination\", \"department\", \"dependent\", \"dependent\", \"dependent\", \"dependent\", \"dependent\", \"dependent\", \"dependent\", \"dependent\", \"depression\", \"derivative\", \"derivative\", \"describe\", \"describe\", \"describe\", \"describe\", \"describe\", \"describe\", \"describe\", \"describe\", \"describe\", \"describe\", \"describe\", \"descriptive\", \"design\", \"design\", \"design\", \"design\", \"design\", \"design\", \"design\", \"destabilize\", \"destruction\", \"detect\", \"detect\", \"detect\", \"detect\", \"detect\", \"detect\", \"detect\", \"detection\", \"detection\", \"detection\", \"detection\", \"detergent\", \"develop\", \"develop\", \"develop\", \"develop\", \"develop\", \"develop\", \"develop\", \"develop\", \"develop\", \"development\", \"development\", \"development\", \"development\", \"development\", \"development\", \"development\", \"development\", \"development\", \"diagnose\", \"diagnose\", \"diagnosis\", \"diagnosis\", \"diagnosis\", \"diagnostic\", \"diagnostic\", \"diagnostic\", \"diarrhea\", \"diarrhea\", \"diarrheal\", \"diarrhoea\", \"diarrhoea\", \"diet\", \"diet\", \"dietary\", \"difference\", \"difference\", \"difference\", \"difference\", \"difference\", \"difference\", \"difference\", \"different\", \"different\", \"different\", \"different\", \"different\", \"different\", \"different\", \"different\", \"different\", \"different\", \"different\", \"different\", \"differentially\", \"digestive\", \"dimer\", \"dimerization\", \"diminished\", \"disaster\", \"discharge\", \"discontinue\", \"discovery\", \"discovery\", \"discovery\", \"discuss\", \"discuss\", \"discuss\", \"discuss\", \"discuss\", \"disease\", \"disease\", \"disease\", \"disease\", \"disease\", \"disease\", \"disease\", \"disease\", \"disease\", \"disease\", \"disorder\", \"disorder\", \"disorder\", \"disparity\", \"dispersion\", \"distant\", \"distant\", \"distemper\", \"distinct\", \"distinct\", \"distinct\", \"distinct\", \"distinct\", \"disulfide\", \"diverge\", \"divergence\", \"diversity\", \"diversity\", \"doctor\", \"dog\", \"domain\", \"domain\", \"domain\", \"domain\", \"domestic\", \"domestic\", \"domestic\", \"domestic\", \"domestic\", \"dosage\", \"dose\", \"dose\", \"dose\", \"dose\", \"dose\", \"download\", \"draw\", \"dromedary\", \"drug\", \"drug\", \"drug\", \"dry\", \"dry\", \"dynamic\", \"dynamic\", \"dynamic\", \"dynamic\", \"dysfunction\", \"ebv\", \"economic\", \"economic\", \"economic\", \"economic\", \"economic\", \"economy\", \"editor\", \"educational\", \"effect\", \"effect\", \"effect\", \"effect\", \"effect\", \"effect\", \"effect\", \"effect\", \"effect\", \"effective\", \"effective\", \"effective\", \"effective\", \"effective\", \"effective\", \"effective\", \"effective\", \"efficacious\", \"efficacious\", \"efficacy\", \"efficacy\", \"efficacy\", \"efficacy\", \"egg\", \"electron\", \"electron\", \"electrophoresis\", \"elicit\", \"elicit\", \"elicit\", \"emerge\", \"emerge\", \"emerge\", \"emerge\", \"emerge\", \"emerge\", \"emerge\", \"emission\", \"emotion\", \"emotional\", \"enable\", \"enable\", \"enable\", \"enable\", \"enable\", \"enable\", \"encode\", \"encode\", \"encode\", \"encourage\", \"endoplasmic\", \"engagement\", \"enhancer\", \"enteric\", \"enteric\", \"enteritis\", \"entry\", \"entry\", \"entry\", \"entry\", \"envelop\", \"envelope\", \"epidemic\", \"epidemic\", \"epidemic\", \"epidemic\", \"epidemic\", \"epidemiologic\", \"episode\", \"epithelia\", \"epithelium\", \"epitope\", \"epitope\", \"epsilon\", \"equation\", \"equine\", \"equine\", \"era\", \"error\", \"error\", \"escherichia\", \"escherichia\", \"ester\", \"estimate\", \"estimate\", \"estimate\", \"estimate\", \"estimate\", \"etiological\", \"etiological\", \"etiology\", \"etiology\", \"evaluate\", \"evaluate\", \"evaluate\", \"evaluate\", \"evaluate\", \"evaluate\", \"evaluate\", \"evaluate\", \"evaluate\", \"evolution\", \"evolution\", \"evolution\", \"evolutionary\", \"evolutionary\", \"exacerbation\", \"examination\", \"examination\", \"examination\", \"examine\", \"examine\", \"examine\", \"examine\", \"examine\", \"examine\", \"examine\", \"examine\", \"exchange\", \"excretion\", \"exhibit\", \"exhibit\", \"exhibit\", \"exhibit\", \"exhibit\", \"exhibit\", \"exhibit\", \"exit\", \"expiratory\", \"express\", \"express\", \"express\", \"express\", \"express\", \"expression\", \"expression\", \"expression\", \"expression\", \"extract\", \"extract\", \"extract\", \"extract\", \"extract\", \"extraction\", \"extraction\", \"face\", \"face\", \"face\", \"facility\", \"facility\", \"factor\", \"factor\", \"factor\", \"factor\", \"factor\", \"factor\", \"factor\", \"factor\", \"factor\", \"false\", \"family\", \"family\", \"family\", \"family\", \"family\", \"family\", \"farm\", \"farm\", \"fatal\", \"fatal\", \"fatal\", \"fear\", \"febrile\", \"febrile\", \"feed\", \"feeding\", \"feel\", \"feline\", \"fiber\", \"field\", \"field\", \"field\", \"field\", \"field\", \"field\", \"file\", \"film\", \"filtration\", \"financial\", \"find\", \"find\", \"find\", \"find\", \"find\", \"find\", \"find\", \"find\", \"find\", \"find\", \"find\", \"find\", \"firstly\", \"fit\", \"fit\", \"fitting\", \"flavonoid\", \"fluid\", \"fluid\", \"fluid\", \"fluid\", \"focus\", \"focus\", \"focus\", \"focus\", \"follow\", \"follow\", \"follow\", \"follow\", \"follow\", \"follow\", \"follow\", \"follow\", \"follow\", \"follow\", \"follow\", \"follow\", \"follow\", \"follow\", \"food\", \"food\", \"food\", \"form\", \"form\", \"form\", \"form\", \"form\", \"form\", \"form\", \"form\", \"form\", \"form\", \"form\", \"free\", \"free\", \"free\", \"free\", \"free\", \"free\", \"free\", \"freeze\", \"frequent\", \"frequent\", \"fulfil\", \"function\", \"function\", \"function\", \"function\", \"function\", \"fund\", \"funding\", \"fungi\", \"fuse\", \"fusion\", \"future\", \"future\", \"future\", \"future\", \"future\", \"future\", \"gastroenteritis\", \"gel\", \"gender\", \"gene\", \"gene\", \"gene\", \"gene\", \"gene\", \"gene\", \"gene\", \"gene\", \"genera\", \"genetic\", \"genetic\", \"genetic\", \"genetic\", \"genetic\", \"genome\", \"genome\", \"genome\", \"genome\", \"genomic\", \"genomic\", \"genomic\", \"genomic\", \"genotype\", \"genotype\", \"genotype\", \"genus\", \"genus\", \"genus\", \"gland\", \"global\", \"global\", \"global\", \"global\", \"glycan\", \"glycoprotein\", \"glycoprotein\", \"glycosylation\", \"golgi\", \"governance\", \"government\", \"graphical\", \"group\", \"group\", \"group\", \"group\", \"group\", \"group\", \"group\", \"group\", \"group\", \"group\", \"guideline\", \"guideline\", \"habitat\", \"haemophilus\", \"halt\", \"head\", \"health\", \"health\", \"health\", \"health\", \"health\", \"health\", \"healthy\", \"healthy\", \"healthy\", \"healthy\", \"healthy\", \"heart\", \"heart\", \"helix\", \"helpful\", \"hematopoietic\", \"heparin\", \"hepatocyte\", \"herbal\", \"herd\", \"herpe\", \"herpe\", \"high\", \"high\", \"high\", \"high\", \"high\", \"high\", \"high\", \"high\", \"high\", \"high\", \"high\", \"high\", \"high\", \"histological\", \"histology\", \"histopathology\", \"homeostasis\", \"horse\", \"hospital\", \"hospitalise\", \"hospitalize\", \"hospitalize\", \"host\", \"host\", \"host\", \"host\", \"housing\", \"hr\", \"hsv\", \"http\", \"http\", \"human\", \"human\", \"human\", \"human\", \"human\", \"human\", \"human\", \"human\", \"human\", \"human\", \"humoral\", \"hydrophobic\", \"identify\", \"identify\", \"identify\", \"identify\", \"identify\", \"identify\", \"identify\", \"identify\", \"identify\", \"identify\", \"identity\", \"identity\", \"illness\", \"illness\", \"illness\", \"immune\", \"immune\", \"immune\", \"immunity\", \"immunity\", \"immunity\", \"immunity\", \"immunize\", \"immunologically\", \"immunosorbent\", \"impact\", \"impact\", \"impact\", \"impact\", \"impact\", \"impact\", \"impact\", \"impact\", \"implement\", \"implement\", \"implement\", \"implementation\", \"implementation\", \"implementation\", \"implicate\", \"implicate\", \"implicate\", \"implicate\", \"important\", \"important\", \"important\", \"important\", \"important\", \"important\", \"important\", \"important\", \"important\", \"important\", \"important\", \"improve\", \"improve\", \"improve\", \"improve\", \"improve\", \"improve\", \"improve\", \"improve\", \"improve\", \"improve\", \"inactivated\", \"inactivated\", \"inactivated\", \"inadequate\", \"include\", \"include\", \"include\", \"include\", \"include\", \"include\", \"include\", \"include\", \"include\", \"include\", \"include\", \"include\", \"income\", \"increase\", \"increase\", \"increase\", \"increase\", \"increase\", \"increase\", \"increase\", \"increase\", \"increase\", \"increase\", \"increase\", \"increase\", \"increase\", \"increase\", \"indicate\", \"indicate\", \"indicate\", \"indicate\", \"indicate\", \"indicate\", \"indicate\", \"indicate\", \"indicate\", \"indicate\", \"indicate\", \"indicate\", \"indicate\", \"indicate\", \"indication\", \"indoor\", \"induce\", \"induce\", \"induce\", \"induce\", \"induce\", \"induce\", \"induced\", \"inducer\", \"inducible\", \"induction\", \"induction\", \"induction\", \"industry\", \"industry\", \"industry\", \"industry\", \"industry\", \"infect\", \"infect\", \"infect\", \"infect\", \"infect\", \"infect\", \"infect\", \"infect\", \"infect\", \"infect\", \"infection\", \"infection\", \"infection\", \"infection\", \"infection\", \"infection\", \"infection\", \"infection\", \"infection\", \"infection\", \"infection\", \"infectious\", \"infectious\", \"infectious\", \"infectious\", \"infectious\", \"infectious\", \"infectious\", \"infectious\", \"infectious\", \"infectious\", \"infectious\", \"infiltrate\", \"infiltration\", \"inflammation\", \"inflammation\", \"inflammatory\", \"inflammatory\", \"inflammatory\", \"influenzae\", \"inform\", \"inform\", \"inform\", \"information\", \"information\", \"information\", \"information\", \"information\", \"information\", \"information\", \"information\", \"infrastructure\", \"inhalation\", \"inhibit\", \"inhibit\", \"inhibit\", \"inhibited\", \"inhibition\", \"inhibition\", \"inhibition\", \"inhibitor\", \"inhibitor\", \"inhibitor\", \"inhibitory\", \"inhibitory\", \"inject\", \"inject\", \"injection\", \"injection\", \"injury\", \"injury\", \"injury\", \"injury\", \"innate\", \"innate\", \"innate\", \"innovation\", \"innovative\", \"inoculate\", \"inoculate\", \"inoculated\", \"inoculated\", \"inoculation\", \"inoculation\", \"inpatient\", \"insignificant\", \"institution\", \"insurance\", \"intake\", \"intelligence\", \"intensify\", \"intensive\", \"intensive\", \"intensive\", \"intention\", \"interaction\", \"interaction\", \"interaction\", \"interaction\", \"interaction\", \"interaction\", \"interaction\", \"interest\", \"interest\", \"interest\", \"interest\", \"interest\", \"interest\", \"interest\", \"interferon\", \"interferon\", \"interleukin\", \"international\", \"international\", \"international\", \"international\", \"international\", \"internet\", \"interstitial\", \"interval\", \"interval\", \"interval\", \"interval\", \"interventional\", \"interview\", \"intestinal\", \"intestinal\", \"intestinal\", \"intestine\", \"intestine\", \"intramolecular\", \"intravenous\", \"intron\", \"invasive\", \"inventory\", \"investigate\", \"investigate\", \"investigate\", \"investigate\", \"investigate\", \"investigate\", \"investigate\", \"investigate\", \"investigate\", \"investigate\", \"investigate\", \"investigate\", \"involve\", \"involve\", \"involve\", \"involve\", \"involve\", \"involve\", \"involve\", \"involve\", \"involve\", \"irradiation\", \"irrespective\", \"isoform\", \"isolate\", \"isolate\", \"isolate\", \"isolate\", \"isolate\", \"isolate\", \"isothermal\", \"isotype\", \"item\", \"job\", \"join\", \"jointly\", \"journal\", \"kg\", \"kidney\", \"kidney\", \"kidney\", \"kidney\", \"kidney\", \"killer\", \"kinase\", \"kit\", \"knockdown\", \"lab\", \"label\", \"label\", \"label\", \"laboratory\", \"laboratory\", \"laboratory\", \"laboratory\", \"laboratory\", \"lactate\", \"lamp\", \"language\", \"laser\", \"latency\", \"layer\", \"layer\", \"layer\", \"lead\", \"lead\", \"lead\", \"lead\", \"lead\", \"lead\", \"lead\", \"lead\", \"lead\", \"lead\", \"lead\", \"lectin\", \"legal\", \"lesion\", \"lethal\", \"lethal\", \"lethal\", \"lethal\", \"leukemia\", \"leukocyte\", \"level\", \"level\", \"level\", \"level\", \"level\", \"level\", \"level\", \"level\", \"level\", \"level\", \"level\", \"level\", \"license\", \"license\", \"license\", \"license\", \"lineage\", \"lineage\", \"linker\", \"linker\", \"liquid\", \"liquid\", \"liquid\", \"litter\", \"live\", \"live\", \"live\", \"live\", \"live\", \"live\", \"live\", \"livestock\", \"livestock\", \"lobe\", \"logistic\", \"longitudinal\", \"loss\", \"loss\", \"loss\", \"loss\", \"loss\", \"loss\", \"loss\", \"loss\", \"low\", \"low\", \"low\", \"low\", \"low\", \"low\", \"low\", \"low\", \"low\", \"low\", \"low\", \"low\", \"lung\", \"lung\", \"lymph\", \"lymphocyte\", \"lymphocytic\", \"lymphoid\", \"macaque\", \"machinery\", \"macrophage\", \"macrophage\", \"magnetic\", \"malaria\", \"malignancy\", \"maltose\", \"management\", \"management\", \"management\", \"manager\", \"manipulate\", \"manufacture\", \"mark\", \"mark\", \"mark\", \"mark\", \"mark\", \"mark\", \"marrow\", \"mass\", \"mathematical\", \"mathematical\", \"mean\", \"mean\", \"mean\", \"mean\", \"mean\", \"mean\", \"mean\", \"mean\", \"mean\", \"mean\", \"measle\", \"measure\", \"measure\", \"measure\", \"measure\", \"measure\", \"measure\", \"measure\", \"mechanism\", \"mechanism\", \"mechanism\", \"mechanism\", \"mechanism\", \"mechanism\", \"mechanism\", \"median\", \"median\", \"mediate\", \"mediate\", \"mediate\", \"mediate\", \"mediate\", \"mediator\", \"medical\", \"medical\", \"medical\", \"medication\", \"meeting\", \"membrane\", \"membrane\", \"membranous\", \"memory\", \"memory\", \"meningitis\", \"meningitis\", \"mental\", \"messenger\", \"method\", \"method\", \"method\", \"method\", \"method\", \"method\", \"method\", \"method\", \"methodological\", \"microbiological\", \"microbiology\", \"microbiome\", \"microscope\", \"microscopy\", \"microscopy\", \"microscopy\", \"microtubule\", \"middle\", \"middle\", \"middle\", \"milk\", \"mitigate\", \"mixture\", \"mixture\", \"modality\", \"model\", \"model\", \"model\", \"model\", \"model\", \"model\", \"model\", \"model\", \"model\", \"modeling\", \"modulate\", \"modulate\", \"modulation\", \"modulator\", \"monocyte\", \"mononuclear\", \"month\", \"month\", \"month\", \"month\", \"monthly\", \"motif\", \"motor\", \"mount\", \"mouse\", \"mouse\", \"mouse\", \"multiplex\", \"multiplex\", \"multiplexe\", \"multivariate\", \"murine\", \"murine\", \"muscle\", \"mutant\", \"mutant\", \"mutant\", \"myelin\", \"myeloid\", \"nanoparticle\", \"nanoparticle\", \"nasal\", \"nasal\", \"nation\", \"national\", \"national\", \"necessitate\", \"necrosis\", \"negative\", \"negative\", \"negative\", \"negative\", \"negative\", \"negative\", \"negative\", \"negative\", \"neonatal\", \"neonatal\", \"neonatal\", \"nervous\", \"network\", \"network\", \"network\", \"neurologic\", \"neuron\", \"neuron\", \"neuronal\", \"neutralization\", \"neutralize\", \"neutralize\", \"neutrophil\", \"new\", \"new\", \"new\", \"new\", \"new\", \"new\", \"new\", \"new\", \"new\", \"nitric\", \"node\", \"nonspecific\", \"nonstructural\", \"norm\", \"normal\", \"normal\", \"normal\", \"normal\", \"normal\", \"normal\", \"notion\", \"nowadays\", \"nsp\", \"nucleotide\", \"nucleotide\", \"number\", \"number\", \"number\", \"number\", \"number\", \"number\", \"number\", \"number\", \"number\", \"number\", \"number\", \"number\", \"numerical\", \"nurse\", \"objective\", \"objective\", \"objective\", \"objective\", \"objective\", \"observational\", \"obstacle\", \"obstructive\", \"obtain\", \"obtain\", \"obtain\", \"obtain\", \"obtain\", \"obtain\", \"obtain\", \"obtain\", \"obtain\", \"occupational\", \"occur\", \"occur\", \"occur\", \"occur\", \"occur\", \"occur\", \"occur\", \"odd\", \"official\", \"old\", \"old\", \"old\", \"optimization\", \"optimization\", \"orally\", \"organ\", \"organ\", \"organelle\", \"orient\", \"origin\", \"origin\", \"origin\", \"origin\", \"origin\", \"origin\", \"origin\", \"original\", \"original\", \"original\", \"originally\", \"outbreak\", \"outbreak\", \"outbreak\", \"outbreak\", \"outbreak\", \"outbreak\", \"outcome\", \"outcome\", \"outcome\", \"outcome\", \"outcome\", \"outcome\", \"outcome\", \"outcome\", \"outpatient\", \"output\", \"overcome\", \"overcome\", \"overcome\", \"overcome\", \"overexpression\", \"overview\", \"overview\", \"oxide\", \"oxide\", \"oxygen\", \"oxygen\", \"packaging\", \"pain\", \"pairwise\", \"pandemic\", \"pandemic\", \"pandemic\", \"panel\", \"panel\", \"panel\", \"panel\", \"paper\", \"paper\", \"paper\", \"paper\", \"parameter\", \"parameter\", \"parameter\", \"parvovirus\", \"pathogen\", \"pathogen\", \"pathogen\", \"pathogen\", \"pathogen\", \"pathogen\", \"pathogen\", \"pathogen\", \"pathological\", \"pathophysiology\", \"pathway\", \"pathway\", \"patient\", \"patient\", \"patient\", \"patient\", \"pcr\", \"pcr\", \"ped\", \"pediatric\", \"pegylate\", \"people\", \"people\", \"people\", \"peptide\", \"peptide\", \"peptide\", \"perceive\", \"perception\", \"performance\", \"performance\", \"performance\", \"peripheral\", \"peritoneal\", \"peritonitis\", \"permission\", \"permission\", \"persistently\", \"personnel\", \"pertain\", \"pertinent\", \"phosphatase\", \"phosphatase\", \"phosphorylation\", \"phosphorylation\", \"phylogenetic\", \"phylogeny\", \"physician\", \"pig\", \"piglet\", \"placebo\", \"plan\", \"platelet\", \"platform\", \"platform\", \"platform\", \"platform\", \"platform\", \"play\", \"play\", \"play\", \"play\", \"play\", \"play\", \"pluripotent\", \"pneumococcal\", \"pneumonia\", \"pneumonia\", \"policy\", \"political\", \"pollution\", \"polyclonal\", \"polymerase\", \"polymerase\", \"polymerase\", \"polymorphism\", \"polypeptide\", \"population\", \"population\", \"population\", \"population\", \"population\", \"population\", \"porcine\", \"positive\", \"positive\", \"positive\", \"positive\", \"positive\", \"positive\", \"positive\", \"potent\", \"potent\", \"potent\", \"potential\", \"potential\", \"potential\", \"potential\", \"potential\", \"potential\", \"potential\", \"potential\", \"potential\", \"potential\", \"poultry\", \"powder\", \"practice\", \"practice\", \"practice\", \"predict\", \"predict\", \"predict\", \"predict\", \"prediction\", \"prediction\", \"prediction\", \"predictor\", \"predictor\", \"pregnancy\", \"preparation\", \"preparation\", \"preparation\", \"prepared\", \"preparedness\", \"present\", \"present\", \"present\", \"present\", \"present\", \"present\", \"present\", \"present\", \"present\", \"present\", \"present\", \"present\", \"pretreatment\", \"prevalence\", \"prevalence\", \"prevalence\", \"prevalence\", \"prevention\", \"prevention\", \"prevention\", \"prevention\", \"prevention\", \"primer\", \"primer\", \"primer\", \"priority\", \"private\", \"procedure\", \"procedure\", \"procedure\", \"procedure\", \"procedure\", \"process\", \"process\", \"process\", \"process\", \"process\", \"process\", \"produce\", \"produce\", \"produce\", \"produce\", \"produce\", \"produce\", \"produce\", \"produce\", \"produce\", \"producer\", \"product\", \"product\", \"product\", \"product\", \"product\", \"product\", \"product\", \"production\", \"production\", \"production\", \"production\", \"production\", \"production\", \"production\", \"production\", \"production\", \"professional\", \"progress\", \"progress\", \"progress\", \"progress\", \"progressive\", \"proliferative\", \"prophylactic\", \"propose\", \"propose\", \"propose\", \"propose\", \"propose\", \"propose\", \"propose\", \"prospective\", \"protease\", \"proteasome\", \"protect\", \"protect\", \"protect\", \"protect\", \"protect\", \"protect\", \"protect\", \"protection\", \"protection\", \"protection\", \"protective\", \"protective\", \"protective\", \"protective\", \"protective\", \"protein\", \"protein\", \"protein\", \"protein\", \"protein\", \"protein\", \"protein\", \"protein\", \"protein\", \"proteinase\", \"proteomic\", \"proteomic\", \"proteomic\", \"provide\", \"provide\", \"provide\", \"provide\", \"provide\", \"provide\", \"provide\", \"provide\", \"provide\", \"provide\", \"provide\", \"provider\", \"provincial\", \"public\", \"public\", \"publicly\", \"pulmonary\", \"pulmonary\", \"purchase\", \"purification\", \"purification\", \"purify\", \"purify\", \"pursue\", \"qualitative\", \"quality\", \"quality\", \"quality\", \"quality\", \"quality\", \"quality\", \"quantitatively\", \"quarantine\", \"query\", \"rabie\", \"raft\", \"randomly\", \"randomly\", \"rapid\", \"rapid\", \"rapid\", \"rapid\", \"rapid\", \"rapid\", \"rat\", \"rat\", \"rat\", \"rate\", \"rate\", \"rate\", \"rate\", \"rate\", \"rate\", \"rate\", \"rate\", \"rate\", \"ray\", \"ray\", \"react\", \"reaction\", \"reaction\", \"reaction\", \"reaction\", \"reaction\", \"reaction\", \"reactivity\", \"reactivity\", \"reagent\", \"reagent\", \"real\", \"real\", \"real\", \"realize\", \"receive\", \"receive\", \"receive\", \"receive\", \"recent\", \"recent\", \"recent\", \"recent\", \"recent\", \"recent\", \"receptor\", \"receptor\", \"receptor\", \"receptor\", \"recognise\", \"recombination\", \"recombination\", \"reconstruct\", \"recurrence\", \"reduce\", \"reduce\", \"reduce\", \"reduce\", \"reduce\", \"reduce\", \"reduce\", \"reduce\", \"reduce\", \"reduce\", \"region\", \"region\", \"region\", \"region\", \"region\", \"regression\", \"regression\", \"regression\", \"regulate\", \"regulate\", \"regulated\", \"regulating\", \"regulation\", \"regulation\", \"regulation\", \"regulation\", \"regulatory\", \"regulatory\", \"regulatory\", \"regulatory\", \"rehabilitation\", \"relapse\", \"renal\", \"renal\", \"replication\", \"replication\", \"replication\", \"replication\", \"replication\", \"report\", \"report\", \"report\", \"report\", \"report\", \"report\", \"report\", \"report\", \"report\", \"report\", \"representation\", \"reproducibility\", \"reproductive\", \"reproductive\", \"reproductive\", \"research\", \"research\", \"research\", \"research\", \"research\", \"research\", \"research\", \"research\", \"reserve\", \"reserve\", \"reserve\", \"reservoir\", \"reservoir\", \"residue\", \"resistance\", \"resistance\", \"resistance\", \"resistance\", \"resistance\", \"resistant\", \"resistant\", \"resistant\", \"resistant\", \"respectively\", \"respectively\", \"respectively\", \"respectively\", \"respectively\", \"respectively\", \"respectively\", \"respectively\", \"respectively\", \"respiratory\", \"respiratory\", \"respiratory\", \"respiratory\", \"respiratory\", \"respiratory\", \"respondent\", \"response\", \"response\", \"response\", \"response\", \"response\", \"responsive\", \"responsive\", \"result\", \"result\", \"result\", \"result\", \"result\", \"result\", \"result\", \"result\", \"result\", \"result\", \"result\", \"result\", \"result\", \"result\", \"reticulum\", \"retrieve\", \"retrieve\", \"retrospective\", \"retrospectively\", \"reveal\", \"reveal\", \"reveal\", \"reveal\", \"reveal\", \"reveal\", \"reveal\", \"reveal\", \"reveal\", \"reverse\", \"reverse\", \"reverse\", \"reverse\", \"reverse\", \"review\", \"review\", \"review\", \"review\", \"ribavirin\", \"rig\", \"risk\", \"risk\", \"risk\", \"rnai\", \"robustness\", \"rodent\", \"role\", \"role\", \"role\", \"role\", \"role\", \"role\", \"root\", \"rural\", \"sale\", \"saline\", \"saline\", \"salmonella\", \"sample\", \"sample\", \"sample\", \"sample\", \"sampler\", \"satisfactory\", \"saudi\", \"scanning\", \"scanning\", \"science\", \"science\", \"sclerosis\", \"search\", \"search\", \"search\", \"search\", \"sectional\", \"sector\", \"send\", \"sensing\", \"sensitive\", \"sensitive\", \"sensitive\", \"sensitive\", \"sensitive\", \"sensitive\", \"sensitivity\", \"sensitivity\", \"sensor\", \"sensor\", \"separation\", \"sepsis\", \"sequence\", \"sequence\", \"sequence\", \"sequencing\", \"sequencing\", \"sequencing\", \"sequencing\", \"serological\", \"serological\", \"seroprevalence\", \"service\", \"service\", \"service\", \"set\", \"set\", \"set\", \"set\", \"set\", \"set\", \"set\", \"sev\", \"severe\", \"severe\", \"severe\", \"severe\", \"severe\", \"severe\", \"sheep\", \"shelter\", \"shorten\", \"show\", \"show\", \"show\", \"show\", \"show\", \"show\", \"show\", \"show\", \"show\", \"show\", \"show\", \"show\", \"show\", \"show\", \"sign\", \"sign\", \"sign\", \"sign\", \"signal\", \"signal\", \"signal\", \"signal\", \"signaling\", \"significant\", \"significant\", \"significant\", \"significant\", \"significant\", \"significant\", \"significant\", \"significant\", \"significant\", \"significant\", \"significant\", \"significant\", \"significant\", \"significantly\", \"significantly\", \"significantly\", \"significantly\", \"significantly\", \"significantly\", \"significantly\", \"significantly\", \"significantly\", \"significantly\", \"significantly\", \"simian\", \"similarity\", \"similarity\", \"similarity\", \"simulate\", \"simulation\", \"site\", \"site\", \"site\", \"site\", \"site\", \"site\", \"site\", \"situ\", \"situational\", \"skill\", \"smallpox\", \"smoke\", \"social\", \"social\", \"society\", \"software\", \"solely\", \"specie\", \"specie\", \"specie\", \"specie\", \"specie\", \"specie\", \"specie\", \"species\", \"species\", \"species\", \"species\", \"specific\", \"specific\", \"specific\", \"specific\", \"specific\", \"specific\", \"specific\", \"specific\", \"specific\", \"specific\", \"specific\", \"specific\", \"specificity\", \"specificity\", \"specificity\", \"specimen\", \"specimen\", \"spectrometry\", \"spinal\", \"spleen\", \"spread\", \"spread\", \"spread\", \"sputum\", \"square\", \"stably\", \"staff\", \"staff\", \"standardize\", \"stat\", \"stat\", \"statistically\", \"statistically\", \"stepwise\", \"stimulate\", \"stimulate\", \"stimulate\", \"stimulus\", \"stool\", \"stool\", \"strain\", \"strain\", \"strain\", \"strain\", \"strain\", \"strain\", \"strand\", \"strand\", \"strand\", \"strand\", \"strategy\", \"strategy\", \"strategy\", \"strategy\", \"strategy\", \"strategy\", \"strategy\", \"strengthen\", \"structural\", \"structural\", \"structural\", \"structural\", \"structural\", \"structure\", \"structure\", \"structure\", \"structure\", \"structure\", \"student\", \"study\", \"study\", \"study\", \"study\", \"study\", \"study\", \"study\", \"study\", \"study\", \"study\", \"study\", \"study\", \"study\", \"study\", \"study\", \"subcutaneous\", \"substrate\", \"substrate\", \"subunit\", \"subunit\", \"subunit\", \"suckling\", \"suggest\", \"suggest\", \"suggest\", \"suggest\", \"suggest\", \"suggest\", \"suggest\", \"suggest\", \"suggest\", \"suggest\", \"suggest\", \"suggestion\", \"suitability\", \"supernatant\", \"supernatant\", \"supplementation\", \"suppress\", \"surface\", \"surface\", \"surface\", \"surface\", \"surface\", \"surveillance\", \"surveillance\", \"surveillance\", \"surveillance\", \"survivor\", \"suspension\", \"swabs\", \"swabs\", \"swine\", \"symptom\", \"symptom\", \"symptom\", \"symptom\", \"symptom\", \"symptomatic\", \"syndrome\", \"syndrome\", \"syndrome\", \"syndrome\", \"syndrome\", \"synonymous\", \"system\", \"system\", \"system\", \"system\", \"system\", \"system\", \"system\", \"system\", \"system\", \"system\", \"system\", \"systemic\", \"systemic\", \"systemic\", \"tailor\", \"tandem\", \"tank\", \"target\", \"target\", \"target\", \"target\", \"target\", \"target\", \"target\", \"target\", \"target\", \"taxonomic\", \"teach\", \"technology\", \"technology\", \"temperature\", \"temperature\", \"temperature\", \"temperature\", \"terminal\", \"terminus\", \"test\", \"test\", \"test\", \"test\", \"test\", \"test\", \"test\", \"testing\", \"testing\", \"testing\", \"th\", \"th\", \"th\", \"thermal\", \"thermal\", \"thermodynamic\", \"thicken\", \"thin\", \"threat\", \"threat\", \"time\", \"time\", \"time\", \"time\", \"time\", \"time\", \"time\", \"time\", \"time\", \"time\", \"time\", \"tissue\", \"tissue\", \"tissue\", \"tissue\", \"tissue\", \"tissue\", \"tissue\", \"titer\", \"titer\", \"titer\", \"titer\", \"titre\", \"tobacco\", \"today\", \"toll\", \"toll\", \"tool\", \"tool\", \"tool\", \"tool\", \"topic\", \"topic\", \"total\", \"total\", \"total\", \"total\", \"total\", \"total\", \"total\", \"total\", \"total\", \"tourism\", \"transcriptional\", \"transcriptome\", \"transfecte\", \"transformation\", \"transfusion\", \"translocate\", \"translocation\", \"transmembrane\", \"transmissible\", \"transmission\", \"transmission\", \"transmission\", \"transmission\", \"transplant\", \"transplantation\", \"transportation\", \"travel\", \"travel\", \"traveler\", \"treat\", \"treat\", \"treat\", \"treat\", \"treat\", \"treat\", \"treatment\", \"treatment\", \"treatment\", \"treatment\", \"treatment\", \"treatment\", \"treatment\", \"triple\", \"truncate\", \"tumor\", \"tumor\", \"tumour\", \"turnover\", \"type\", \"type\", \"type\", \"type\", \"type\", \"type\", \"type\", \"type\", \"type\", \"type\", \"type\", \"type\", \"tyrosine\", \"ultraviolet\", \"understand\", \"understand\", \"understand\", \"understand\", \"understand\", \"understand\", \"understand\", \"undetectable\", \"unfold\", \"university\", \"university\", \"university\", \"unnecessary\", \"unpredictable\", \"unrestricte\", \"unrestricted\", \"unsurprisingly\", \"untranslated\", \"urban\", \"vaccinate\", \"vaccination\", \"vaccination\", \"vaccination\", \"vaccine\", \"validate\", \"validate\", \"validate\", \"validate\", \"value\", \"value\", \"value\", \"value\", \"value\", \"value\", \"variant\", \"variant\", \"variant\", \"variety\", \"variety\", \"variety\", \"variety\", \"variety\", \"variety\", \"vascular\", \"vector\", \"vector\", \"vector\", \"vector\", \"vector\", \"vector\", \"vector\", \"versatile\", \"vet\", \"veterinarian\", \"veterinary\", \"victim\", \"viral\", \"viral\", \"viral\", \"viral\", \"viral\", \"viral\", \"viral\", \"viral\", \"virion\", \"virological\", \"virtually\", \"virulent\", \"virulent\", \"virus\", \"virus\", \"virus\", \"virus\", \"virus\", \"virus\", \"virus\", \"virus\", \"virus\", \"visit\", \"vivo\", \"vivo\", \"vivo\", \"vivo\", \"vivo\", \"vlp\", \"voluntary\", \"volunteer\", \"water\", \"water\", \"water\", \"water\", \"waterborne\", \"wealth\", \"wean\", \"web\", \"web\", \"week\", \"week\", \"week\", \"weight\", \"weight\", \"weight\", \"weight\", \"wheeze\", \"willing\", \"world\", \"world\", \"world\", \"world\", \"world\", \"world\", \"year\", \"year\", \"year\", \"year\", \"year\", \"year\", \"yield\", \"yield\", \"yield\", \"yield\", \"yield\", \"yield\", \"yield\", \"young\", \"young\", \"young\", \"zinc\", \"zinc\"]}, \"R\": 30, \"lambda.step\": 0.01, \"plot.opts\": {\"xlab\": \"PC1\", \"ylab\": \"PC2\"}, \"topic.order\": [13, 3, 17, 10, 9, 4, 5, 20, 2, 16, 14, 1, 6, 12, 18, 15, 11, 8, 7, 19]};\n",
       "\n",
       "function LDAvis_load_lib(url, callback){\n",
       "  var s = document.createElement('script');\n",
       "  s.src = url;\n",
       "  s.async = true;\n",
       "  s.onreadystatechange = s.onload = callback;\n",
       "  s.onerror = function(){console.warn(\"failed to load library \" + url);};\n",
       "  document.getElementsByTagName(\"head\")[0].appendChild(s);\n",
       "}\n",
       "\n",
       "if(typeof(LDAvis) !== \"undefined\"){\n",
       "   // already loaded: just create the visualization\n",
       "   !function(LDAvis){\n",
       "       new LDAvis(\"#\" + \"ldavis_el93921232953283656795568480\", ldavis_el93921232953283656795568480_data);\n",
       "   }(LDAvis);\n",
       "}else if(typeof define === \"function\" && define.amd){\n",
       "   // require.js is available: use it to load d3/LDAvis\n",
       "   require.config({paths: {d3: \"https://cdnjs.cloudflare.com/ajax/libs/d3/3.5.5/d3.min\"}});\n",
       "   require([\"d3\"], function(d3){\n",
       "      window.d3 = d3;\n",
       "      LDAvis_load_lib(\"https://cdn.rawgit.com/bmabey/pyLDAvis/files/ldavis.v1.0.0.js\", function(){\n",
       "        new LDAvis(\"#\" + \"ldavis_el93921232953283656795568480\", ldavis_el93921232953283656795568480_data);\n",
       "      });\n",
       "    });\n",
       "}else{\n",
       "    // require.js not available: dynamically load d3 & LDAvis\n",
       "    LDAvis_load_lib(\"https://cdnjs.cloudflare.com/ajax/libs/d3/3.5.5/d3.min.js\", function(){\n",
       "         LDAvis_load_lib(\"https://cdn.rawgit.com/bmabey/pyLDAvis/files/ldavis.v1.0.0.js\", function(){\n",
       "                 new LDAvis(\"#\" + \"ldavis_el93921232953283656795568480\", ldavis_el93921232953283656795568480_data);\n",
       "            })\n",
       "         });\n",
       "}\n",
       "</script>"
      ],
      "text/plain": [
       "PreparedData(topic_coordinates=              x         y  topics  cluster       Freq\n",
       "topic                                                \n",
       "12    -0.130954  0.009760       1        1  11.703519\n",
       "2     -0.124831 -0.154204       2        1  10.122489\n",
       "16    -0.133284 -0.025386       3        1   9.640968\n",
       "9     -0.127945 -0.012124       4        1   8.910065\n",
       "8     -0.156059 -0.054104       5        1   8.708925\n",
       "3     -0.110638 -0.099141       6        1   7.561335\n",
       "4     -0.090721 -0.257116       7        1   6.551439\n",
       "19    -0.141517 -0.004247       8        1   5.702032\n",
       "1     -0.118571 -0.030556       9        1   5.541468\n",
       "15    -0.115859  0.209195      10        1   5.123419\n",
       "13    -0.023285 -0.006439      11        1   4.252671\n",
       "0     -0.062121  0.071660      12        1   4.079256\n",
       "5     -0.091943  0.148839      13        1   3.592832\n",
       "11    -0.018096  0.152215      14        1   2.582767\n",
       "17     0.129551 -0.107213      15        1   2.220999\n",
       "14     0.072543  0.271783      16        1   1.354571\n",
       "10     0.251850 -0.081259      17        1   0.902747\n",
       "7      0.318446 -0.022782      18        1   0.800310\n",
       "6      0.339343 -0.005749      19        1   0.412209\n",
       "18     0.334089 -0.003131      20        1   0.235970, topic_info=             Term          Freq         Total Category  logprob  loglift\n",
       "646          cell  10370.000000  10370.000000  Default  30.0000  30.0000\n",
       "86          virus  13825.000000  13825.000000  Default  29.0000  29.0000\n",
       "1038       induce   3915.000000   3915.000000  Default  28.0000  28.0000\n",
       "550     infection  10426.000000  10426.000000  Default  27.0000  27.0000\n",
       "424       vaccine   2970.000000   2970.000000  Default  26.0000  26.0000\n",
       "...           ...           ...           ...      ...      ...      ...\n",
       "4835      jointly     25.572607     26.694057  Topic20  -4.9806   6.0063\n",
       "4384     appendix     21.499208     22.620659  Topic20  -5.1541   5.9984\n",
       "2667      fitting     21.177698     22.299149  Topic20  -5.1691   5.9976\n",
       "1050  accommodate     46.047153     75.532341  Topic20  -4.3924   5.5543\n",
       "3998   university     35.874981    204.732620  Topic20  -4.6420   4.3076\n",
       "\n",
       "[1331 rows x 6 columns], token_table=      Topic      Freq         Term\n",
       "term                              \n",
       "6533     15  0.990413    abdominal\n",
       "1867     11  0.995962  abnormality\n",
       "6457     14  0.988624   absorption\n",
       "3272      3  0.152621     academic\n",
       "3272      6  0.839417     academic\n",
       "...     ...       ...          ...\n",
       "3607      3  0.216035        young\n",
       "3607     11  0.242783        young\n",
       "3607     13  0.539060        young\n",
       "1248      4  0.228743         zinc\n",
       "1248     19  0.759752         zinc\n",
       "\n",
       "[2976 rows x 3 columns], R=30, lambda_step=0.01, plot_opts={'xlab': 'PC1', 'ylab': 'PC2'}, topic_order=[13, 3, 17, 10, 9, 4, 5, 20, 2, 16, 14, 1, 6, 12, 18, 15, 11, 8, 7, 19])"
      ]
     },
     "execution_count": 49,
     "metadata": {},
     "output_type": "execute_result"
    }
   ],
   "source": [
    "# Visualize the topics\n",
    "\n",
    "pyLDAvis.enable_notebook()\n",
    "vis = pyLDAvis.gensim.prepare(lda_model, corpus, id2word)\n",
    "vis"
   ]
  },
  {
   "cell_type": "code",
   "execution_count": 50,
   "metadata": {},
   "outputs": [
    {
     "name": "stdout",
     "output_type": "stream",
     "text": [
      "[(10,\n",
      "  '0.008*\"disease\" + 0.005*\"result\" + 0.005*\"study\" + 0.005*\"infection\" + '\n",
      "  '0.005*\"base\" + 0.005*\"include\" + 0.004*\"provide\" + 0.004*\"health\" + '\n",
      "  '0.004*\"develop\" + 0.004*\"patient\"'),\n",
      " (23,\n",
      "  '0.013*\"virus\" + 0.011*\"cell\" + 0.010*\"infection\" + 0.007*\"study\" + '\n",
      "  '0.007*\"viral\" + 0.006*\"result\" + 0.006*\"identify\" + 0.005*\"associate\" + '\n",
      "  '0.005*\"role\" + 0.005*\"response\"'),\n",
      " (15,\n",
      "  '0.007*\"virus\" + 0.006*\"increase\" + 0.006*\"infection\" + 0.006*\"study\" + '\n",
      "  '0.005*\"cell\" + 0.005*\"disease\" + 0.005*\"result\" + 0.004*\"high\" + '\n",
      "  '0.004*\"associate\" + 0.004*\"viral\"'),\n",
      " (19,\n",
      "  '0.010*\"virus\" + 0.008*\"study\" + 0.006*\"infection\" + 0.006*\"cell\" + '\n",
      "  '0.006*\"disease\" + 0.005*\"result\" + 0.005*\"cause\" + 0.005*\"provide\" + '\n",
      "  '0.005*\"include\" + 0.004*\"model\"'),\n",
      " (4,\n",
      "  '0.015*\"virus\" + 0.006*\"infection\" + 0.006*\"disease\" + 0.004*\"protein\" + '\n",
      "  '0.004*\"result\" + 0.004*\"viral\" + 0.004*\"high\" + 0.004*\"cell\" + '\n",
      "  '0.004*\"study\" + 0.004*\"identify\"'),\n",
      " (18,\n",
      "  '0.012*\"virus\" + 0.008*\"human\" + 0.008*\"infection\" + 0.007*\"disease\" + '\n",
      "  '0.006*\"identify\" + 0.006*\"result\" + 0.005*\"study\" + 0.005*\"host\" + '\n",
      "  '0.004*\"high\" + 0.004*\"analysis\"'),\n",
      " (7,\n",
      "  '0.010*\"disease\" + 0.008*\"study\" + 0.006*\"infection\" + 0.006*\"include\" + '\n",
      "  '0.005*\"virus\" + 0.005*\"patient\" + 0.005*\"cause\" + 0.005*\"result\" + '\n",
      "  '0.005*\"respiratory\" + 0.005*\"increase\"'),\n",
      " (13,\n",
      "  '0.010*\"virus\" + 0.008*\"protein\" + 0.008*\"result\" + 0.006*\"sequence\" + '\n",
      "  '0.006*\"show\" + 0.005*\"study\" + 0.005*\"analysis\" + 0.005*\"include\" + '\n",
      "  '0.005*\"high\" + 0.004*\"cell\"'),\n",
      " (17,\n",
      "  '0.008*\"infection\" + 0.007*\"disease\" + 0.007*\"virus\" + 0.005*\"cell\" + '\n",
      "  '0.005*\"high\" + 0.005*\"base\" + 0.005*\"show\" + 0.004*\"study\" + '\n",
      "  '0.004*\"protein\" + 0.004*\"human\"'),\n",
      " (21,\n",
      "  '0.009*\"result\" + 0.008*\"study\" + 0.007*\"animal\" + 0.007*\"high\" + '\n",
      "  '0.007*\"virus\" + 0.006*\"sample\" + 0.006*\"disease\" + 0.005*\"infection\" + '\n",
      "  '0.005*\"show\" + 0.005*\"positive\"'),\n",
      " (6,\n",
      "  '0.009*\"study\" + 0.006*\"virus\" + 0.005*\"result\" + 0.005*\"cell\" + '\n",
      "  '0.005*\"disease\" + 0.005*\"identify\" + 0.005*\"include\" + 0.004*\"high\" + '\n",
      "  '0.004*\"induce\" + 0.004*\"increase\"'),\n",
      " (22,\n",
      "  '0.011*\"study\" + 0.009*\"result\" + 0.009*\"patient\" + 0.007*\"high\" + '\n",
      "  '0.007*\"infection\" + 0.006*\"method\" + 0.006*\"conclusion\" + 0.006*\"include\" + '\n",
      "  '0.005*\"report\" + 0.005*\"rate\"'),\n",
      " (20,\n",
      "  '0.018*\"cell\" + 0.010*\"virus\" + 0.010*\"study\" + 0.009*\"infection\" + '\n",
      "  '0.009*\"induce\" + 0.007*\"result\" + 0.007*\"protein\" + 0.007*\"suggest\" + '\n",
      "  '0.007*\"effect\" + 0.006*\"increase\"'),\n",
      " (2,\n",
      "  '0.013*\"virus\" + 0.010*\"protein\" + 0.010*\"cell\" + 0.007*\"host\" + '\n",
      "  '0.006*\"infection\" + 0.006*\"viral\" + 0.005*\"show\" + 0.005*\"study\" + '\n",
      "  '0.005*\"provide\" + 0.005*\"target\"'),\n",
      " (0,\n",
      "  '0.013*\"cell\" + 0.009*\"virus\" + 0.007*\"cd\" + 0.006*\"study\" + 0.006*\"result\" '\n",
      "  '+ 0.006*\"infection\" + 0.006*\"response\" + 0.006*\"immune\" + 0.006*\"specific\" '\n",
      "  '+ 0.005*\"protein\"'),\n",
      " (24,\n",
      "  '0.007*\"virus\" + 0.006*\"cell\" + 0.006*\"study\" + 0.006*\"model\" + '\n",
      "  '0.006*\"infection\" + 0.005*\"effect\" + 0.005*\"disease\" + 0.005*\"cause\" + '\n",
      "  '0.005*\"response\" + 0.004*\"viral\"'),\n",
      " (5,\n",
      "  '0.009*\"study\" + 0.007*\"result\" + 0.007*\"cell\" + 0.006*\"show\" + '\n",
      "  '0.006*\"virus\" + 0.006*\"high\" + 0.005*\"infection\" + 0.005*\"method\" + '\n",
      "  '0.004*\"test\" + 0.004*\"base\"'),\n",
      " (14,\n",
      "  '0.011*\"virus\" + 0.009*\"cell\" + 0.008*\"human\" + 0.008*\"result\" + '\n",
      "  '0.008*\"protein\" + 0.007*\"infection\" + 0.006*\"study\" + 0.006*\"vaccine\" + '\n",
      "  '0.006*\"show\" + 0.005*\"antibody\"'),\n",
      " (25,\n",
      "  '0.008*\"virus\" + 0.008*\"infection\" + 0.005*\"study\" + 0.005*\"cell\" + '\n",
      "  '0.005*\"role\" + 0.005*\"human\" + 0.005*\"identify\" + 0.005*\"disease\" + '\n",
      "  '0.004*\"show\" + 0.004*\"protein\"'),\n",
      " (16,\n",
      "  '0.006*\"virus\" + 0.005*\"result\" + 0.005*\"disease\" + 0.005*\"base\" + '\n",
      "  '0.005*\"study\" + 0.004*\"provide\" + 0.004*\"human\" + 0.004*\"include\" + '\n",
      "  '0.004*\"analysis\" + 0.004*\"high\"')]\n"
     ]
    }
   ],
   "source": [
    "# Select the model and print the topics\n",
    "\n",
    "optimal_model = model_list[3]\n",
    "model_topics = optimal_model.show_topics(formatted=False)\n",
    "pprint(optimal_model.print_topics(num_words=10))"
   ]
  },
  {
   "cell_type": "code",
   "execution_count": 52,
   "metadata": {},
   "outputs": [],
   "source": [
    "# Find the dominant topic in each sentence\n",
    "\n",
    "def format_topics_sentences(ldamodel=lda_model, corpus=corpus, texts=abstract_processed):\n",
    "    # Init output\n",
    "    sent_topics_df = pd.DataFrame()\n",
    "\n",
    "    # Get main topic in each document\n",
    "    for i, row in enumerate(ldamodel[corpus]):\n",
    "        row = sorted(row, key=lambda x: (x[1]), reverse=True)\n",
    "        # Get the Dominant topic, Perc Contribution and Keywords for each document\n",
    "        for j, (topic_num, prop_topic) in enumerate(row):\n",
    "            if j == 0:  # => dominant topic\n",
    "                wp = ldamodel.show_topic(topic_num)\n",
    "                topic_keywords = \", \".join([word for word, prop in wp])\n",
    "                sent_topics_df = sent_topics_df.append(pd.Series([int(topic_num), round(prop_topic,4), topic_keywords]), ignore_index=True)\n",
    "            else:\n",
    "                break\n",
    "    sent_topics_df.columns = ['Dominant_Topic', 'Perc_Contribution', 'Topic_Keywords']\n",
    "\n",
    "    # Add original text to the end of the output\n",
    "    contents = pd.Series(texts)\n",
    "    sent_topics_df = pd.concat([sent_topics_df, contents], axis=1)\n",
    "    return(sent_topics_df)"
   ]
  },
  {
   "cell_type": "code",
   "execution_count": 54,
   "metadata": {},
   "outputs": [],
   "source": [
    "df_topic_sents_keywords = format_topics_sentences(ldamodel=optimal_model, corpus=corpus, texts=abstract_processed)"
   ]
  },
  {
   "cell_type": "code",
   "execution_count": 55,
   "metadata": {},
   "outputs": [],
   "source": [
    "# Format\n",
    "\n",
    "df_dominant_topic = df_topic_sents_keywords.reset_index()\n",
    "df_dominant_topic.columns = ['Document_No', 'Dominant_Topic', 'Topic_Perc_Contrib', 'Keywords', 'Text']"
   ]
  },
  {
   "cell_type": "code",
   "execution_count": 56,
   "metadata": {},
   "outputs": [
    {
     "data": {
      "text/html": [
       "<div>\n",
       "<style scoped>\n",
       "    .dataframe tbody tr th:only-of-type {\n",
       "        vertical-align: middle;\n",
       "    }\n",
       "\n",
       "    .dataframe tbody tr th {\n",
       "        vertical-align: top;\n",
       "    }\n",
       "\n",
       "    .dataframe thead th {\n",
       "        text-align: right;\n",
       "    }\n",
       "</style>\n",
       "<table border=\"1\" class=\"dataframe\">\n",
       "  <thead>\n",
       "    <tr style=\"text-align: right;\">\n",
       "      <th></th>\n",
       "      <th>Document_No</th>\n",
       "      <th>Dominant_Topic</th>\n",
       "      <th>Topic_Perc_Contrib</th>\n",
       "      <th>Keywords</th>\n",
       "      <th>Text</th>\n",
       "    </tr>\n",
       "  </thead>\n",
       "  <tbody>\n",
       "    <tr>\n",
       "      <th>0</th>\n",
       "      <td>0</td>\n",
       "      <td>13.0</td>\n",
       "      <td>0.9898</td>\n",
       "      <td>virus, protein, result, sequence, show, study,...</td>\n",
       "      <td>[investigate, strand, importance, genome, stem...</td>\n",
       "    </tr>\n",
       "    <tr>\n",
       "      <th>1</th>\n",
       "      <td>1</td>\n",
       "      <td>0.0</td>\n",
       "      <td>0.0385</td>\n",
       "      <td>cell, virus, cd, study, result, infection, res...</td>\n",
       "      <td>[]</td>\n",
       "    </tr>\n",
       "    <tr>\n",
       "      <th>2</th>\n",
       "      <td>2</td>\n",
       "      <td>11.0</td>\n",
       "      <td>0.5372</td>\n",
       "      <td>sequence, virus, gene, analysis, study, high, ...</td>\n",
       "      <td>[sample, determine, common, diversity, scrapin...</td>\n",
       "    </tr>\n",
       "    <tr>\n",
       "      <th>3</th>\n",
       "      <td>3</td>\n",
       "      <td>19.0</td>\n",
       "      <td>0.4413</td>\n",
       "      <td>virus, study, infection, cell, disease, result...</td>\n",
       "      <td>[simultaneously, perform, screen, blueprint, s...</td>\n",
       "    </tr>\n",
       "    <tr>\n",
       "      <th>4</th>\n",
       "      <td>4</td>\n",
       "      <td>18.0</td>\n",
       "      <td>0.8397</td>\n",
       "      <td>virus, human, infection, disease, identify, re...</td>\n",
       "      <td>[end, emerge, outbreak, background, cause]</td>\n",
       "    </tr>\n",
       "    <tr>\n",
       "      <th>5</th>\n",
       "      <td>5</td>\n",
       "      <td>17.0</td>\n",
       "      <td>0.7730</td>\n",
       "      <td>infection, disease, virus, cell, high, base, s...</td>\n",
       "      <td>[create, sort, knowledge, angiotensin, convert...</td>\n",
       "    </tr>\n",
       "    <tr>\n",
       "      <th>6</th>\n",
       "      <td>6</td>\n",
       "      <td>2.0</td>\n",
       "      <td>0.7630</td>\n",
       "      <td>virus, protein, cell, host, infection, viral, ...</td>\n",
       "      <td>[array, dominant, demonstrate, specialized, ma...</td>\n",
       "    </tr>\n",
       "    <tr>\n",
       "      <th>7</th>\n",
       "      <td>7</td>\n",
       "      <td>10.0</td>\n",
       "      <td>0.7380</td>\n",
       "      <td>disease, result, study, infection, base, inclu...</td>\n",
       "      <td>[child, often, behavioral, mechanism, still, a...</td>\n",
       "    </tr>\n",
       "    <tr>\n",
       "      <th>8</th>\n",
       "      <td>8</td>\n",
       "      <td>5.0</td>\n",
       "      <td>0.5905</td>\n",
       "      <td>study, result, cell, show, virus, high, infect...</td>\n",
       "      <td>[successfully, study, develop, demonstrate, ce...</td>\n",
       "    </tr>\n",
       "    <tr>\n",
       "      <th>9</th>\n",
       "      <td>9</td>\n",
       "      <td>0.0</td>\n",
       "      <td>0.0385</td>\n",
       "      <td>cell, virus, cd, study, result, infection, res...</td>\n",
       "      <td>[]</td>\n",
       "    </tr>\n",
       "  </tbody>\n",
       "</table>\n",
       "</div>"
      ],
      "text/plain": [
       "   Document_No  Dominant_Topic  Topic_Perc_Contrib  \\\n",
       "0            0            13.0              0.9898   \n",
       "1            1             0.0              0.0385   \n",
       "2            2            11.0              0.5372   \n",
       "3            3            19.0              0.4413   \n",
       "4            4            18.0              0.8397   \n",
       "5            5            17.0              0.7730   \n",
       "6            6             2.0              0.7630   \n",
       "7            7            10.0              0.7380   \n",
       "8            8             5.0              0.5905   \n",
       "9            9             0.0              0.0385   \n",
       "\n",
       "                                            Keywords  \\\n",
       "0  virus, protein, result, sequence, show, study,...   \n",
       "1  cell, virus, cd, study, result, infection, res...   \n",
       "2  sequence, virus, gene, analysis, study, high, ...   \n",
       "3  virus, study, infection, cell, disease, result...   \n",
       "4  virus, human, infection, disease, identify, re...   \n",
       "5  infection, disease, virus, cell, high, base, s...   \n",
       "6  virus, protein, cell, host, infection, viral, ...   \n",
       "7  disease, result, study, infection, base, inclu...   \n",
       "8  study, result, cell, show, virus, high, infect...   \n",
       "9  cell, virus, cd, study, result, infection, res...   \n",
       "\n",
       "                                                Text  \n",
       "0  [investigate, strand, importance, genome, stem...  \n",
       "1                                                 []  \n",
       "2  [sample, determine, common, diversity, scrapin...  \n",
       "3  [simultaneously, perform, screen, blueprint, s...  \n",
       "4         [end, emerge, outbreak, background, cause]  \n",
       "5  [create, sort, knowledge, angiotensin, convert...  \n",
       "6  [array, dominant, demonstrate, specialized, ma...  \n",
       "7  [child, often, behavioral, mechanism, still, a...  \n",
       "8  [successfully, study, develop, demonstrate, ce...  \n",
       "9                                                 []  "
      ]
     },
     "execution_count": 56,
     "metadata": {},
     "output_type": "execute_result"
    }
   ],
   "source": [
    "# Show\n",
    "\n",
    "df_dominant_topic.head(10)"
   ]
  },
  {
   "cell_type": "code",
   "execution_count": null,
   "metadata": {},
   "outputs": [],
   "source": []
  }
 ],
 "metadata": {
  "kernelspec": {
   "display_name": "Python 3",
   "language": "python",
   "name": "python3"
  },
  "language_info": {
   "codemirror_mode": {
    "name": "ipython",
    "version": 3
   },
   "file_extension": ".py",
   "mimetype": "text/x-python",
   "name": "python",
   "nbconvert_exporter": "python",
   "pygments_lexer": "ipython3",
   "version": "3.7.6"
  }
 },
 "nbformat": 4,
 "nbformat_minor": 4
}
